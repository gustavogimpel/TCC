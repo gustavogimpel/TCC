{
 "cells": [
  {
   "cell_type": "markdown",
   "metadata": {},
   "source": [
    "## Aluno: Gustavo Gimpel Correia Lima\n",
    "## Matrícula: `201512040488`\n",
    "\n",
    "## Antes de começar..."
   ]
  },
  {
   "cell_type": "markdown",
   "metadata": {},
   "source": [
    "Nessa prática, iremos entender melhor o conceito de Overfitting e underfitting além de ter o primeiro contato com um método de aprendizado de máquina supervisionado (Árvore de Decisão). Para isso, iremos usar a biblioteca [Scikit Learn](https://scikit-learn.org), além das bibliotecas que usamos na prática passada: pandas, matplotlib e numpy. Clique no código abaixo e pressione ctrl+enter para executá-lo.\n",
    "\n",
    "Para isso, se necessário, instale tais bibliotecas usando `pip3 install pandas matplotlib numpy` (em alguns Sistemas Operacionais/configurações, você usará `pip` ao inves de `pip3`)"
   ]
  },
  {
   "cell_type": "code",
   "execution_count": 1,
   "metadata": {},
   "outputs": [],
   "source": [
    "import numpy as np\n",
    "import pandas as pd\n",
    "import sklearn.datasets\n",
    "import matplotlib.pyplot as plt"
   ]
  },
  {
   "cell_type": "markdown",
   "metadata": {},
   "source": [
    "### ...um pouquinho mais sobre 🐼🐼"
   ]
  },
  {
   "cell_type": "markdown",
   "metadata": {},
   "source": [
    "<a href=\"https://pandas.pydata.org/pandas-docs/stable/reference/api/pandas.DataFrame.drop.html\">**Método drop**</a> Remove colunas ou linhas do dataframe. Utilize inplace=True para a modificação ocorrer no dataframe que está sendo modificado. Veja exemplo:"
   ]
  },
  {
   "cell_type": "code",
   "execution_count": 2,
   "metadata": {},
   "outputs": [
    {
     "name": "stdout",
     "output_type": "stream",
     "text": [
      "   ana  bruna  carol  daniel\n",
      "0    0      1      2       3\n",
      "1    4      5      6       7\n",
      "2    8      9     10      11\n",
      "3   12     13     14      15\n",
      "4   16     17     18      19\n",
      "\n",
      "\n",
      " depois de remover... \n",
      "\n",
      "\n",
      "   ana  bruna\n",
      "0    0      1\n",
      "1    4      5\n",
      "2    8      9\n",
      "3   12     13\n",
      "4   16     17\n"
     ]
    }
   ],
   "source": [
    "df = pd.DataFrame(np.arange(20).reshape(5, 4),columns=['ana', 'bruna', 'carol', 'daniel'])\n",
    "print(df)\n",
    "print(\"\\n\\n depois de remover... \\n\\n\")\n",
    "print(df.drop(['carol', 'daniel'], axis=1))"
   ]
  },
  {
   "cell_type": "markdown",
   "metadata": {},
   "source": [
    "<a href=\"https://pandas.pydata.org/pandas-docs/stable/reference/api/pandas.DataFrame.sample.html\">**Método sample**</a> Extrai uma amostra aleatória do Dataframe. Utilize random_state = \"número inteiro\" para que seja embaralhado sempre da mesma forma - importante para [reprodutibilidade dos resultados](https://pt.wikipedia.org/wiki/Reprodutibilidade). Além disso, você pode remover a amostra selecionada da amostra original por meio dos índices (precisam ser únicos)."
   ]
  },
  {
   "cell_type": "code",
   "execution_count": 3,
   "metadata": {},
   "outputs": [
    {
     "data": {
      "text/html": [
       "<div>\n",
       "<style scoped>\n",
       "    .dataframe tbody tr th:only-of-type {\n",
       "        vertical-align: middle;\n",
       "    }\n",
       "\n",
       "    .dataframe tbody tr th {\n",
       "        vertical-align: top;\n",
       "    }\n",
       "\n",
       "    .dataframe thead th {\n",
       "        text-align: right;\n",
       "    }\n",
       "</style>\n",
       "<table border=\"1\" class=\"dataframe\">\n",
       "  <thead>\n",
       "    <tr style=\"text-align: right;\">\n",
       "      <th></th>\n",
       "      <th>ana</th>\n",
       "      <th>bruna</th>\n",
       "      <th>carol</th>\n",
       "      <th>daniel</th>\n",
       "    </tr>\n",
       "  </thead>\n",
       "  <tbody>\n",
       "    <tr>\n",
       "      <th>2</th>\n",
       "      <td>8</td>\n",
       "      <td>9</td>\n",
       "      <td>10</td>\n",
       "      <td>11</td>\n",
       "    </tr>\n",
       "    <tr>\n",
       "      <th>1</th>\n",
       "      <td>4</td>\n",
       "      <td>5</td>\n",
       "      <td>6</td>\n",
       "      <td>7</td>\n",
       "    </tr>\n",
       "    <tr>\n",
       "      <th>4</th>\n",
       "      <td>16</td>\n",
       "      <td>17</td>\n",
       "      <td>18</td>\n",
       "      <td>19</td>\n",
       "    </tr>\n",
       "  </tbody>\n",
       "</table>\n",
       "</div>"
      ],
      "text/plain": [
       "   ana  bruna  carol  daniel\n",
       "2    8      9     10      11\n",
       "1    4      5      6       7\n",
       "4   16     17     18      19"
      ]
     },
     "execution_count": 3,
     "metadata": {},
     "output_type": "execute_result"
    }
   ],
   "source": [
    "df_sample = df.sample(frac=0.6, random_state=1)\n",
    "df_sample"
   ]
  },
  {
   "cell_type": "markdown",
   "metadata": {},
   "source": [
    "Remoção da amostra selecionada:"
   ]
  },
  {
   "cell_type": "code",
   "execution_count": 4,
   "metadata": {},
   "outputs": [
    {
     "data": {
      "text/html": [
       "<div>\n",
       "<style scoped>\n",
       "    .dataframe tbody tr th:only-of-type {\n",
       "        vertical-align: middle;\n",
       "    }\n",
       "\n",
       "    .dataframe tbody tr th {\n",
       "        vertical-align: top;\n",
       "    }\n",
       "\n",
       "    .dataframe thead th {\n",
       "        text-align: right;\n",
       "    }\n",
       "</style>\n",
       "<table border=\"1\" class=\"dataframe\">\n",
       "  <thead>\n",
       "    <tr style=\"text-align: right;\">\n",
       "      <th></th>\n",
       "      <th>ana</th>\n",
       "      <th>bruna</th>\n",
       "      <th>carol</th>\n",
       "      <th>daniel</th>\n",
       "    </tr>\n",
       "  </thead>\n",
       "  <tbody>\n",
       "    <tr>\n",
       "      <th>0</th>\n",
       "      <td>0</td>\n",
       "      <td>1</td>\n",
       "      <td>2</td>\n",
       "      <td>3</td>\n",
       "    </tr>\n",
       "    <tr>\n",
       "      <th>3</th>\n",
       "      <td>12</td>\n",
       "      <td>13</td>\n",
       "      <td>14</td>\n",
       "      <td>15</td>\n",
       "    </tr>\n",
       "  </tbody>\n",
       "</table>\n",
       "</div>"
      ],
      "text/plain": [
       "   ana  bruna  carol  daniel\n",
       "0    0      1      2       3\n",
       "3   12     13     14      15"
      ]
     },
     "execution_count": 4,
     "metadata": {},
     "output_type": "execute_result"
    }
   ],
   "source": [
    "df_retirando_sample = df.drop(df_sample.index)\n",
    "df_retirando_sample"
   ]
  },
  {
   "cell_type": "markdown",
   "metadata": {},
   "source": [
    "## Overfitting - Exemplo Ilustrativo"
   ]
  },
  {
   "cell_type": "markdown",
   "metadata": {},
   "source": [
    "A principio, vamos fazer um dataset artificial em que possuimos dois atributos (também chamado de caracteríscas ou, do inglês, *features*) e duas possíveis saídas (também chamado de valor alvo ou classe alvo). Para isso, temos a matriz `x` e o vetor `y` em que, para cada exemplo `i`, cada linha `x[i]` dessa matriz representa esse exemplo (neste caso, representado por dois atributos) e a classe alvo `y[i]`.\n",
    "\n",
    "Veja o dataset:"
   ]
  },
  {
   "cell_type": "code",
   "execution_count": 5,
   "metadata": {
    "scrolled": true
   },
   "outputs": [
    {
     "data": {
      "text/plain": [
       "array([[-0.49511301,  0.96602758],\n",
       "       [ 1.71424117, -0.49933902],\n",
       "       [ 1.3702969 , -0.37944818],\n",
       "       [-1.11477769,  0.16771336],\n",
       "       [-0.13290417, -0.14821564],\n",
       "       [ 0.62307375,  0.86983696],\n",
       "       [-0.91762377,  0.58061579],\n",
       "       [ 0.07292557, -0.44423885],\n",
       "       [-0.74499852,  0.89696524],\n",
       "       [-0.26472071,  0.47607795]])"
      ]
     },
     "execution_count": 5,
     "metadata": {},
     "output_type": "execute_result"
    }
   ],
   "source": [
    "np.random.seed(0)\n",
    "x, y = sklearn.datasets.make_moons(400, noise=0.25)\n",
    "x[:10]#10 primeiras linhas da matriz X"
   ]
  },
  {
   "cell_type": "code",
   "execution_count": 6,
   "metadata": {},
   "outputs": [
    {
     "data": {
      "text/plain": [
       "array([0, 1, 1, 0, 1, 0, 0, 1, 0, 1])"
      ]
     },
     "execution_count": 6,
     "metadata": {},
     "output_type": "execute_result"
    }
   ],
   "source": [
    "y[:10]#lista com 10 primeiros itens do vetor y"
   ]
  },
  {
   "cell_type": "markdown",
   "metadata": {},
   "source": [
    "Nessa e nas demais práticas, iremos representar a classe alvo como um vetor `y` e, os atributos, pela matriz `x`.\n",
    "\n",
    "Abaixo, podemos ver a representação gráfica deste dataset em que, para cada instancia `i`, o eixo x é o atributo `x[i][0]` e o eixo y é o atributo `x[i][1]` a classe alvo `y[i]` é representada pela cor."
   ]
  },
  {
   "cell_type": "code",
   "execution_count": 7,
   "metadata": {
    "scrolled": true
   },
   "outputs": [
    {
     "data": {
      "text/plain": [
       "<matplotlib.collections.PathCollection at 0x7f5e5e89df98>"
      ]
     },
     "execution_count": 7,
     "metadata": {},
     "output_type": "execute_result"
    },
    {
     "data": {
      "image/png": "[encoded data removed]",
      "text/plain": [
       "<Figure size 432x288 with 1 Axes>"
      ]
     },
     "metadata": {
      "needs_background": "light"
     },
     "output_type": "display_data"
    }
   ],
   "source": [
    "plt.scatter(x[:,0], x[:,1], s=40, c=y, cmap=plt.cm.Spectral)"
   ]
  },
  {
   "cell_type": "markdown",
   "metadata": {},
   "source": [
    "Inicialmente, no aquivo `arvore_de_decisao.py` implemente a função `cria_modelo`. Veja a seguir as instruções de como implementá-la.\n",
    "\n",
    "Nessa função, você deverá criar um modelo baseado em arvore de decisão, por meio de um treino. Para o treino, use a variável `x` (que pode ser uma matriz ou DataFrame) em que, cada linha, é uma instância representada pelos seus atributos, além disso, a `y` é um vetor ou Series  representando a classe alvo  de cada instância. Coloque como `random_state=1` que é o seed (semente) da função aleatória usada, pois, por padrão, a árvore de decisão do Scikit learn obtém os dados de forma aleátoria. Definindo este parametro, garantimos que o resultado será o mesmo em todas as execuções.\n",
    "\n",
    "Além disso, com o objetivo de avaliarmos o overfitting, essa função possuirá o parametro `min_samples_split` que \n",
    " que define o mínimo de exemplos necessários para que um nodo da árvore efetue a divisão. Use esse parâmetro ao instanciar a Árvore de Decisão. \n",
    "\n",
    "Para implementar essa função, use a classe `DecisionTreeClassifier`. [Veja a documentação desta classe](https://scikit-learn.org/stable/modules/generated/sklearn.tree.DecisionTreeClassifier.html). Se necessário, comente a importação abaixo, copie e cole a função aqui e, logo após, volte ela para o arquivo. Para criar/obter o modelo use o [método fit](https://scikit-learn.org/stable/modules/generated/sklearn.tree.DecisionTreeClassifier.html#sklearn.tree.DecisionTreeClassifier.fit).  Após implementar, execute o teste abaixo."
   ]
  },
  {
   "cell_type": "code",
   "execution_count": 8,
   "metadata": {},
   "outputs": [
    {
     "name": "stdout",
     "output_type": "stream",
     "text": [
      ".\r\n",
      "----------------------------------------------------------------------\r\n",
      "Ran 1 test in 0.002s\r\n",
      "\r\n",
      "OK\r\n"
     ]
    }
   ],
   "source": [
    "!python3 -m tests TestDecisionTree.test_cria_modelo"
   ]
  },
  {
   "cell_type": "markdown",
   "metadata": {},
   "source": [
    "Logo após, execute o código abaixo para importar a função criada. Lembre-se de reiniciar o kernel caso faça alguma modificação na mesma após importar."
   ]
  },
  {
   "cell_type": "code",
   "execution_count": 9,
   "metadata": {},
   "outputs": [],
   "source": [
    "from arvore_decisao import cria_modelo"
   ]
  },
  {
   "cell_type": "markdown",
   "metadata": {},
   "source": [
    "Abaixo, crie um modelo e use a função `plot_decision_boudary` para gerar o grafico apresentado o dataset ilustrativo com a superfície de decisão do modelo criado. Essa função está no arquivo `util.py`.\n",
    "\n",
    "Na criação do modelo, altere o parametro `min_samples` até um valor que você julgue adequado. Veja o *overfitting* em valores muito baixos (abaixo de 1%, principalmente) e *underfitting* em valores muito altos. Como usualmente implementada, a porcentagem nesta função é um valor entre 0 e 1 em que 1 representa 100% 0.5, por exemplo, representa 50%."
   ]
  },
  {
   "cell_type": "code",
   "execution_count": 10,
   "metadata": {
    "scrolled": true
   },
   "outputs": [
    {
     "data": {
      "image/png": "[encoded data removed]",
      "text/plain": [
       "<Figure size 576x432 with 1 Axes>"
      ]
     },
     "metadata": {
      "needs_background": "light"
     },
     "output_type": "display_data"
    }
   ],
   "source": [
    "from util import plot_decision_boundary\n",
    "modelo = cria_modelo(x,y,0.8);\n",
    "plot_decision_boundary(modelo, x, y)\n"
   ]
  },
  {
   "cell_type": "markdown",
   "metadata": {},
   "source": [
    "## Impacto do Overfitting/Underfitting - Estimativa Automática da Qualidade de Conteúdo"
   ]
  },
  {
   "cell_type": "markdown",
   "metadata": {},
   "source": [
    "Nesta prática, iremos usar dados de 3.294 artigos da Wikipédia rotulados manualmente quanto a sua qualidade. \n",
    "\n",
    "Esses artigos passaram por uma avaliação pela comunidade de editores da Wikipedia. Tais editores classificaram esses artigos quanto a qualidade da seguinte forma: \n",
    "\n",
    "- **Artigo Destaque (FA)**: Os artigos atribuídos a esta classe são, de acordo com os avaliadores, os melhores artigos da Wikipédia.\n",
    "- **Classe A (AC)**: os artigos da Classe A são considerados completos, mas com alguns problemas pendentes que precisam ser resolvidos para serem promovidos a Artigos em destaque.\n",
    "- **Artigo Bons (GA)**: Bons Artigos são aqueles sem problemas de lacunas ou conteúdo excessivo. Essas são boas fontes de informação, embora outras enciclopédias possam fornecer um conteúdo melhor.\n",
    "- **Classe B (BC)**: os artigos atribuídos a essa classe são considerados úteis para a maioria dos usuários, mas carecem de informações mais precisas.\n",
    "- **Classe Inicial (ST)**: os artigos da Classe Inicial ainda estão incompletos, embora contenham referências e ponteiros para informações mais completas.\n",
    "- **Artigos Rascunhos (SB)**: os artigos de toco são artigos de rascunho, com poucos parágrafos. Eles também têm poucas ou nenhumas citações.\n",
    "\n",
    "Assim, [Dalip et. al. (2009)](https://dl.acm.org/citation.cfm?id=1555449) fizeram o preprocessamento desses artigos para serem extraídos indicadores de qualidades tais como: idade do artigo, tamanho, número de citações. Com tais indicadores e a classe de qualidade, foi possível realizar a predição automática de qualidade de artigos da Wikipédia.\n",
    "\n",
    "Nesta prática, iremos fazer a previsão da qualidade usando os indicadores proposto por [Dalip et. al. (2009)](https://dl.acm.org/citation.cfm?id=1555449) e uma árvore de decisão."
   ]
  },
  {
   "cell_type": "markdown",
   "metadata": {},
   "source": [
    "Inicialmente, uso um DataFrame pandas e [leia o arquivo `wikipedia.csv`](https://pandas.pydata.org/pandas-docs/stable/reference/api/pandas.read_csv.html) e exiba os dados deste dataset. Coloque como o rótulo da linha o id do artigo (ou seja, no dataset, a coluna `id` será a `index_col` do DataFrame)."
   ]
  },
  {
   "cell_type": "code",
   "execution_count": 11,
   "metadata": {},
   "outputs": [
    {
     "data": {
      "text/html": [
       "<div>\n",
       "<style scoped>\n",
       "    .dataframe tbody tr th:only-of-type {\n",
       "        vertical-align: middle;\n",
       "    }\n",
       "\n",
       "    .dataframe tbody tr th {\n",
       "        vertical-align: top;\n",
       "    }\n",
       "\n",
       "    .dataframe thead th {\n",
       "        text-align: right;\n",
       "    }\n",
       "</style>\n",
       "<table border=\"1\" class=\"dataframe\">\n",
       "  <thead>\n",
       "    <tr style=\"text-align: right;\">\n",
       "      <th></th>\n",
       "      <th>realClass</th>\n",
       "      <th>\\histAge</th>\n",
       "      <th>\\histAgePerReview</th>\n",
       "      <th>\\histReviewsPerUser</th>\n",
       "      <th>\\histDiscussionCount</th>\n",
       "      <th>\\histIPCount</th>\n",
       "      <th>\\histReviewCount</th>\n",
       "      <th>\\histUserCount</th>\n",
       "      <th>\\histModifiedLinesRate</th>\n",
       "      <th>\\histOccasionalUsersReviewsRate</th>\n",
       "      <th>...</th>\n",
       "      <th>\\minAbsLen</th>\n",
       "      <th>\\XLinksPerSec</th>\n",
       "      <th>\\ssCount</th>\n",
       "      <th>\\sCount</th>\n",
       "      <th>\\numExtLink</th>\n",
       "      <th>\\tamMaiorFrase</th>\n",
       "      <th>\\avgSLen</th>\n",
       "      <th>\\meanSubsectionPerSection</th>\n",
       "      <th>\\LinksPerTLen</th>\n",
       "      <th>\\avgPLen</th>\n",
       "    </tr>\n",
       "    <tr>\n",
       "      <th>id</th>\n",
       "      <th></th>\n",
       "      <th></th>\n",
       "      <th></th>\n",
       "      <th></th>\n",
       "      <th></th>\n",
       "      <th></th>\n",
       "      <th></th>\n",
       "      <th></th>\n",
       "      <th></th>\n",
       "      <th></th>\n",
       "      <th></th>\n",
       "      <th></th>\n",
       "      <th></th>\n",
       "      <th></th>\n",
       "      <th></th>\n",
       "      <th></th>\n",
       "      <th></th>\n",
       "      <th></th>\n",
       "      <th></th>\n",
       "      <th></th>\n",
       "      <th></th>\n",
       "    </tr>\n",
       "  </thead>\n",
       "  <tbody>\n",
       "    <tr>\n",
       "      <th>6322029</th>\n",
       "      <td>'GA'</td>\n",
       "      <td>1211.0</td>\n",
       "      <td>1.29</td>\n",
       "      <td>3.56</td>\n",
       "      <td>100.0</td>\n",
       "      <td>165.0</td>\n",
       "      <td>692.0</td>\n",
       "      <td>527.0</td>\n",
       "      <td>27.76</td>\n",
       "      <td>22.69</td>\n",
       "      <td>...</td>\n",
       "      <td>1019.0</td>\n",
       "      <td>0.1429</td>\n",
       "      <td>3.0</td>\n",
       "      <td>7.0</td>\n",
       "      <td>1.0</td>\n",
       "      <td>227.0</td>\n",
       "      <td>3860.1428</td>\n",
       "      <td>0.4286</td>\n",
       "      <td>137.1624</td>\n",
       "      <td>233.5833</td>\n",
       "    </tr>\n",
       "    <tr>\n",
       "      <th>1465185</th>\n",
       "      <td>'GA'</td>\n",
       "      <td>1760.0</td>\n",
       "      <td>6.48</td>\n",
       "      <td>3.00</td>\n",
       "      <td>15.0</td>\n",
       "      <td>19.0</td>\n",
       "      <td>94.0</td>\n",
       "      <td>75.0</td>\n",
       "      <td>11.22</td>\n",
       "      <td>28.72</td>\n",
       "      <td>...</td>\n",
       "      <td>1245.0</td>\n",
       "      <td>0.1667</td>\n",
       "      <td>1.0</td>\n",
       "      <td>6.0</td>\n",
       "      <td>1.0</td>\n",
       "      <td>146.0</td>\n",
       "      <td>1804.3333</td>\n",
       "      <td>0.1667</td>\n",
       "      <td>120.2889</td>\n",
       "      <td>226.0000</td>\n",
       "    </tr>\n",
       "    <tr>\n",
       "      <th>333380</th>\n",
       "      <td>'AC'</td>\n",
       "      <td>2251.0</td>\n",
       "      <td>10.26</td>\n",
       "      <td>6.36</td>\n",
       "      <td>17.0</td>\n",
       "      <td>72.0</td>\n",
       "      <td>511.0</td>\n",
       "      <td>439.0</td>\n",
       "      <td>2.70</td>\n",
       "      <td>15.66</td>\n",
       "      <td>...</td>\n",
       "      <td>4778.0</td>\n",
       "      <td>6.8000</td>\n",
       "      <td>4.0</td>\n",
       "      <td>10.0</td>\n",
       "      <td>68.0</td>\n",
       "      <td>145.0</td>\n",
       "      <td>5283.5000</td>\n",
       "      <td>0.4000</td>\n",
       "      <td>224.8298</td>\n",
       "      <td>365.4118</td>\n",
       "    </tr>\n",
       "    <tr>\n",
       "      <th>1377636</th>\n",
       "      <td>'AC'</td>\n",
       "      <td>1786.0</td>\n",
       "      <td>31.74</td>\n",
       "      <td>1.67</td>\n",
       "      <td>4.0</td>\n",
       "      <td>4.0</td>\n",
       "      <td>29.0</td>\n",
       "      <td>25.0</td>\n",
       "      <td>2.10</td>\n",
       "      <td>58.62</td>\n",
       "      <td>...</td>\n",
       "      <td>269.0</td>\n",
       "      <td>0.1667</td>\n",
       "      <td>0.0</td>\n",
       "      <td>6.0</td>\n",
       "      <td>1.0</td>\n",
       "      <td>252.0</td>\n",
       "      <td>1141.3333</td>\n",
       "      <td>0.0000</td>\n",
       "      <td>185.0811</td>\n",
       "      <td>128.2500</td>\n",
       "    </tr>\n",
       "    <tr>\n",
       "      <th>377194</th>\n",
       "      <td>'GA'</td>\n",
       "      <td>2199.0</td>\n",
       "      <td>6.68</td>\n",
       "      <td>1.87</td>\n",
       "      <td>36.0</td>\n",
       "      <td>58.0</td>\n",
       "      <td>221.0</td>\n",
       "      <td>163.0</td>\n",
       "      <td>28.29</td>\n",
       "      <td>48.42</td>\n",
       "      <td>...</td>\n",
       "      <td>734.0</td>\n",
       "      <td>6.2500</td>\n",
       "      <td>8.0</td>\n",
       "      <td>4.0</td>\n",
       "      <td>25.0</td>\n",
       "      <td>115.0</td>\n",
       "      <td>4763.7500</td>\n",
       "      <td>2.0000</td>\n",
       "      <td>153.6694</td>\n",
       "      <td>256125.0000</td>\n",
       "    </tr>\n",
       "    <tr>\n",
       "      <th>...</th>\n",
       "      <td>...</td>\n",
       "      <td>...</td>\n",
       "      <td>...</td>\n",
       "      <td>...</td>\n",
       "      <td>...</td>\n",
       "      <td>...</td>\n",
       "      <td>...</td>\n",
       "      <td>...</td>\n",
       "      <td>...</td>\n",
       "      <td>...</td>\n",
       "      <td>...</td>\n",
       "      <td>...</td>\n",
       "      <td>...</td>\n",
       "      <td>...</td>\n",
       "      <td>...</td>\n",
       "      <td>...</td>\n",
       "      <td>...</td>\n",
       "      <td>...</td>\n",
       "      <td>...</td>\n",
       "      <td>...</td>\n",
       "      <td>...</td>\n",
       "    </tr>\n",
       "    <tr>\n",
       "      <th>651996</th>\n",
       "      <td>'ST'</td>\n",
       "      <td>2027.0</td>\n",
       "      <td>0.91</td>\n",
       "      <td>2.24</td>\n",
       "      <td>84.0</td>\n",
       "      <td>483.0</td>\n",
       "      <td>955.0</td>\n",
       "      <td>472.0</td>\n",
       "      <td>25.22</td>\n",
       "      <td>26.91</td>\n",
       "      <td>...</td>\n",
       "      <td>438.0</td>\n",
       "      <td>1.2727</td>\n",
       "      <td>4.0</td>\n",
       "      <td>11.0</td>\n",
       "      <td>14.0</td>\n",
       "      <td>119.0</td>\n",
       "      <td>1977.1818</td>\n",
       "      <td>0.3636</td>\n",
       "      <td>92.1568</td>\n",
       "      <td>116381.0000</td>\n",
       "    </tr>\n",
       "    <tr>\n",
       "      <th>4052227</th>\n",
       "      <td>'BC'</td>\n",
       "      <td>1387.0</td>\n",
       "      <td>9.04</td>\n",
       "      <td>2.62</td>\n",
       "      <td>31.0</td>\n",
       "      <td>25.0</td>\n",
       "      <td>135.0</td>\n",
       "      <td>110.0</td>\n",
       "      <td>7.31</td>\n",
       "      <td>31.11</td>\n",
       "      <td>...</td>\n",
       "      <td>750.0</td>\n",
       "      <td>1.5000</td>\n",
       "      <td>9.0</td>\n",
       "      <td>4.0</td>\n",
       "      <td>6.0</td>\n",
       "      <td>300.0</td>\n",
       "      <td>7424.5000</td>\n",
       "      <td>2.2500</td>\n",
       "      <td>329.9778</td>\n",
       "      <td>54.3857</td>\n",
       "    </tr>\n",
       "    <tr>\n",
       "      <th>372266</th>\n",
       "      <td>'GA'</td>\n",
       "      <td>2203.0</td>\n",
       "      <td>2.22</td>\n",
       "      <td>5.75</td>\n",
       "      <td>110.0</td>\n",
       "      <td>52.0</td>\n",
       "      <td>380.0</td>\n",
       "      <td>328.0</td>\n",
       "      <td>6.70</td>\n",
       "      <td>16.84</td>\n",
       "      <td>...</td>\n",
       "      <td>3079.0</td>\n",
       "      <td>0.5556</td>\n",
       "      <td>9.0</td>\n",
       "      <td>9.0</td>\n",
       "      <td>5.0</td>\n",
       "      <td>152.0</td>\n",
       "      <td>5486.1113</td>\n",
       "      <td>1.0000</td>\n",
       "      <td>488.8614</td>\n",
       "      <td>138.5000</td>\n",
       "    </tr>\n",
       "    <tr>\n",
       "      <th>13108891</th>\n",
       "      <td>'SB'</td>\n",
       "      <td>818.0</td>\n",
       "      <td>4.85</td>\n",
       "      <td>2.67</td>\n",
       "      <td>2.0</td>\n",
       "      <td>3.0</td>\n",
       "      <td>19.0</td>\n",
       "      <td>16.0</td>\n",
       "      <td>55.56</td>\n",
       "      <td>21.05</td>\n",
       "      <td>...</td>\n",
       "      <td>694.0</td>\n",
       "      <td>0.0000</td>\n",
       "      <td>0.0</td>\n",
       "      <td>1.0</td>\n",
       "      <td>0.0</td>\n",
       "      <td>44.0</td>\n",
       "      <td>1549.0000</td>\n",
       "      <td>0.0000</td>\n",
       "      <td>129.0833</td>\n",
       "      <td>44.0000</td>\n",
       "    </tr>\n",
       "    <tr>\n",
       "      <th>318381</th>\n",
       "      <td>'BC'</td>\n",
       "      <td>2269.0</td>\n",
       "      <td>3.38</td>\n",
       "      <td>3.13</td>\n",
       "      <td>137.0</td>\n",
       "      <td>151.0</td>\n",
       "      <td>696.0</td>\n",
       "      <td>545.0</td>\n",
       "      <td>5.65</td>\n",
       "      <td>26.72</td>\n",
       "      <td>...</td>\n",
       "      <td>3396.0</td>\n",
       "      <td>3.0000</td>\n",
       "      <td>5.0</td>\n",
       "      <td>9.0</td>\n",
       "      <td>27.0</td>\n",
       "      <td>228.0</td>\n",
       "      <td>4309.1113</td>\n",
       "      <td>0.5556</td>\n",
       "      <td>140.5145</td>\n",
       "      <td>199.8571</td>\n",
       "    </tr>\n",
       "  </tbody>\n",
       "</table>\n",
       "<p>1976 rows × 69 columns</p>\n",
       "</div>"
      ],
      "text/plain": [
       "         realClass  \\histAge  \\histAgePerReview  \\histReviewsPerUser  \\\n",
       "id                                                                     \n",
       "6322029       'GA'    1211.0               1.29                 3.56   \n",
       "1465185       'GA'    1760.0               6.48                 3.00   \n",
       "333380        'AC'    2251.0              10.26                 6.36   \n",
       "1377636       'AC'    1786.0              31.74                 1.67   \n",
       "377194        'GA'    2199.0               6.68                 1.87   \n",
       "...            ...       ...                ...                  ...   \n",
       "651996        'ST'    2027.0               0.91                 2.24   \n",
       "4052227       'BC'    1387.0               9.04                 2.62   \n",
       "372266        'GA'    2203.0               2.22                 5.75   \n",
       "13108891      'SB'     818.0               4.85                 2.67   \n",
       "318381        'BC'    2269.0               3.38                 3.13   \n",
       "\n",
       "          \\histDiscussionCount  \\histIPCount  \\histReviewCount  \\\n",
       "id                                                               \n",
       "6322029                  100.0         165.0             692.0   \n",
       "1465185                   15.0          19.0              94.0   \n",
       "333380                    17.0          72.0             511.0   \n",
       "1377636                    4.0           4.0              29.0   \n",
       "377194                    36.0          58.0             221.0   \n",
       "...                        ...           ...               ...   \n",
       "651996                    84.0         483.0             955.0   \n",
       "4052227                   31.0          25.0             135.0   \n",
       "372266                   110.0          52.0             380.0   \n",
       "13108891                   2.0           3.0              19.0   \n",
       "318381                   137.0         151.0             696.0   \n",
       "\n",
       "          \\histUserCount  \\histModifiedLinesRate  \\\n",
       "id                                                 \n",
       "6322029            527.0                   27.76   \n",
       "1465185             75.0                   11.22   \n",
       "333380             439.0                    2.70   \n",
       "1377636             25.0                    2.10   \n",
       "377194             163.0                   28.29   \n",
       "...                  ...                     ...   \n",
       "651996             472.0                   25.22   \n",
       "4052227            110.0                    7.31   \n",
       "372266             328.0                    6.70   \n",
       "13108891            16.0                   55.56   \n",
       "318381             545.0                    5.65   \n",
       "\n",
       "          \\histOccasionalUsersReviewsRate  ...  \\minAbsLen  \\XLinksPerSec  \\\n",
       "id                                         ...                              \n",
       "6322029                             22.69  ...      1019.0         0.1429   \n",
       "1465185                             28.72  ...      1245.0         0.1667   \n",
       "333380                              15.66  ...      4778.0         6.8000   \n",
       "1377636                             58.62  ...       269.0         0.1667   \n",
       "377194                              48.42  ...       734.0         6.2500   \n",
       "...                                   ...  ...         ...            ...   \n",
       "651996                              26.91  ...       438.0         1.2727   \n",
       "4052227                             31.11  ...       750.0         1.5000   \n",
       "372266                              16.84  ...      3079.0         0.5556   \n",
       "13108891                            21.05  ...       694.0         0.0000   \n",
       "318381                              26.72  ...      3396.0         3.0000   \n",
       "\n",
       "          \\ssCount  \\sCount  \\numExtLink  \\tamMaiorFrase   \\avgSLen  \\\n",
       "id                                                                    \n",
       "6322029        3.0      7.0          1.0           227.0  3860.1428   \n",
       "1465185        1.0      6.0          1.0           146.0  1804.3333   \n",
       "333380         4.0     10.0         68.0           145.0  5283.5000   \n",
       "1377636        0.0      6.0          1.0           252.0  1141.3333   \n",
       "377194         8.0      4.0         25.0           115.0  4763.7500   \n",
       "...            ...      ...          ...             ...        ...   \n",
       "651996         4.0     11.0         14.0           119.0  1977.1818   \n",
       "4052227        9.0      4.0          6.0           300.0  7424.5000   \n",
       "372266         9.0      9.0          5.0           152.0  5486.1113   \n",
       "13108891       0.0      1.0          0.0            44.0  1549.0000   \n",
       "318381         5.0      9.0         27.0           228.0  4309.1113   \n",
       "\n",
       "          \\meanSubsectionPerSection  \\LinksPerTLen     \\avgPLen  \n",
       "id                                                               \n",
       "6322029                      0.4286       137.1624     233.5833  \n",
       "1465185                      0.1667       120.2889     226.0000  \n",
       "333380                       0.4000       224.8298     365.4118  \n",
       "1377636                      0.0000       185.0811     128.2500  \n",
       "377194                       2.0000       153.6694  256125.0000  \n",
       "...                             ...            ...          ...  \n",
       "651996                       0.3636        92.1568  116381.0000  \n",
       "4052227                      2.2500       329.9778      54.3857  \n",
       "372266                       1.0000       488.8614     138.5000  \n",
       "13108891                     0.0000       129.0833      44.0000  \n",
       "318381                       0.5556       140.5145     199.8571  \n",
       "\n",
       "[1976 rows x 69 columns]"
      ]
     },
     "execution_count": 11,
     "metadata": {},
     "output_type": "execute_result"
    }
   ],
   "source": [
    "dataFrame = pd.DataFrame(data=pd.read_csv(filepath_or_buffer='wikipedia.csv',index_col='id'))\n",
    "dataFrame.sample(frac=0.6, random_state=1)"
   ]
  },
  {
   "cell_type": "markdown",
   "metadata": {},
   "source": [
    "Antes de executar a classificação e verificar o acerto no treino e teste, você deverá implementar a função `divide_treino_teste` que está no arquivo `arvore_decisao.py`.\n",
    "\n",
    "Essa função deverá dividir os dados, de forma aleatoria, em treino e teste.  Para isso, faça o seguinte: \n",
    "\n",
    "1. Crie o DataFrame `df_treino` por meio do Dataframe `df` e a proporção `val_proporcao_treino`, passados como parâmetro. `val_proporcao_treino` assume um valor de 0 a 1 em que, por exemplo, 0.8 representa que 80% das instancias serão de treino e, o restante, o teste. . O [método `sample`](https://pandas.pydata.org/pandas-docs/stable/reference/api/pandas.DataFrame.sample.html) irá auxiliar para isso. Us, como parâmetro `random_state=1`. Esse será o valor da semente (seed) da função aleatória para manter sempre os dados embaralhados da mesma forma (o teste automatizado só irá funcionar caso tenha colocado a esse valor de semente);\n",
    "\n",
    "2. Conforme dito, o restante das instancias estarão em `df_teste`. Uma forma fácil de criar o `df_teste` é obter os elementos que estão em `df` e não estão em `df_treino`. Para isso, use [o método `drop`](https://pandas.pydata.org/pandas-docs/stable/reference/api/pandas.DataFrame.drop.html) que elimina conlunas ou  linhas de um DataFrame. Para eliminar as linhas, obtenha o id de cada linha do treino usando `df_treino.index`.\n",
    "\n",
    "Em Python uma função pode retornar mais de um elemento. Por exemplo:"
   ]
  },
  {
   "cell_type": "code",
   "execution_count": 12,
   "metadata": {},
   "outputs": [
    {
     "name": "stdout",
     "output_type": "stream",
     "text": [
      "2\n"
     ]
    }
   ],
   "source": [
    "def xuxu():\n",
    "    a = 2\n",
    "    b = 3\n",
    "    return a,b\n",
    "x,y = xuxu()\n",
    "print(x)"
   ]
  },
  {
   "cell_type": "markdown",
   "metadata": {},
   "source": [
    "Execute o seguinte testa para verificar a corretude de seu código: "
   ]
  },
  {
   "cell_type": "code",
   "execution_count": 13,
   "metadata": {},
   "outputs": [
    {
     "name": "stdout",
     "output_type": "stream",
     "text": [
      ".\r\n",
      "----------------------------------------------------------------------\r\n",
      "Ran 1 test in 0.008s\r\n",
      "\r\n",
      "OK\r\n"
     ]
    }
   ],
   "source": [
    "!python3 -m tests TestDecisionTree.test_divide_treino_teste"
   ]
  },
  {
   "cell_type": "markdown",
   "metadata": {},
   "source": [
    "A seguir, execute a função `divide_treino_teste` com uma divisão de 80% de treino e, logo após, usando df_treino e df_teste, crie as seguintes variáveis:\n",
    "-  `x_treino` : DataFrame que representa, para cada linha do **treino**, todos os atributos de um exemplo do treino. Para isso, elimine a coluna que representa a classe por meio [método `drop` do DataFrame](https://pandas.pydata.org/pandas-docs/stable/reference/api/pandas.DataFrame.drop.html), alterando o parametro axis;\n",
    "- `y_treino`: Series que representa, para cada posição `i`, a classe alvo do exemplo `i` representado pelos atributos `x_treino[i]`. A classe alvo está na coluna `realClass`;\n",
    "- `x_teste`: Similar ao `x_teste`, porém com as instancias do **teste**. \n",
    "- `y_teste`: Similar ao `y_treino`, porém, são as classe alvo do teste; \n"
   ]
  },
  {
   "cell_type": "code",
   "execution_count": 14,
   "metadata": {},
   "outputs": [],
   "source": [
    "from arvore_decisao import divide_treino_teste\n",
    "\n",
    "#execute a função divide_treino_teste corretamente\n",
    "df_treino,df_teste = divide_treino_teste(dataFrame, 0.8)\n",
    "\n",
    "#instancias de treino - separe as features x da classe y\n",
    "x_treino = df_treino.drop(labels='realClass', axis=1)\n",
    "y_treino = df_treino.drop(labels=df_treino.columns.difference(['realClass']), axis=1).squeeze()\n",
    "\n",
    "#instancias de teste - separe as features x da classe y\n",
    "x_teste =  df_teste.drop(labels='realClass', axis=1)\n",
    "y_teste = df_teste.drop(labels=df_teste.columns.difference(['realClass']), axis=1).squeeze()"
   ]
  },
  {
   "cell_type": "markdown",
   "metadata": {},
   "source": [
    "Implemente agora o método `faz_classificacao`. Ele passará como parametro as variáveis `X_treino`, `y_treino`, `X_teste`, `y_teste`, criadas anteriormente além do parâmetro `min_samples` que define a quantidade mínima de instancias para que se divida um nodo da árvore de decisão.\n",
    "\n",
    "Assim, esta função irá:\n",
    "\n",
    "1- Criar o modelo a partir dos dados de treino e o parametro `min_samples` (você pode usar a função criada anteriormente);\n",
    "\n",
    "2- Realizar a predição usando o [método predict](https://scikit-learn.org/stable/modules/generated/sklearn.tree.DecisionTreeClassifier.html#sklearn.tree.DecisionTreeClassifier.predict). Esse método retorna uma lista de predição em que, para cada posição `i`, retorna o resultado previsto do exemplo representado por `x_teste[i]`;\n",
    "\n",
    "3- A partir da lista obtida pela predição e da variável `y_teste`, calcule a `acuracia` que é a proporção de acertos, ou seja, $acuracia = acertos/|y_{teste}|$ em que `acertos` é a quantidade de acertos da predição e $y_{teste}$ é a lista `y_teste`.\n",
    "\n",
    "Dicas:\n",
    "- caso tenhamos duas listas `a` e `b`, ao fazer a operação `a==b`, ele retornará uma lista em que o valor  de cada posição será igual a verdadeiro caso `a==b`.\n",
    "- np.sum soma os valores de um vetor, caso os valores sejam booleanos, será considerado True=1 e False=0.\n"
   ]
  },
  {
   "cell_type": "markdown",
   "metadata": {},
   "source": [
    "Logo após, execute o teste abaixo:"
   ]
  },
  {
   "cell_type": "code",
   "execution_count": 15,
   "metadata": {},
   "outputs": [
    {
     "name": "stdout",
     "output_type": "stream",
     "text": [
      ".\r\n",
      "----------------------------------------------------------------------\r\n",
      "Ran 1 test in 0.003s\r\n",
      "\r\n",
      "OK\r\n"
     ]
    }
   ],
   "source": [
    "!python3 -m tests TestDecisionTree.test_faz_classificacao"
   ]
  },
  {
   "cell_type": "code",
   "execution_count": 16,
   "metadata": {},
   "outputs": [
    {
     "name": "stdout",
     "output_type": "stream",
     "text": [
      "Acurácia: 0.5159332321699545\n"
     ]
    }
   ],
   "source": [
    "from arvore_decisao import faz_classificacao\n",
    "y_predicted,acuracia = faz_classificacao(x_treino, y_treino, x_teste, y_teste, 0.1)\n",
    "\n",
    "print(\"Acurácia: {0}\".format(acuracia)) "
   ]
  },
  {
   "cell_type": "markdown",
   "metadata": {},
   "source": [
    "Por meio da função `plot_performance_min_samples` crie um gráfico em que o eixo `x` é a variação do parâmetro `min_samples` e, o eixo `y`, representará a acurácia. Você deverá veriar o `min_samples` de 0.001 até 0.7 de 0.01 em 0.01 passos. Esse gráfico possuirá duas linhas: representando a **acurácia no treino** durante a variação do `min_samples` e, a outra, a **acurácia do teste** com os diversos valores de `min_sample`.\n",
    "\n",
    "- foi usada a função arange do numpy para o for (ao invés de range). Pois o range permite apenas passos com valores inteiros;\n",
    "- para obter a acurácia no treino, o teste deverá possuir as mesmas instancias do treino;\n",
    "- Para plotar foi usado o matplotlib veja: [https://matplotlib.org/users/pyplot_tutorial.html](https://matplotlib.org/users/pyplot_tutorial.html)."
   ]
  },
  {
   "cell_type": "markdown",
   "metadata": {},
   "source": [
    "Execute abaixo a função plot_performance_min_samples usando as veriáveis X_treino,y_treino,X_teste,y_teste"
   ]
  },
  {
   "cell_type": "code",
   "execution_count": 17,
   "metadata": {},
   "outputs": [
    {
     "data": {
      "image/png": "[encoded data removed]",
      "text/plain": [
       "<Figure size 432x288 with 1 Axes>"
      ]
     },
     "metadata": {
      "needs_background": "light"
     },
     "output_type": "display_data"
    }
   ],
   "source": [
    "from arvore_decisao import plot_performance_min_samples\n",
    "\n",
    "plot_performance_min_samples(x_treino, y_treino, x_teste, y_teste)"
   ]
  },
  {
   "cell_type": "markdown",
   "metadata": {},
   "source": [
    "Escreva abaixo **um paragrafo** descrevendo o que pode ser visto no gráfico e quando há overfitting.\n",
    "\n",
    "### Resposta:\n",
    "`Analisando o gráfico obtido, pode-se notar uma alta variância até um min_sample de aproximadamente 0.05, o que indica um overfit no modelo com valores de min_sample inferiores a 0.05. Com um min_sample à partir de 0.4, já observa-se o efeito oposto, um alto viés ou alto bias, o que indica um underfit do modelo treinado.\n",
    "Os valores ideais de min_sample para este modelo estão entre 0.05 e 0.3, pois é onde não há underfit ou overfit. O melhor valor seria algo próximo de 0.17 ou 0.18`"
   ]
  },
  {
   "cell_type": "markdown",
   "metadata": {},
   "source": []
  },
  {
   "cell_type": "markdown",
   "metadata": {},
   "source": [
    "Atenção! Nesta nossa prática, variamos o parametro no teste para ver o impacto da variável `min_samples_split` no mesmo. Porém,  caso quisessems comparar este classificador com outro, **não devemos usar informação do teste para construir o classificador** pois o teste deve reproduzir \"o mundo real\" e não saberiamos os valores do teste a priori.  \n",
    "\n",
    "Assim, não é metodologicamente correto escolher um parâmetro pelo teste. Para resolver esse problema, poderemos ter uma partição de validação. \n",
    "\n",
    "\n",
    "**Opcional**: Divida os dados em 60% de treino, 20% de validação e 20% de teste. Use a partição de validação para descobrir o melhor parametro `min_samples` (melhor=maior acurácia). Por meio dele, treine o modelo e calcule o resultado no teste. Além da acurácia, use a função [classification_report](https://scikit-learn.org/stable/modules/generated/sklearn.metrics.classification_report.html) para exibir outras métricas de avaliação disponíveis no Scikit Learn."
   ]
  },
  {
   "cell_type": "markdown",
   "metadata": {},
   "source": [
    "**Opcional²** Como a qualidade pode ser encarada como uma nota em uma escala, modelar este problema como regressão pode ser melhor. Por isso, use [regressão e RandomForest](https://scikit-learn.org/stable/modules/generated/sklearn.ensemble.RandomForestRegressor.html) e apresente o [Mean Squared Error](https://en.wikipedia.org/wiki/Mean_squared_error) obtido. Usando o treino e **validação** descubra o melhor valor para `min_samples_split`, apresente o grafico, e use o melhor parametro obtido na validação para o teste."
   ]
  }
 ],
 "metadata": {
  "kernelspec": {
   "display_name": "Python 3",
   "language": "python",
   "name": "python3"
  },
  "language_info": {
   "codemirror_mode": {
    "name": "ipython",
    "version": 3
   },
   "file_extension": ".py",
   "mimetype": "text/x-python",
   "name": "python",
   "nbconvert_exporter": "python",
   "pygments_lexer": "ipython3",
   "version": "3.6.11"
  }
 },
 "nbformat": 4,
 "nbformat_minor": 2
}
