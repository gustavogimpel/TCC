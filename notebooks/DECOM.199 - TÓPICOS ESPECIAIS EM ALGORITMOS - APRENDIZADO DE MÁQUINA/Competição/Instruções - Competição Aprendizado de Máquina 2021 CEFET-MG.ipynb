{
 "cells": [
  {
   "cell_type": "markdown",
   "metadata": {},
   "source": [
    "## Identificação Automática do Gênero de Músicas"
   ]
  },
  {
   "cell_type": "markdown",
   "metadata": {},
   "source": [
    "Você recebeu este dataset de músicas e seu objetivo é estimar o genero da música (entre Metal, Rock, Folk e Country) de acordo com seus atributos - contidos neste dataset. Neste trabalho, você deverá, obrigatoriamente, utilizar classificação hierarquica e utilizar qualquer método de aprendizado de máquina e qualquer forma de representação dos atributos.\n",
    "\n",
    "**O que você deverá fazer?**\n",
    "\n",
    "- Explorar e entender os dados\n",
    "- Criar os atributos para isso, voce deverá:\n",
    "    - Verificar a existencia de valores ausentes e verificar estratégias para lidar com eles\n",
    "    - Descobrir a melhor forma de representar valores categóricos e textual (veja explicação abaixo). Inclusive, realização de remoção de stopwords e stemming. \n",
    "    \n",
    "- Avaliar e descobrir o melhor método podendo considerar:\n",
    "     - Qual são os melhores parametros?\n",
    "     - Quais são os melhores métodos (tanto no primeiro quanto no segundo nível da classificação hierarquica)?\n",
    "     - A combinação de mais de um método é útil?\n",
    "     - Qual é a melhor representação de uma instancia? Ou seja, qual é a melhor forma de preprocessar meus atributos? Fazer normalização dos atributos auxiliará? Como lidar com dados inexistentes? \n",
    "     - Como lidar com um dataset que possui muito mais instancias de uma classe que outra? Isso pode fazer com que alguns métodos ficam tendenciosos para a classe que possui mais elementos.  Uma estratégia é usar undersampling: caso tenhamos uma classe com 10.000 e outra com 5.000, utilize uma amostra de 5.000 instancias da primeira classe para o treinamento.\n",
    "     \n",
    "Lembrem-se: temos pouco tempo, então, faça de um jeito simples, veja e investigue os erros e, logo após, vá incrementando..."
   ]
  },
  {
   "cell_type": "markdown",
   "metadata": {},
   "source": [
    "**O que será entregue**\n",
    "\n",
    "Após descoberto o melhor modelo, você receberá [um dataset como esse](datasets/movies_amostra_teste_ex.csv) - sem a informação sobre genero - e você deverá prever qual será o genero da música. Após avaliar vários modelos e descobrir o melhor, você entregará seu código zipado junto com a predição por instancia em um arquivo de nome `predict.txt` no seguinte formato: Para cada linha o exemplo de teste, o valor `Metal`, `Rock`, `Country`  ou `Folk` definindo seu genero. Por exemplo, caso tenhamos um dataset de teste de 10 instancias, uma possível saída seria: \n",
    "\n",
    "```\n",
    "Folk\n",
    "Metal\n",
    "Rock\n",
    "Metal\n",
    "Rock\n",
    "Country\n",
    "Country\n",
    "Metal\n",
    "Folk\n",
    "Metal\n",
    "```\n",
    "\n",
    "O professor terá as saídas esperadas do teste e irá compará-lo a partir da saída gerada. Caso o arquivo não tenha esse nome ou esteja fora do padrão, o resultado da equipe será desconsiderado. **Haverá duas rodadas e, cada rodada, um dataset de teste diferente**.\n",
    "\n",
    "\n"
   ]
  },
  {
   "cell_type": "markdown",
   "metadata": {},
   "source": [
    "**Definição das equipes**\n",
    "\n",
    "As equipes devem ser formadas com, no máximo 3 pessoas. Elas devem ser informadas [na seguinte planilha até o dia 10/03](https://docs.google.com/spreadsheets/d/10PaP5i9nfyHT5p-apRYK32AvmzShohhKBMryFiDxLEI/edit?usp=sharing). Alunos que não estiverem na planilha até esta data, perderão 1 ponto por dia. "
   ]
  },
  {
   "cell_type": "markdown",
   "metadata": {},
   "source": [
    "**Dinamica da competição**\n",
    "\n",
    "Haverá 2 rodadas, cada rodada terá 3 fases: \n",
    "\n",
    "1. **Elaboração da solução e descoberta do melhor modelo**: nesta fase, você criará a solução que você julgar a melhor. Logo após, você enviará o código fonte dessa solução pronta no SIGAA.\n",
    "2. **Geração do resultado no dataset fornecido pelo professor**: logo após a entrega, estará disponível um dataset de teste para você gerar a predição. Nessa fase, você deverá usar seu código (submetido na fase anterior) para prever o resultado desse dataset. Porém, você não poderá alterar nenhuma parte de seu código, pois ele já foi submetido, caso contrário, será desclassificado. Por isso, não esqueça de [testar seu código com este dataset](teste_ex.csv). Logo após, você deverá enviar o seu resultado **exatamente** no formato `predict_grupoXX.txt` via SIGAA - o prazo para envio será de apenas 2 dias após da entrega de sua solução. \n",
    "3. **Apresentação do resultado**: com os resultados de cada equipe, o professor irá apresentar o ranking de cada solução por equipe\n",
    "\n",
    "Instruções para implementação das fases 1 e 2 serão dadas a seguir. Logo após as duas rodadas, a equipe deverá **apresentar um relatorio em Jupyter** deixando claro (a) qual foi o preprocessamento adotado e a representação adotoda, possíveis análises e descobertas no dados para melhorar o preprocessamento; (b) como vocês chegaram nesta representação?; (c) quais métodos foram usados e seus parametros; (d) como foi feito para a descoberta de parametros; (e) melhorias da primeira para a segunda rodada; (e) deixar claro passo a passo a implementação da função `gerar_saida_teste`do arquivo `gerar_resultado_teste.py` . Nesse arquivo Jupyter não haverá muito código apenas, se necessário, chamada as funções/métodos dos arquivos `.py` acima. Durante a competição, vocês testarão diversas representações e modelos. Porém, neste arquivo, você deverá usar apenas a representação e modelo que você considerou mais efetivo. Coloque também um paragrafo explicando o caminho e tentativas que não deram tanto certo. \n"
   ]
  },
  {
   "cell_type": "markdown",
   "metadata": {},
   "source": [
    "Para facilitar a reprodutibilidade, a implementação do modelo deverá estar bem organizada seguindo as seguintes especificações: \n",
    "\n",
    "- O conhecimento e geração dos atributos/preprocessamente e método deve vir apenas no dataset `lyrics_amostra.csv`. Por exemplo, não é permitido adicionar um valor faltante a uma música baseada no seu conhecimento sobre o mesmo - ou de outros dados da Internet. A única exceção a essa regra é o uso de palavras-chaves (que podem ser criadas por vocẽ) para geração de atributos (detalhado nas seções a seguir).\n",
    "\n",
    "- Da mesma forma, o treino deve ser criado usando **apenas** as instancias do arquivo `lyrics_amostra.csv`. Por exemplo, o teste `lyrics_amostra_teste_ex.csv` não pode ser usado para criar dados de treino e nem outros dados fornecidos pelo professor ou externo. \n",
    "\n",
    "- Não é permitido salvar o objeto em arquivo (usando pickle, por exemplo) para ser lido na função `gerar_saidas_teste`\n",
    "\n",
    "- O teste deve ser reprodutível, ou seja, resultado dos experimentos do código executado no computador do professor deve ter o mesmo resultado daquele obtido pelos alunos. \n",
    "\n",
    "- A organização dos arquivos deve ser respeitada.\n",
    "\n",
    "- O arquivo de saída deve ser exatamente o nome `predict_grupoXX.txt` sendo que XX é substituido pelo número do grupo e o formato conforme especificado. \n",
    "\n",
    "- Equipe que não enviar nada na primeira rodada poderá enviar na segunda rodada. \n",
    "\n",
    "- Caso instale algum pacote, use ambiente virtual e crie o requirements.txt correspondente. Caso o professor não consiga executar o código por falta de dependencias, a equipe será desclassificada.\n",
    "\n",
    "Caso a equipe não siga essas regras, ela será desclassificada. Caso haja algum problema, a equipe deve comunicar ao professor no chat do Teams.\n",
    "\n",
    "**Duvidas: ** Todas as dúvidas devem ser postadas no canal `#competicao`. Para não beneficiar uma equipe ou outra, as dúvidas não serão esclarecidas no privado.  \n",
    "\n",
    "**Bugs no código da competição** A primeira equipe a descobrir e reportar o bug (no canal competição) ganhará os pontos e o bug deve ser reportado com pelo menos 3 dias de antecedencia."
   ]
  },
  {
   "cell_type": "markdown",
   "metadata": {},
   "source": [
    "**Organização dos arquivos: **\n",
    "\n",
    "- Os arquivos `preprocessament_atributos.py`, `metodo.py`, `resultado.py` e `avaliacao.py` na pasta `base_am` devem permanecer sem modificações\n",
    "\n",
    "- Qualquer método de aprendizado de maquina usado deverá estar no arquivo `metodo_competicao.py` na pasta `competicao_am` e ser subclasse de `MetodoAprendizadoMaquina` - já existe um exemplo pronto. Você devera obrigatoriamente usar classificação hierarquica para este problema.\n",
    "    \n",
    "- Qualquer modificação da  avaliação experimental deve estar em `avaliacao_competicao.py` na pasta `competicao_am`. Alteração do experimento deve ser subclasse de `Experimento` e a as classes para variação dos parametros devem ser subclasses de `OtimizacaoObjetivo` e estar nesse mesmo arquivo. Há um exemplo de implementação da classe `OtimizacaoObjetivo` nesse arquivo.\n",
    "\n",
    "- Caso seja necessária alguma modificação em classes do `resultado.py`, você deve fazer um arquivo `resultado_competicao.py` fazendo subclasses/associações das classes especificadas em `resultado.py`\n",
    "    \n",
    "- `preprocessamento_atributos_competicao.py`: Usará o arquivo `preprocessamento_atributos`  (se necessário) e criará os atributos do modelo. Você pode também criar as classes que desejar para criação dos atributos nesse arquivo. \n",
    "- Arquivo `gerar_resultado_teste.py` na pasta `competicao_am` que você deverá apresentar o código para gerar a saída para o dataset fornecido pelo professor. Esse código deverá usar o arquivo `datasets/movies_amostra.csv` para treino - nenhum outro arquivo a mais, fazer todo o processamento necessario, criação do modelo e gerar a saída. A função principal que gera a saída deve ser obrigatoriamente `gerar_saida_teste` - já com um exemplo implementado. Esse código deve estar claro e que seja possível o professor reproduzir o mesmo resultado. Há um exemplo pronto também. "
   ]
  },
  {
   "cell_type": "markdown",
   "metadata": {},
   "source": [
    "**Avaliação**\n",
    "\n",
    "A equipe será avaliada pelo qualidade do relatório e pelo esforço que ela demonstrou para chegar em um bom resultado. Além disso, poderá perder pontos caso desobedeça as regras continas na competição. As equipes mais bem colocadas ganharão pontos de atividades complementaries. \n",
    "\n",
    "\n",
    "**Prazo**\n",
    "\n",
    "Primeira Rodada:\n",
    "    - Elaboração da solução: até 29/03\n",
    "    - Geração do resultado no dataset fornecido pelo professor: Até 31/03\n",
    "\n",
    "Segunda Rodada:\n",
    "    - Elaboração da solução: até 07/04\n",
    "    - Geração do resultado: até 09/04\n",
    "Geração do relatório final: até dia 14/04\n",
    "\n",
    "🏆 Dia 14/04 será anunciado o ranking final 🏆 \n",
    "\n",
    "Os prazos não serão alterados devido ao atraso de alguma equipe. "
   ]
  },
  {
   "cell_type": "markdown",
   "metadata": {},
   "source": [
    "## Critérios de classificação"
   ]
  },
  {
   "cell_type": "markdown",
   "metadata": {},
   "source": [
    "Os códigos serão classificados de acordo com a macro F1. Caso ocorra empate, será feito desempate na seguinte ordem: \n",
    "\n",
    "1. F1 Score da classe `Folk`\n",
    "1. MarcoF1 da classificação de primeiro nível\n",
    "2. Tempo de execução da função `gerar_saida_teste`\n",
    "3. Caso seja a segunda rodada, os critérios acima, nesta ordem, da primeira rodada\n",
    "4. Clareza do código e elegancia da solução\n",
    "\n",
    "O resultado final será o resultado da segunda rodada. Caso uma equipe entregue apenas a primeira rodada, será executado o método entregue na primeira rodada no dataset da segunda rodada para a classificação final.  "
   ]
  },
  {
   "cell_type": "markdown",
   "metadata": {},
   "source": [
    "## Datasets"
   ]
  },
  {
   "cell_type": "markdown",
   "metadata": {},
   "source": [
    "- [Dataset de treino e avaliação](datasets/movies_amostra.csv)\n",
    "- [Dataset de teste - exemplo](datasets/movies_amostra_teste_ex.csv)\n",
    "- [Dataset de teste - primeira rodada](datasets/movies_amostra_teste_1.csv): a ser disponibilizado pelo professor após a 2ª fase da primeira rodada\n",
    "- [Dataset de teste - segunda rodada](datasets/movies_amostra_teste_2.csv): a ser disponibilizado pelo professor após a 2ª fase da segunda rodada\n",
    "\n"
   ]
  },
  {
   "cell_type": "code",
   "execution_count": 1,
   "metadata": {},
   "outputs": [
    {
     "data": {
      "text/html": [
       "<div>\n",
       "<style scoped>\n",
       "    .dataframe tbody tr th:only-of-type {\n",
       "        vertical-align: middle;\n",
       "    }\n",
       "\n",
       "    .dataframe tbody tr th {\n",
       "        vertical-align: top;\n",
       "    }\n",
       "\n",
       "    .dataframe thead th {\n",
       "        text-align: right;\n",
       "    }\n",
       "</style>\n",
       "<table border=\"1\" class=\"dataframe\">\n",
       "  <thead>\n",
       "    <tr style=\"text-align: right;\">\n",
       "      <th></th>\n",
       "      <th>id</th>\n",
       "      <th>artist</th>\n",
       "      <th>song</th>\n",
       "      <th>lyrics</th>\n",
       "    </tr>\n",
       "  </thead>\n",
       "  <tbody>\n",
       "    <tr>\n",
       "      <th>0</th>\n",
       "      <td>246976</td>\n",
       "      <td>5ive</td>\n",
       "      <td>don t fight it baby</td>\n",
       "      <td>Check it out\\nHere we go, right\\nHey Five [Inc...</td>\n",
       "    </tr>\n",
       "    <tr>\n",
       "      <th>1</th>\n",
       "      <td>347605</td>\n",
       "      <td>atom-and-his-package</td>\n",
       "      <td>head of septa nose of me</td>\n",
       "      <td>i know.\\ni could have been dead.\\nmy nose swel...</td>\n",
       "    </tr>\n",
       "    <tr>\n",
       "      <th>2</th>\n",
       "      <td>145352</td>\n",
       "      <td>electric-six</td>\n",
       "      <td>dime dime penny dime</td>\n",
       "      <td>NaN</td>\n",
       "    </tr>\n",
       "    <tr>\n",
       "      <th>3</th>\n",
       "      <td>26653</td>\n",
       "      <td>fear-before-the-march-of-flames</td>\n",
       "      <td>high as a horse</td>\n",
       "      <td>If we give the horses blinders\\nThey won't see...</td>\n",
       "    </tr>\n",
       "    <tr>\n",
       "      <th>4</th>\n",
       "      <td>200042</td>\n",
       "      <td>diamond-rio</td>\n",
       "      <td>finish what we started</td>\n",
       "      <td>Lyin' on our backs\\nWe stared at the stars\\nTr...</td>\n",
       "    </tr>\n",
       "    <tr>\n",
       "      <th>5</th>\n",
       "      <td>182412</td>\n",
       "      <td>edge-of-sanity</td>\n",
       "      <td>crimson ii passage of time</td>\n",
       "      <td>Oh willing host who doth not know\\nThe full de...</td>\n",
       "    </tr>\n",
       "    <tr>\n",
       "      <th>6</th>\n",
       "      <td>215908</td>\n",
       "      <td>godsmack</td>\n",
       "      <td>one rainy day</td>\n",
       "      <td>Oh man, I'm tired and lonely\\nAgain, why must ...</td>\n",
       "    </tr>\n",
       "    <tr>\n",
       "      <th>7</th>\n",
       "      <td>116746</td>\n",
       "      <td>dawn</td>\n",
       "      <td>eyesland</td>\n",
       "      <td>NaN</td>\n",
       "    </tr>\n",
       "    <tr>\n",
       "      <th>8</th>\n",
       "      <td>126667</td>\n",
       "      <td>alison-krauss</td>\n",
       "      <td>winter of a broken heart</td>\n",
       "      <td>Oh it seems the sun will never shine\\nThe skie...</td>\n",
       "    </tr>\n",
       "    <tr>\n",
       "      <th>9</th>\n",
       "      <td>263128</td>\n",
       "      <td>cody-johnson</td>\n",
       "      <td>holes</td>\n",
       "      <td>NaN</td>\n",
       "    </tr>\n",
       "  </tbody>\n",
       "</table>\n",
       "</div>"
      ],
      "text/plain": [
       "       id                           artist                        song  \\\n",
       "0  246976                             5ive         don t fight it baby   \n",
       "1  347605             atom-and-his-package    head of septa nose of me   \n",
       "2  145352                     electric-six        dime dime penny dime   \n",
       "3   26653  fear-before-the-march-of-flames             high as a horse   \n",
       "4  200042                      diamond-rio      finish what we started   \n",
       "5  182412                   edge-of-sanity  crimson ii passage of time   \n",
       "6  215908                         godsmack               one rainy day   \n",
       "7  116746                             dawn                    eyesland   \n",
       "8  126667                    alison-krauss    winter of a broken heart   \n",
       "9  263128                     cody-johnson                       holes   \n",
       "\n",
       "                                              lyrics  \n",
       "0  Check it out\\nHere we go, right\\nHey Five [Inc...  \n",
       "1  i know.\\ni could have been dead.\\nmy nose swel...  \n",
       "2                                                NaN  \n",
       "3  If we give the horses blinders\\nThey won't see...  \n",
       "4  Lyin' on our backs\\nWe stared at the stars\\nTr...  \n",
       "5  Oh willing host who doth not know\\nThe full de...  \n",
       "6  Oh man, I'm tired and lonely\\nAgain, why must ...  \n",
       "7                                                NaN  \n",
       "8  Oh it seems the sun will never shine\\nThe skie...  \n",
       "9                                                NaN  "
      ]
     },
     "execution_count": 1,
     "metadata": {},
     "output_type": "execute_result"
    }
   ],
   "source": [
    "import pandas as pd\n",
    "pd.read_csv(\"datasets/lyrics_amostra_teste_ex.csv\")"
   ]
  },
  {
   "cell_type": "markdown",
   "metadata": {},
   "source": [
    "## Organização do Notebook"
   ]
  },
  {
   "cell_type": "markdown",
   "metadata": {},
   "source": [
    "O restante deste Notebook está organizado da seguinte forma: \n",
    "\n",
    "- Conceitos importantes:\n",
    "    - [Uma descrição dos tipos de representações possíveis](#Tipos-de-representações-de-dados-categóricos-e-textual)\n",
    "    - [Classificação Hierarquica](#Classificação-Hierárquica)\n",
    "- [Como criar a solução](#Como-começar?) \n",
    "    - [análise mais rápida](#Inicio---Preprocessamento-e-testes-mais-rápidos)\n",
    "    - [descoberta dos parametros e avaliação dos métodos](#Como-avaliar-modelos?)\n",
    "- [Como gerar o resultado por meio do dataset fornecido pelo professor](#Geração-do-resultado-no-dataset-fornecido-pelo-professor)"
   ]
  },
  {
   "cell_type": "markdown",
   "metadata": {},
   "source": [
    "## Tipos de representações de dados categóricos e textual"
   ]
  },
  {
   "cell_type": "markdown",
   "metadata": {},
   "source": [
    "A maioria dos métodos de aprendizado de máquina esperam como entrada valores numéricos. Por isso, temos que fazer tratamento quando o dado é categorico. Além disso, outro tipo de dado que precisamos de tratamento especial é o texto corrido que pode trazer muita informação relevante para tarefas de aprendizado de máquin. Nesta seção, será explicado um pouco sobre algumas abordagens da mais simples até a mais usada\n",
    "."
   ]
  },
  {
   "cell_type": "markdown",
   "metadata": {},
   "source": [
    "# Transformação para um número"
   ]
  },
  {
   "cell_type": "markdown",
   "metadata": {},
   "source": [
    "A forma mais simples de se fazer a transformação é simplesmente mapear esse atributo para um valor numérico. Veja o exemplo abaixo: \n",
    "    "
   ]
  },
  {
   "cell_type": "code",
   "execution_count": 2,
   "metadata": {},
   "outputs": [
    {
     "data": {
      "text/html": [
       "<div>\n",
       "<style scoped>\n",
       "    .dataframe tbody tr th:only-of-type {\n",
       "        vertical-align: middle;\n",
       "    }\n",
       "\n",
       "    .dataframe tbody tr th {\n",
       "        vertical-align: top;\n",
       "    }\n",
       "\n",
       "    .dataframe thead th {\n",
       "        text-align: right;\n",
       "    }\n",
       "</style>\n",
       "<table border=\"1\" class=\"dataframe\">\n",
       "  <thead>\n",
       "    <tr style=\"text-align: right;\">\n",
       "      <th></th>\n",
       "      <th>disposição</th>\n",
       "      <th>tempo</th>\n",
       "      <th>jogar volei?</th>\n",
       "    </tr>\n",
       "  </thead>\n",
       "  <tbody>\n",
       "    <tr>\n",
       "      <th>0</th>\n",
       "      <td>boa</td>\n",
       "      <td>nublado</td>\n",
       "      <td>não</td>\n",
       "    </tr>\n",
       "    <tr>\n",
       "      <th>1</th>\n",
       "      <td>boa</td>\n",
       "      <td>chuvoso</td>\n",
       "      <td>não</td>\n",
       "    </tr>\n",
       "    <tr>\n",
       "      <th>2</th>\n",
       "      <td>média</td>\n",
       "      <td>nublado</td>\n",
       "      <td>sim</td>\n",
       "    </tr>\n",
       "    <tr>\n",
       "      <th>3</th>\n",
       "      <td>fraca</td>\n",
       "      <td>chuvoso</td>\n",
       "      <td>não</td>\n",
       "    </tr>\n",
       "  </tbody>\n",
       "</table>\n",
       "</div>"
      ],
      "text/plain": [
       "  disposição    tempo jogar volei?\n",
       "0        boa  nublado          não\n",
       "1        boa  chuvoso          não\n",
       "2      média  nublado          sim\n",
       "3      fraca  chuvoso          não"
      ]
     },
     "execution_count": 2,
     "metadata": {},
     "output_type": "execute_result"
    }
   ],
   "source": [
    "import pandas as pd\n",
    "df_jogos = pd.DataFrame([   [\"boa\",\"nublado\",\"não\"],\n",
    "                            [\"boa\",\"chuvoso\",\"não\"],\n",
    "                           [\"média\",\"nublado\",\"sim\"],\n",
    "                         [\"fraca\",\"chuvoso\",\"não\"]],\n",
    "                        columns=[\"disposição\",\"tempo\",\"jogar volei?\"])\n",
    "df_jogos"
   ]
  },
  {
   "cell_type": "markdown",
   "metadata": {},
   "source": [
    "Nesse exemplo, temos dois atributos disposição do jogador e tempo e queremos prever se o jogar irá jogar volei ou não. Tanto os atributos quanto a classe podem ser mapeados como número. Além disso, o atributo `disposicao` é um atributo que representa uma escala - o que deixa essa forma de tranformação bem adequada para esse atributo."
   ]
  },
  {
   "cell_type": "code",
   "execution_count": 3,
   "metadata": {},
   "outputs": [
    {
     "data": {
      "text/html": [
       "<div>\n",
       "<style scoped>\n",
       "    .dataframe tbody tr th:only-of-type {\n",
       "        vertical-align: middle;\n",
       "    }\n",
       "\n",
       "    .dataframe tbody tr th {\n",
       "        vertical-align: top;\n",
       "    }\n",
       "\n",
       "    .dataframe thead th {\n",
       "        text-align: right;\n",
       "    }\n",
       "</style>\n",
       "<table border=\"1\" class=\"dataframe\">\n",
       "  <thead>\n",
       "    <tr style=\"text-align: right;\">\n",
       "      <th></th>\n",
       "      <th>disposição</th>\n",
       "      <th>tempo</th>\n",
       "      <th>jogar volei?</th>\n",
       "    </tr>\n",
       "  </thead>\n",
       "  <tbody>\n",
       "    <tr>\n",
       "      <th>0</th>\n",
       "      <td>3</td>\n",
       "      <td>2</td>\n",
       "      <td>1</td>\n",
       "    </tr>\n",
       "    <tr>\n",
       "      <th>1</th>\n",
       "      <td>3</td>\n",
       "      <td>1</td>\n",
       "      <td>0</td>\n",
       "    </tr>\n",
       "    <tr>\n",
       "      <th>2</th>\n",
       "      <td>2</td>\n",
       "      <td>3</td>\n",
       "      <td>1</td>\n",
       "    </tr>\n",
       "    <tr>\n",
       "      <th>3</th>\n",
       "      <td>1</td>\n",
       "      <td>1</td>\n",
       "      <td>0</td>\n",
       "    </tr>\n",
       "  </tbody>\n",
       "</table>\n",
       "</div>"
      ],
      "text/plain": [
       "  disposição tempo jogar volei?\n",
       "0          3     2            1\n",
       "1          3     1            0\n",
       "2          2     3            1\n",
       "3          1     1            0"
      ]
     },
     "execution_count": 3,
     "metadata": {},
     "output_type": "execute_result"
    }
   ],
   "source": [
    "from typing import Dict\n",
    "def mapeia_atributo_para_int(df_data:pd.DataFrame, coluna:str, dic_nom_to_int: Dict[int,str]):\n",
    "    for i,valor in enumerate(df_data[coluna]):\n",
    "        valor_int = dic_nom_to_int[valor]\n",
    "        df_data[coluna].iat[i] = valor_int\n",
    "\n",
    "        \n",
    "df_jogos = pd.DataFrame([   [\"boa\",\"nublado\",\"sim\"],\n",
    "                            [\"boa\",\"chuvoso\",\"não\"],\n",
    "                           [\"média\",\"ensolarado\",\"sim\"],\n",
    "                         [\"fraca\",\"chuvoso\",\"não\"]],\n",
    "                        columns=[\"disposição\",\"tempo\",\"jogar volei?\"])\n",
    "dic_disposicao = {\"boa\":3,\"média\":2,\"fraca\":1}\n",
    "mapeia_atributo_para_int(df_jogos, \"disposição\", dic_disposicao)\n",
    "\n",
    "dic_tempo = {\"ensolarado\":3,\"nublado\":2,\"chuvoso\":1}\n",
    "mapeia_atributo_para_int(df_jogos, \"tempo\", dic_tempo)\n",
    "\n",
    "dic_volei = {\"sim\":1, \"não\":0}\n",
    "mapeia_atributo_para_int(df_jogos, \"jogar volei?\", dic_volei)\n",
    "df_jogos"
   ]
  },
  {
   "cell_type": "markdown",
   "metadata": {},
   "source": [
    "## Binarização dos atributos categóricos"
   ]
  },
  {
   "cell_type": "markdown",
   "metadata": {},
   "source": [
    "\n",
    "Podemos fazer a binarização dos atributos categóricos em que, cada valor de atributo transforma-se em uma coluna que recebe `0` caso esse atributo não exista e `1`, caso contrário. Em nosso exemplo: "
   ]
  },
  {
   "cell_type": "code",
   "execution_count": 4,
   "metadata": {},
   "outputs": [
    {
     "name": "stdout",
     "output_type": "stream",
     "text": [
      "0/4\n"
     ]
    },
    {
     "data": {
      "text/html": [
       "<div>\n",
       "<style scoped>\n",
       "    .dataframe tbody tr th:only-of-type {\n",
       "        vertical-align: middle;\n",
       "    }\n",
       "\n",
       "    .dataframe tbody tr th {\n",
       "        vertical-align: top;\n",
       "    }\n",
       "\n",
       "    .dataframe thead th {\n",
       "        text-align: right;\n",
       "    }\n",
       "</style>\n",
       "<table border=\"1\" class=\"dataframe\">\n",
       "  <thead>\n",
       "    <tr style=\"text-align: right;\">\n",
       "      <th></th>\n",
       "      <th>nublado</th>\n",
       "      <th>chuvoso</th>\n",
       "      <th>ensolarado</th>\n",
       "      <th>id</th>\n",
       "    </tr>\n",
       "  </thead>\n",
       "  <tbody>\n",
       "    <tr>\n",
       "      <th>0</th>\n",
       "      <td>1</td>\n",
       "      <td>0</td>\n",
       "      <td>0</td>\n",
       "      <td>4</td>\n",
       "    </tr>\n",
       "    <tr>\n",
       "      <th>1</th>\n",
       "      <td>0</td>\n",
       "      <td>1</td>\n",
       "      <td>0</td>\n",
       "      <td>3</td>\n",
       "    </tr>\n",
       "    <tr>\n",
       "      <th>2</th>\n",
       "      <td>0</td>\n",
       "      <td>0</td>\n",
       "      <td>1</td>\n",
       "      <td>2</td>\n",
       "    </tr>\n",
       "    <tr>\n",
       "      <th>3</th>\n",
       "      <td>0</td>\n",
       "      <td>1</td>\n",
       "      <td>0</td>\n",
       "      <td>1</td>\n",
       "    </tr>\n",
       "  </tbody>\n",
       "</table>\n",
       "</div>"
      ],
      "text/plain": [
       "   nublado  chuvoso  ensolarado  id\n",
       "0        1        0           0   4\n",
       "1        0        1           0   3\n",
       "2        0        0           1   2\n",
       "3        0        1           0   1"
      ]
     },
     "execution_count": 4,
     "metadata": {},
     "output_type": "execute_result"
    }
   ],
   "source": [
    "from base_am.preprocessamento_atributos import BagOfItems\n",
    "df_jogos = pd.DataFrame([   [4, \"boa\",\"nublado\",\"sim\"],\n",
    "                            [3,\"boa\",\"chuvoso\",\"não\"],\n",
    "                           [2,\"média\",\"ensolarado\",\"sim\"],\n",
    "                         [1,\"fraca\",\"chuvoso\",\"não\"]],\n",
    "                        columns=[\"id\",\"disposição\",\"tempo\",\"jogar volei?\"])\n",
    "dic_disposicao = {\"boa\":3,\"média\":2,\"fraca\":1}\n",
    "\n",
    "\n",
    "bag_of_tempo = BagOfItems(0)\n",
    "#veja a implementação do método em preprocesamento_atributos.py\n",
    "df_jogos_bot = bag_of_tempo.cria_bag_of_items(df_jogos,[\"tempo\"])\n",
    "df_jogos_bot"
   ]
  },
  {
   "cell_type": "markdown",
   "metadata": {},
   "source": [
    "Como existem vários valores no teste que você desconhece, se fizermos dessa forma, atributos que estão no teste poderiam estar completamente zerados no treino, sendo desnecessário, por exemplo: "
   ]
  },
  {
   "cell_type": "code",
   "execution_count": 5,
   "metadata": {},
   "outputs": [
    {
     "data": {
      "text/html": [
       "<div>\n",
       "<style scoped>\n",
       "    .dataframe tbody tr th:only-of-type {\n",
       "        vertical-align: middle;\n",
       "    }\n",
       "\n",
       "    .dataframe tbody tr th {\n",
       "        vertical-align: top;\n",
       "    }\n",
       "\n",
       "    .dataframe thead th {\n",
       "        text-align: right;\n",
       "    }\n",
       "</style>\n",
       "<table border=\"1\" class=\"dataframe\">\n",
       "  <thead>\n",
       "    <tr style=\"text-align: right;\">\n",
       "      <th></th>\n",
       "      <th>id</th>\n",
       "      <th>disposição</th>\n",
       "      <th>tempo</th>\n",
       "      <th>jogar volei?</th>\n",
       "    </tr>\n",
       "  </thead>\n",
       "  <tbody>\n",
       "    <tr>\n",
       "      <th>0</th>\n",
       "      <td>4</td>\n",
       "      <td>boa</td>\n",
       "      <td>nublado</td>\n",
       "      <td>sim</td>\n",
       "    </tr>\n",
       "    <tr>\n",
       "      <th>1</th>\n",
       "      <td>3</td>\n",
       "      <td>boa</td>\n",
       "      <td>chuvoso</td>\n",
       "      <td>não</td>\n",
       "    </tr>\n",
       "  </tbody>\n",
       "</table>\n",
       "</div>"
      ],
      "text/plain": [
       "   id disposição    tempo jogar volei?\n",
       "0   4        boa  nublado          sim\n",
       "1   3        boa  chuvoso          não"
      ]
     },
     "execution_count": 5,
     "metadata": {},
     "output_type": "execute_result"
    }
   ],
   "source": [
    "df_jogos_treino = df_jogos[:2]\n",
    "df_jogos_treino"
   ]
  },
  {
   "cell_type": "code",
   "execution_count": 6,
   "metadata": {},
   "outputs": [
    {
     "data": {
      "text/html": [
       "<div>\n",
       "<style scoped>\n",
       "    .dataframe tbody tr th:only-of-type {\n",
       "        vertical-align: middle;\n",
       "    }\n",
       "\n",
       "    .dataframe tbody tr th {\n",
       "        vertical-align: top;\n",
       "    }\n",
       "\n",
       "    .dataframe thead th {\n",
       "        text-align: right;\n",
       "    }\n",
       "</style>\n",
       "<table border=\"1\" class=\"dataframe\">\n",
       "  <thead>\n",
       "    <tr style=\"text-align: right;\">\n",
       "      <th></th>\n",
       "      <th>id</th>\n",
       "      <th>disposição</th>\n",
       "      <th>tempo</th>\n",
       "      <th>jogar volei?</th>\n",
       "    </tr>\n",
       "  </thead>\n",
       "  <tbody>\n",
       "    <tr>\n",
       "      <th>2</th>\n",
       "      <td>2</td>\n",
       "      <td>média</td>\n",
       "      <td>ensolarado</td>\n",
       "      <td>sim</td>\n",
       "    </tr>\n",
       "    <tr>\n",
       "      <th>3</th>\n",
       "      <td>1</td>\n",
       "      <td>fraca</td>\n",
       "      <td>chuvoso</td>\n",
       "      <td>não</td>\n",
       "    </tr>\n",
       "  </tbody>\n",
       "</table>\n",
       "</div>"
      ],
      "text/plain": [
       "   id disposição       tempo jogar volei?\n",
       "2   2      média  ensolarado          sim\n",
       "3   1      fraca     chuvoso          não"
      ]
     },
     "execution_count": 6,
     "metadata": {},
     "output_type": "execute_result"
    }
   ],
   "source": [
    "df_jogos_teste = df_jogos[2:]\n",
    "df_jogos_teste"
   ]
  },
  {
   "cell_type": "markdown",
   "metadata": {},
   "source": [
    "Neste exemplo, o tempo ensolarado não está no treino e, assim, não haveria esse atributo no treinamento. Assim, a forma mais correta de fazermos é (a) descobrirmos a lista de valores no treino e, logo após, aplicamos ela no teste. Por exemplo:"
   ]
  },
  {
   "cell_type": "code",
   "execution_count": 7,
   "metadata": {},
   "outputs": [
    {
     "name": "stdout",
     "output_type": "stream",
     "text": [
      "0/2\n"
     ]
    },
    {
     "data": {
      "text/html": [
       "<div>\n",
       "<style scoped>\n",
       "    .dataframe tbody tr th:only-of-type {\n",
       "        vertical-align: middle;\n",
       "    }\n",
       "\n",
       "    .dataframe tbody tr th {\n",
       "        vertical-align: top;\n",
       "    }\n",
       "\n",
       "    .dataframe thead th {\n",
       "        text-align: right;\n",
       "    }\n",
       "</style>\n",
       "<table border=\"1\" class=\"dataframe\">\n",
       "  <thead>\n",
       "    <tr style=\"text-align: right;\">\n",
       "      <th></th>\n",
       "      <th>nublado</th>\n",
       "      <th>chuvoso</th>\n",
       "      <th>id</th>\n",
       "    </tr>\n",
       "  </thead>\n",
       "  <tbody>\n",
       "    <tr>\n",
       "      <th>0</th>\n",
       "      <td>1</td>\n",
       "      <td>0</td>\n",
       "      <td>4</td>\n",
       "    </tr>\n",
       "    <tr>\n",
       "      <th>1</th>\n",
       "      <td>0</td>\n",
       "      <td>1</td>\n",
       "      <td>3</td>\n",
       "    </tr>\n",
       "  </tbody>\n",
       "</table>\n",
       "</div>"
      ],
      "text/plain": [
       "   nublado  chuvoso  id\n",
       "0        1        0   4\n",
       "1        0        1   3"
      ]
     },
     "execution_count": 7,
     "metadata": {},
     "output_type": "execute_result"
    }
   ],
   "source": [
    "bag_of_tempo = BagOfItems(0)\n",
    "df_jogos_bot_treino = bag_of_tempo.cria_bag_of_items(df_jogos_treino,[\"tempo\"])\n",
    "df_jogos_bot_treino"
   ]
  },
  {
   "cell_type": "code",
   "execution_count": 8,
   "metadata": {},
   "outputs": [
    {
     "name": "stdout",
     "output_type": "stream",
     "text": [
      "0/2\n"
     ]
    },
    {
     "data": {
      "text/html": [
       "<div>\n",
       "<style scoped>\n",
       "    .dataframe tbody tr th:only-of-type {\n",
       "        vertical-align: middle;\n",
       "    }\n",
       "\n",
       "    .dataframe tbody tr th {\n",
       "        vertical-align: top;\n",
       "    }\n",
       "\n",
       "    .dataframe thead th {\n",
       "        text-align: right;\n",
       "    }\n",
       "</style>\n",
       "<table border=\"1\" class=\"dataframe\">\n",
       "  <thead>\n",
       "    <tr style=\"text-align: right;\">\n",
       "      <th></th>\n",
       "      <th>nublado</th>\n",
       "      <th>chuvoso</th>\n",
       "      <th>id</th>\n",
       "    </tr>\n",
       "  </thead>\n",
       "  <tbody>\n",
       "    <tr>\n",
       "      <th>0</th>\n",
       "      <td>0</td>\n",
       "      <td>0</td>\n",
       "      <td>2</td>\n",
       "    </tr>\n",
       "    <tr>\n",
       "      <th>1</th>\n",
       "      <td>0</td>\n",
       "      <td>1</td>\n",
       "      <td>1</td>\n",
       "    </tr>\n",
       "  </tbody>\n",
       "</table>\n",
       "</div>"
      ],
      "text/plain": [
       "   nublado  chuvoso  id\n",
       "0        0        0   2\n",
       "1        0        1   1"
      ]
     },
     "execution_count": 8,
     "metadata": {},
     "output_type": "execute_result"
    }
   ],
   "source": [
    "df_jogos_bot_teste = bag_of_tempo.aplica_bag_of_items(df_jogos_teste,[\"tempo\"])\n",
    "df_jogos_bot_teste"
   ]
  },
  {
   "cell_type": "markdown",
   "metadata": {},
   "source": [
    "# Como o impacto no resultado não é tão grande, muitas vezes optamos por fazer binarização no dataset completo, por simplicidade. "
   ]
  },
  {
   "cell_type": "markdown",
   "metadata": {},
   "source": [
    "Como veremos no próximo exemplo, a binarização pode gerar milhares de atributos pois, em um exemplo completo, uma coluna pode assumir muitos valores. Por isso, colocamos um dataframe separado com tais colunas - neste caso, o `df_jogos_bot`. Se desejar, você pode juntar dois DataFrames pelo `id`:"
   ]
  },
  {
   "cell_type": "code",
   "execution_count": 9,
   "metadata": {},
   "outputs": [],
   "source": [
    "df_jogos_full = pd.merge(df_jogos, df_jogos_bot, on='id')"
   ]
  },
  {
   "cell_type": "code",
   "execution_count": 10,
   "metadata": {},
   "outputs": [
    {
     "data": {
      "text/html": [
       "<div>\n",
       "<style scoped>\n",
       "    .dataframe tbody tr th:only-of-type {\n",
       "        vertical-align: middle;\n",
       "    }\n",
       "\n",
       "    .dataframe tbody tr th {\n",
       "        vertical-align: top;\n",
       "    }\n",
       "\n",
       "    .dataframe thead th {\n",
       "        text-align: right;\n",
       "    }\n",
       "</style>\n",
       "<table border=\"1\" class=\"dataframe\">\n",
       "  <thead>\n",
       "    <tr style=\"text-align: right;\">\n",
       "      <th></th>\n",
       "      <th>id</th>\n",
       "      <th>disposição</th>\n",
       "      <th>tempo</th>\n",
       "      <th>jogar volei?</th>\n",
       "      <th>nublado</th>\n",
       "      <th>chuvoso</th>\n",
       "      <th>ensolarado</th>\n",
       "    </tr>\n",
       "  </thead>\n",
       "  <tbody>\n",
       "    <tr>\n",
       "      <th>0</th>\n",
       "      <td>4</td>\n",
       "      <td>boa</td>\n",
       "      <td>nublado</td>\n",
       "      <td>sim</td>\n",
       "      <td>1</td>\n",
       "      <td>0</td>\n",
       "      <td>0</td>\n",
       "    </tr>\n",
       "    <tr>\n",
       "      <th>1</th>\n",
       "      <td>3</td>\n",
       "      <td>boa</td>\n",
       "      <td>chuvoso</td>\n",
       "      <td>não</td>\n",
       "      <td>0</td>\n",
       "      <td>1</td>\n",
       "      <td>0</td>\n",
       "    </tr>\n",
       "    <tr>\n",
       "      <th>2</th>\n",
       "      <td>2</td>\n",
       "      <td>média</td>\n",
       "      <td>ensolarado</td>\n",
       "      <td>sim</td>\n",
       "      <td>0</td>\n",
       "      <td>0</td>\n",
       "      <td>1</td>\n",
       "    </tr>\n",
       "    <tr>\n",
       "      <th>3</th>\n",
       "      <td>1</td>\n",
       "      <td>fraca</td>\n",
       "      <td>chuvoso</td>\n",
       "      <td>não</td>\n",
       "      <td>0</td>\n",
       "      <td>1</td>\n",
       "      <td>0</td>\n",
       "    </tr>\n",
       "  </tbody>\n",
       "</table>\n",
       "</div>"
      ],
      "text/plain": [
       "   id disposição       tempo jogar volei?  nublado  chuvoso  ensolarado\n",
       "0   4        boa     nublado          sim        1        0           0\n",
       "1   3        boa     chuvoso          não        0        1           0\n",
       "2   2      média  ensolarado          sim        0        0           1\n",
       "3   1      fraca     chuvoso          não        0        1           0"
      ]
     },
     "execution_count": 10,
     "metadata": {},
     "output_type": "execute_result"
    }
   ],
   "source": [
    "df_jogos_full"
   ]
  },
  {
   "cell_type": "markdown",
   "metadata": {},
   "source": [
    "## Representação Bag of Words"
   ]
  },
  {
   "cell_type": "markdown",
   "metadata": {},
   "source": [
    "Muitas vezes, temos textos que podem ser relevantes para uma determinada tarefa de aprendizado d máquina. Por isso, temos que representar tais elementos para nosso método de aprendizado de máquina. \n",
    "\n",
    "A forma mais usual para isso, é a `Bag of Words` em que cada palavra é um atributo e, o valor dela, é a frequencia dele no texto (ou algum outro valor que indique a importancia dessa palavra no texto).\n",
    "\n",
    "Por exemplo, caso temos as frases `A casa é grande`, `A casa é verde verde` em que cada frase é uma instancia diferente. A representação seria da seguinte forma: "
   ]
  },
  {
   "cell_type": "code",
   "execution_count": 11,
   "metadata": {},
   "outputs": [
    {
     "data": {
      "text/html": [
       "<div>\n",
       "<style scoped>\n",
       "    .dataframe tbody tr th:only-of-type {\n",
       "        vertical-align: middle;\n",
       "    }\n",
       "\n",
       "    .dataframe tbody tr th {\n",
       "        vertical-align: top;\n",
       "    }\n",
       "\n",
       "    .dataframe thead th {\n",
       "        text-align: right;\n",
       "    }\n",
       "</style>\n",
       "<table border=\"1\" class=\"dataframe\">\n",
       "  <thead>\n",
       "    <tr style=\"text-align: right;\">\n",
       "      <th></th>\n",
       "      <th>a</th>\n",
       "      <th>casa</th>\n",
       "      <th>é</th>\n",
       "      <th>verde</th>\n",
       "    </tr>\n",
       "  </thead>\n",
       "  <tbody>\n",
       "    <tr>\n",
       "      <th>0</th>\n",
       "      <td>1</td>\n",
       "      <td>1</td>\n",
       "      <td>1</td>\n",
       "      <td>0</td>\n",
       "    </tr>\n",
       "    <tr>\n",
       "      <th>1</th>\n",
       "      <td>1</td>\n",
       "      <td>1</td>\n",
       "      <td>1</td>\n",
       "      <td>2</td>\n",
       "    </tr>\n",
       "  </tbody>\n",
       "</table>\n",
       "</div>"
      ],
      "text/plain": [
       "   a  casa  é  verde\n",
       "0  1     1  1      0\n",
       "1  1     1  1      2"
      ]
     },
     "execution_count": 11,
     "metadata": {},
     "output_type": "execute_result"
    }
   ],
   "source": [
    "dic_bow = {\"a\":[1,1],\n",
    "         \"casa\":[1,1],\n",
    "         \"é\":[1,1],\n",
    "         \"verde\":[0,2]\n",
    "        }\n",
    "df_bow = pd.DataFrame.from_dict(dic_bow)\n",
    "df_bow"
   ]
  },
  {
   "cell_type": "markdown",
   "metadata": {},
   "source": [
    "Da forma que fizemos acima, usamos a frequencia de um termo para definir sua importancia no texto, porém, existem termos que possuem uma frequencia muito alta e importancia baixa: são os casos dos artigos e preposições por exemplo, pois, eles não discriminam o texto. \n",
    "\n",
    "Uma forma de mensurar o porder discriminativo das palavras é usando a métrica `TF-IDF`. Para calcularmos essa métrica, primeiramente calculamos a frequencia de um termo no documento (TF) e, logo após multiplamos pelo IDF. \n",
    "A fórmula para calcular o TF-IDF do termo $i$ no documento (ou instancia) $j$ é a seguinte:\n",
    "\n",
    "\\begin{equation}\n",
    "    TFIDF_{ij} = TF_{ij} \\times IDF_i\n",
    "\\end{equation}\n",
    "\\begin{equation}\n",
    "    TF_{ij} = log(f_{ij})\n",
    "\\end{equation}\n",
    "\n",
    "em que $f_{ij}$ é a frequencia de um termo $i$ no documento $j$. Usa-se o `log` para suavizar valores muito altos e o $IDF$ (do inglês, _Inverse Document Frequency_) do termo $i$ é calculado da seguinte forma:\n",
    "\n",
    "\\begin{equation}\n",
    "    IDF_i = log(\\frac{N}{n_i})\n",
    "\\end{equation}\n",
    "\n",
    "em que $N$ é o número de documentos da coleção e $n_i$ é o número de documentos em que esse termo $i$ ocorre. Espera-se que, quanto mais discriminativo o termo, em menos documentos esse termo irá ocorrer e, consequentemente, o $IDF$ deste termo será mais alto. \n",
    "\n",
    "Por exemplo, considere as palavras `de`, `bebida` e `cerveja`. `cerveja` é uma palavra mais discriminativa do que `bebida`; e `bebibda` é mais discriminativo do que a preposição `de`. Muito provavelmente teremos mais frequentemente termos menos discriminativos. Por exemplo, se tivermos uma coleção de 1000 documentos,   `de` poderia ocorrer em 900 documentos,  `bebida` em 500 e `cerveja` em 100 documentos. Se fizermos o calculo, veremos que quanto mais discriminativo um termo, mais alto é seu IDF:"
   ]
  },
  {
   "cell_type": "code",
   "execution_count": 12,
   "metadata": {},
   "outputs": [
    {
     "name": "stdout",
     "output_type": "stream",
     "text": [
      "IDF_de: 0.10536051565782635\tIDF_bebida:0.6931471805599453\tIDF_cerveja:2.302585092994046\n"
     ]
    }
   ],
   "source": [
    "import math\n",
    "N = 1000\n",
    "n_de = 900\n",
    "n_bebida = 500\n",
    "n_cerveja = 100\n",
    "\n",
    "IDF_de = math.log(N/n_de)\n",
    "IDF_bebida = math.log(N/n_bebida)\n",
    "IDF_cerveja = math.log(N/n_cerveja)\n",
    "\n",
    "print(f\"IDF_de: {IDF_de}\\tIDF_bebida:{IDF_bebida}\\tIDF_cerveja:{IDF_cerveja}\")"
   ]
  },
  {
   "cell_type": "markdown",
   "metadata": {},
   "source": [
    "A biblioteca `scikitlearn`também já possui uma classe [TFIDFVectorizer](https://scikit-learn.org/stable/modules/generated/sklearn.feature_extraction.text.TfidfVectorizer.html) que transforma um texto em um vetor de atributos usando o TF-IDF para o valor referente a relevancia deste termo. Veja um exemplo na coluna `lyrics` do nosso dataset de músicas:"
   ]
  },
  {
   "cell_type": "code",
   "execution_count": 13,
   "metadata": {},
   "outputs": [
    {
     "data": {
      "text/html": [
       "<div>\n",
       "<style scoped>\n",
       "    .dataframe tbody tr th:only-of-type {\n",
       "        vertical-align: middle;\n",
       "    }\n",
       "\n",
       "    .dataframe tbody tr th {\n",
       "        vertical-align: top;\n",
       "    }\n",
       "\n",
       "    .dataframe thead th {\n",
       "        text-align: right;\n",
       "    }\n",
       "</style>\n",
       "<table border=\"1\" class=\"dataframe\">\n",
       "  <thead>\n",
       "    <tr style=\"text-align: right;\">\n",
       "      <th></th>\n",
       "      <th>000</th>\n",
       "      <th>01715599</th>\n",
       "      <th>05</th>\n",
       "      <th>08</th>\n",
       "      <th>0ver</th>\n",
       "      <th>10</th>\n",
       "      <th>100</th>\n",
       "      <th>1000</th>\n",
       "      <th>100æ</th>\n",
       "      <th>102</th>\n",
       "      <th>...</th>\n",
       "      <th>ð¾ð¼</th>\n",
       "      <th>ð¾ð½ð</th>\n",
       "      <th>ð¾ð½ðµ</th>\n",
       "      <th>ð¾ð½ð½ñ</th>\n",
       "      <th>ð¾ð½ñ</th>\n",
       "      <th>ð¾ñ</th>\n",
       "      <th>óig</th>\n",
       "      <th>ólta</th>\n",
       "      <th>über</th>\n",
       "      <th>überkochende</th>\n",
       "    </tr>\n",
       "  </thead>\n",
       "  <tbody>\n",
       "    <tr>\n",
       "      <th>0</th>\n",
       "      <td>0.0</td>\n",
       "      <td>0.0</td>\n",
       "      <td>0.0</td>\n",
       "      <td>0.0</td>\n",
       "      <td>0.0</td>\n",
       "      <td>0.0</td>\n",
       "      <td>0.000000</td>\n",
       "      <td>0.0</td>\n",
       "      <td>0.0</td>\n",
       "      <td>0.0</td>\n",
       "      <td>...</td>\n",
       "      <td>0.0</td>\n",
       "      <td>0.0</td>\n",
       "      <td>0.0</td>\n",
       "      <td>0.0</td>\n",
       "      <td>0.0</td>\n",
       "      <td>0.0</td>\n",
       "      <td>0.0</td>\n",
       "      <td>0.0</td>\n",
       "      <td>0.0</td>\n",
       "      <td>0.0</td>\n",
       "    </tr>\n",
       "    <tr>\n",
       "      <th>1</th>\n",
       "      <td>0.0</td>\n",
       "      <td>0.0</td>\n",
       "      <td>0.0</td>\n",
       "      <td>0.0</td>\n",
       "      <td>0.0</td>\n",
       "      <td>0.0</td>\n",
       "      <td>0.000000</td>\n",
       "      <td>0.0</td>\n",
       "      <td>0.0</td>\n",
       "      <td>0.0</td>\n",
       "      <td>...</td>\n",
       "      <td>0.0</td>\n",
       "      <td>0.0</td>\n",
       "      <td>0.0</td>\n",
       "      <td>0.0</td>\n",
       "      <td>0.0</td>\n",
       "      <td>0.0</td>\n",
       "      <td>0.0</td>\n",
       "      <td>0.0</td>\n",
       "      <td>0.0</td>\n",
       "      <td>0.0</td>\n",
       "    </tr>\n",
       "    <tr>\n",
       "      <th>2</th>\n",
       "      <td>0.0</td>\n",
       "      <td>0.0</td>\n",
       "      <td>0.0</td>\n",
       "      <td>0.0</td>\n",
       "      <td>0.0</td>\n",
       "      <td>0.0</td>\n",
       "      <td>0.000000</td>\n",
       "      <td>0.0</td>\n",
       "      <td>0.0</td>\n",
       "      <td>0.0</td>\n",
       "      <td>...</td>\n",
       "      <td>0.0</td>\n",
       "      <td>0.0</td>\n",
       "      <td>0.0</td>\n",
       "      <td>0.0</td>\n",
       "      <td>0.0</td>\n",
       "      <td>0.0</td>\n",
       "      <td>0.0</td>\n",
       "      <td>0.0</td>\n",
       "      <td>0.0</td>\n",
       "      <td>0.0</td>\n",
       "    </tr>\n",
       "    <tr>\n",
       "      <th>3</th>\n",
       "      <td>0.0</td>\n",
       "      <td>0.0</td>\n",
       "      <td>0.0</td>\n",
       "      <td>0.0</td>\n",
       "      <td>0.0</td>\n",
       "      <td>0.0</td>\n",
       "      <td>0.000000</td>\n",
       "      <td>0.0</td>\n",
       "      <td>0.0</td>\n",
       "      <td>0.0</td>\n",
       "      <td>...</td>\n",
       "      <td>0.0</td>\n",
       "      <td>0.0</td>\n",
       "      <td>0.0</td>\n",
       "      <td>0.0</td>\n",
       "      <td>0.0</td>\n",
       "      <td>0.0</td>\n",
       "      <td>0.0</td>\n",
       "      <td>0.0</td>\n",
       "      <td>0.0</td>\n",
       "      <td>0.0</td>\n",
       "    </tr>\n",
       "    <tr>\n",
       "      <th>4</th>\n",
       "      <td>0.0</td>\n",
       "      <td>0.0</td>\n",
       "      <td>0.0</td>\n",
       "      <td>0.0</td>\n",
       "      <td>0.0</td>\n",
       "      <td>0.0</td>\n",
       "      <td>0.000000</td>\n",
       "      <td>0.0</td>\n",
       "      <td>0.0</td>\n",
       "      <td>0.0</td>\n",
       "      <td>...</td>\n",
       "      <td>0.0</td>\n",
       "      <td>0.0</td>\n",
       "      <td>0.0</td>\n",
       "      <td>0.0</td>\n",
       "      <td>0.0</td>\n",
       "      <td>0.0</td>\n",
       "      <td>0.0</td>\n",
       "      <td>0.0</td>\n",
       "      <td>0.0</td>\n",
       "      <td>0.0</td>\n",
       "    </tr>\n",
       "    <tr>\n",
       "      <th>...</th>\n",
       "      <td>...</td>\n",
       "      <td>...</td>\n",
       "      <td>...</td>\n",
       "      <td>...</td>\n",
       "      <td>...</td>\n",
       "      <td>...</td>\n",
       "      <td>...</td>\n",
       "      <td>...</td>\n",
       "      <td>...</td>\n",
       "      <td>...</td>\n",
       "      <td>...</td>\n",
       "      <td>...</td>\n",
       "      <td>...</td>\n",
       "      <td>...</td>\n",
       "      <td>...</td>\n",
       "      <td>...</td>\n",
       "      <td>...</td>\n",
       "      <td>...</td>\n",
       "      <td>...</td>\n",
       "      <td>...</td>\n",
       "      <td>...</td>\n",
       "    </tr>\n",
       "    <tr>\n",
       "      <th>4995</th>\n",
       "      <td>0.0</td>\n",
       "      <td>0.0</td>\n",
       "      <td>0.0</td>\n",
       "      <td>0.0</td>\n",
       "      <td>0.0</td>\n",
       "      <td>0.0</td>\n",
       "      <td>0.000000</td>\n",
       "      <td>0.0</td>\n",
       "      <td>0.0</td>\n",
       "      <td>0.0</td>\n",
       "      <td>...</td>\n",
       "      <td>0.0</td>\n",
       "      <td>0.0</td>\n",
       "      <td>0.0</td>\n",
       "      <td>0.0</td>\n",
       "      <td>0.0</td>\n",
       "      <td>0.0</td>\n",
       "      <td>0.0</td>\n",
       "      <td>0.0</td>\n",
       "      <td>0.0</td>\n",
       "      <td>0.0</td>\n",
       "    </tr>\n",
       "    <tr>\n",
       "      <th>4996</th>\n",
       "      <td>0.0</td>\n",
       "      <td>0.0</td>\n",
       "      <td>0.0</td>\n",
       "      <td>0.0</td>\n",
       "      <td>0.0</td>\n",
       "      <td>0.0</td>\n",
       "      <td>0.000000</td>\n",
       "      <td>0.0</td>\n",
       "      <td>0.0</td>\n",
       "      <td>0.0</td>\n",
       "      <td>...</td>\n",
       "      <td>0.0</td>\n",
       "      <td>0.0</td>\n",
       "      <td>0.0</td>\n",
       "      <td>0.0</td>\n",
       "      <td>0.0</td>\n",
       "      <td>0.0</td>\n",
       "      <td>0.0</td>\n",
       "      <td>0.0</td>\n",
       "      <td>0.0</td>\n",
       "      <td>0.0</td>\n",
       "    </tr>\n",
       "    <tr>\n",
       "      <th>4997</th>\n",
       "      <td>0.0</td>\n",
       "      <td>0.0</td>\n",
       "      <td>0.0</td>\n",
       "      <td>0.0</td>\n",
       "      <td>0.0</td>\n",
       "      <td>0.0</td>\n",
       "      <td>0.000000</td>\n",
       "      <td>0.0</td>\n",
       "      <td>0.0</td>\n",
       "      <td>0.0</td>\n",
       "      <td>...</td>\n",
       "      <td>0.0</td>\n",
       "      <td>0.0</td>\n",
       "      <td>0.0</td>\n",
       "      <td>0.0</td>\n",
       "      <td>0.0</td>\n",
       "      <td>0.0</td>\n",
       "      <td>0.0</td>\n",
       "      <td>0.0</td>\n",
       "      <td>0.0</td>\n",
       "      <td>0.0</td>\n",
       "    </tr>\n",
       "    <tr>\n",
       "      <th>4998</th>\n",
       "      <td>0.0</td>\n",
       "      <td>0.0</td>\n",
       "      <td>0.0</td>\n",
       "      <td>0.0</td>\n",
       "      <td>0.0</td>\n",
       "      <td>0.0</td>\n",
       "      <td>0.000000</td>\n",
       "      <td>0.0</td>\n",
       "      <td>0.0</td>\n",
       "      <td>0.0</td>\n",
       "      <td>...</td>\n",
       "      <td>0.0</td>\n",
       "      <td>0.0</td>\n",
       "      <td>0.0</td>\n",
       "      <td>0.0</td>\n",
       "      <td>0.0</td>\n",
       "      <td>0.0</td>\n",
       "      <td>0.0</td>\n",
       "      <td>0.0</td>\n",
       "      <td>0.0</td>\n",
       "      <td>0.0</td>\n",
       "    </tr>\n",
       "    <tr>\n",
       "      <th>4999</th>\n",
       "      <td>0.0</td>\n",
       "      <td>0.0</td>\n",
       "      <td>0.0</td>\n",
       "      <td>0.0</td>\n",
       "      <td>0.0</td>\n",
       "      <td>0.0</td>\n",
       "      <td>0.112207</td>\n",
       "      <td>0.0</td>\n",
       "      <td>0.0</td>\n",
       "      <td>0.0</td>\n",
       "      <td>...</td>\n",
       "      <td>0.0</td>\n",
       "      <td>0.0</td>\n",
       "      <td>0.0</td>\n",
       "      <td>0.0</td>\n",
       "      <td>0.0</td>\n",
       "      <td>0.0</td>\n",
       "      <td>0.0</td>\n",
       "      <td>0.0</td>\n",
       "      <td>0.0</td>\n",
       "      <td>0.0</td>\n",
       "    </tr>\n",
       "  </tbody>\n",
       "</table>\n",
       "<p>5000 rows × 30391 columns</p>\n",
       "</div>"
      ],
      "text/plain": [
       "      000  01715599   05   08  0ver   10       100  1000  100æ  102  ...  \\\n",
       "0     0.0       0.0  0.0  0.0   0.0  0.0  0.000000   0.0   0.0  0.0  ...   \n",
       "1     0.0       0.0  0.0  0.0   0.0  0.0  0.000000   0.0   0.0  0.0  ...   \n",
       "2     0.0       0.0  0.0  0.0   0.0  0.0  0.000000   0.0   0.0  0.0  ...   \n",
       "3     0.0       0.0  0.0  0.0   0.0  0.0  0.000000   0.0   0.0  0.0  ...   \n",
       "4     0.0       0.0  0.0  0.0   0.0  0.0  0.000000   0.0   0.0  0.0  ...   \n",
       "...   ...       ...  ...  ...   ...  ...       ...   ...   ...  ...  ...   \n",
       "4995  0.0       0.0  0.0  0.0   0.0  0.0  0.000000   0.0   0.0  0.0  ...   \n",
       "4996  0.0       0.0  0.0  0.0   0.0  0.0  0.000000   0.0   0.0  0.0  ...   \n",
       "4997  0.0       0.0  0.0  0.0   0.0  0.0  0.000000   0.0   0.0  0.0  ...   \n",
       "4998  0.0       0.0  0.0  0.0   0.0  0.0  0.000000   0.0   0.0  0.0  ...   \n",
       "4999  0.0       0.0  0.0  0.0   0.0  0.0  0.112207   0.0   0.0  0.0  ...   \n",
       "\n",
       "      ð¾ð¼  ð¾ð½ð  ð¾ð½ðµ  ð¾ð½ð½ñ  ð¾ð½ñ  ð¾ñ  óig  ólta  über  überkochende  \n",
       "0      0.0    0.0     0.0      0.0    0.0  0.0  0.0   0.0   0.0           0.0  \n",
       "1      0.0    0.0     0.0      0.0    0.0  0.0  0.0   0.0   0.0           0.0  \n",
       "2      0.0    0.0     0.0      0.0    0.0  0.0  0.0   0.0   0.0           0.0  \n",
       "3      0.0    0.0     0.0      0.0    0.0  0.0  0.0   0.0   0.0           0.0  \n",
       "4      0.0    0.0     0.0      0.0    0.0  0.0  0.0   0.0   0.0           0.0  \n",
       "...    ...    ...     ...      ...    ...  ...  ...   ...   ...           ...  \n",
       "4995   0.0    0.0     0.0      0.0    0.0  0.0  0.0   0.0   0.0           0.0  \n",
       "4996   0.0    0.0     0.0      0.0    0.0  0.0  0.0   0.0   0.0           0.0  \n",
       "4997   0.0    0.0     0.0      0.0    0.0  0.0  0.0   0.0   0.0           0.0  \n",
       "4998   0.0    0.0     0.0      0.0    0.0  0.0  0.0   0.0   0.0           0.0  \n",
       "4999   0.0    0.0     0.0      0.0    0.0  0.0  0.0   0.0   0.0           0.0  \n",
       "\n",
       "[5000 rows x 30391 columns]"
      ]
     },
     "execution_count": 13,
     "metadata": {},
     "output_type": "execute_result"
    }
   ],
   "source": [
    "import pandas as pd\n",
    "from base_am.preprocessamento_atributos import BagOfWords\n",
    "\n",
    "df_amostra = pd.read_csv(\"datasets/lyrics_amostra.csv\")\n",
    "bow_amostra = BagOfWords()\n",
    "df_bow_amostra = bow_amostra.cria_bow(df_amostra,\"lyrics\")\n",
    "df_bow_amostra\n"
   ]
  },
  {
   "cell_type": "markdown",
   "metadata": {},
   "source": [
    "Como são muitos atributos, pode parecer que não ficou corretamente gerado. Mas, filtrando as palavras de um determinado resumo você verificará que está ok:"
   ]
  },
  {
   "cell_type": "code",
   "execution_count": 14,
   "metadata": {},
   "outputs": [
    {
     "data": {
      "text/html": [
       "<div>\n",
       "<style scoped>\n",
       "    .dataframe tbody tr th:only-of-type {\n",
       "        vertical-align: middle;\n",
       "    }\n",
       "\n",
       "    .dataframe tbody tr th {\n",
       "        vertical-align: top;\n",
       "    }\n",
       "\n",
       "    .dataframe thead th {\n",
       "        text-align: right;\n",
       "    }\n",
       "</style>\n",
       "<table border=\"1\" class=\"dataframe\">\n",
       "  <thead>\n",
       "    <tr style=\"text-align: right;\">\n",
       "      <th></th>\n",
       "      <th>in</th>\n",
       "      <th>screaming</th>\n",
       "      <th>pride</th>\n",
       "    </tr>\n",
       "  </thead>\n",
       "  <tbody>\n",
       "    <tr>\n",
       "      <th>0</th>\n",
       "      <td>0.000000</td>\n",
       "      <td>0.09873</td>\n",
       "      <td>0.08606</td>\n",
       "    </tr>\n",
       "    <tr>\n",
       "      <th>1</th>\n",
       "      <td>0.037870</td>\n",
       "      <td>0.00000</td>\n",
       "      <td>0.00000</td>\n",
       "    </tr>\n",
       "    <tr>\n",
       "      <th>2</th>\n",
       "      <td>0.144143</td>\n",
       "      <td>0.00000</td>\n",
       "      <td>0.00000</td>\n",
       "    </tr>\n",
       "    <tr>\n",
       "      <th>3</th>\n",
       "      <td>0.098268</td>\n",
       "      <td>0.00000</td>\n",
       "      <td>0.00000</td>\n",
       "    </tr>\n",
       "    <tr>\n",
       "      <th>4</th>\n",
       "      <td>0.107559</td>\n",
       "      <td>0.00000</td>\n",
       "      <td>0.00000</td>\n",
       "    </tr>\n",
       "    <tr>\n",
       "      <th>...</th>\n",
       "      <td>...</td>\n",
       "      <td>...</td>\n",
       "      <td>...</td>\n",
       "    </tr>\n",
       "    <tr>\n",
       "      <th>4995</th>\n",
       "      <td>0.183471</td>\n",
       "      <td>0.00000</td>\n",
       "      <td>0.00000</td>\n",
       "    </tr>\n",
       "    <tr>\n",
       "      <th>4996</th>\n",
       "      <td>0.024684</td>\n",
       "      <td>0.00000</td>\n",
       "      <td>0.00000</td>\n",
       "    </tr>\n",
       "    <tr>\n",
       "      <th>4997</th>\n",
       "      <td>0.008507</td>\n",
       "      <td>0.00000</td>\n",
       "      <td>0.00000</td>\n",
       "    </tr>\n",
       "    <tr>\n",
       "      <th>4998</th>\n",
       "      <td>0.000000</td>\n",
       "      <td>0.00000</td>\n",
       "      <td>0.00000</td>\n",
       "    </tr>\n",
       "    <tr>\n",
       "      <th>4999</th>\n",
       "      <td>0.073967</td>\n",
       "      <td>0.00000</td>\n",
       "      <td>0.00000</td>\n",
       "    </tr>\n",
       "  </tbody>\n",
       "</table>\n",
       "<p>5000 rows × 3 columns</p>\n",
       "</div>"
      ],
      "text/plain": [
       "            in  screaming    pride\n",
       "0     0.000000    0.09873  0.08606\n",
       "1     0.037870    0.00000  0.00000\n",
       "2     0.144143    0.00000  0.00000\n",
       "3     0.098268    0.00000  0.00000\n",
       "4     0.107559    0.00000  0.00000\n",
       "...        ...        ...      ...\n",
       "4995  0.183471    0.00000  0.00000\n",
       "4996  0.024684    0.00000  0.00000\n",
       "4997  0.008507    0.00000  0.00000\n",
       "4998  0.000000    0.00000  0.00000\n",
       "4999  0.073967    0.00000  0.00000\n",
       "\n",
       "[5000 rows x 3 columns]"
      ]
     },
     "execution_count": 14,
     "metadata": {},
     "output_type": "execute_result"
    }
   ],
   "source": [
    "df_bow_amostra[[\"in\",\"screaming\", \"pride\"]]"
   ]
  },
  {
   "cell_type": "markdown",
   "metadata": {},
   "source": [
    "Veja que também é uma representação muito extensa, com dezenas de milhares de atributos. Os algoritmos de aprendizado de máquina são geralmente bons em filtrar tais atributos, mesmo assim, você pode usar técnicas de redução de atributos como o Principal Component Analysis (PCA).  Lembre-se de adicionar no requirementes.txt qualquer biblioteca adicional a ser utilizada.\n"
   ]
  },
  {
   "cell_type": "markdown",
   "metadata": {},
   "source": [
    "Não fique preso apenas nessa representações. Vocês podem tentar fazer representações mais sucintas, como, por exemplo, você pode utilizar palavras chaves. Por exemplo, considerando o sentimento: faça uma lista de palavras chaves que remetem \"amor\", \"raiva\", \"felicidade\" e contabilize o quantidade dessas palavras chaves na musica. No final, nesse exemplo, você teria apenas três atributos: número de palavras que remetem a raiva, amor e felicidade na musica. Outro exemplo de atributo mais sucinto seria o tamanho do vocabulário da música."
   ]
  },
  {
   "cell_type": "markdown",
   "metadata": {},
   "source": [
    "## Classificação Hierárquica"
   ]
  },
  {
   "cell_type": "markdown",
   "metadata": {},
   "source": [
    "Nesta competição você deverá usar obrigatóriamente classificação hierarquica. Para entender melhor o funcionamento, estude a Seção 4.2 do [TCC da Barbara Jaber](docs/TCC_Music_genre_Jaber.pdf). "
   ]
  },
  {
   "cell_type": "markdown",
   "metadata": {},
   "source": [
    "## Como começar?"
   ]
  },
  {
   "cell_type": "markdown",
   "metadata": {},
   "source": [
    "Visando uma melhor organização do código e para que vocês possam ter a experiencia de adaptar códigos dos outros - com restrições - vocês deverão fazer as implementações **apenas** nos arquivos de final \"competição\", presente no pacote `competicao` fazendo subclasses/associações com as classes presentes nos arquivos `preprocessamento_atributos.py`, `avaliacao.py`, `resultado.py` e `metodo.py`, que está no pacote `base_am`. \n",
    "\n",
    "Em `metodo_competicao.py` e `avaliacao_competicao` fizemos um exemplo simples usando nosso BOW para vocês entenderem o que deve ser feito nessa tarefa. Em `metodo_competicao.py` fizemos uma classe para classificação hierarquica, temos que preprocessar e gerar alguns atributos. Para isso, fizemos a chamada a função `gerar_atributos` implementada em `preprocessamento_atributos_competicao.py`. Não houve necessidade, porém, você poderia criar novas classes de tipos diferentes de preprocessamento e geração de atributos além de poder criar subclasses de BagOfWords para fazer algum preprocessamento diferente dessas classes. Você pode mudar algo, porém, a classificação deverá ser sempre hierarquica.\n"
   ]
  },
  {
   "cell_type": "markdown",
   "metadata": {},
   "source": [
    "## Inicio - Preprocessamento e testes mais rápidos"
   ]
  },
  {
   "cell_type": "markdown",
   "metadata": {},
   "source": [
    "Partindo do principio **obtenha rapidamente um resultado**, inicialmente, você pode fazer um exemplo bem simples, com um fold apenas. Com isso, você pode testar métodos diferentes, impacto de cada parametro e também o tipo de preprocessamento no texto a ser usado. \n",
    "\n",
    "Investigue quando su método é bom o ruim e, com isso, tente melhorá-lo. Para isso, analise vários tipos de representações, métodos e suas combinações. Dentre análises interessantes, tente refletir qual a classe que o método erra mais, se em algum grupo de instancia que ocorreu erro há alguma particularidade - analisando, principalmente, seus atributos. Verifique também se está ocorrendo overfitting/underfitting.\n",
    "\n",
    "Considerando o preprocessamento, como exemplo criamos a classe MetodoCompeticaoHierarquico no arquivo `competicao_am/metodo_competicao.py` em que é chamado a função gerar_atributos do arquivo `competicao_am/preprocessamento_atributos_competicao.py` que, por sua vez, chama a classe BagOfWordsLyrics. Você pode fazer vários ajustes na classe BagOfWordsLyrics e testar o resultado. Por exemplo:\n",
    "\n",
    "- Ajustar o preprocessamento no método fazendo, por exemplo, transformação da string para minuscula, tratar caso em que não há letra de música, fazer stemming, etc.\n",
    "- Ajustar os parametros do TfidfVectorizer\n",
    "- Ajustar a lista de stopwords para uma maior redução do texto\n",
    "- Criar os atributos usando BagOfWords é apenas uma sugestão. Você pode tentar fazer um preprocessamento diferente, por palavras chaves, por exemplo. Inclusive, caso queira, pode gerar um conjunto de atributos para o primeiro nível e para o segundo nível de forma diferente. \n",
    "- Testar outras representações e redução de dimensionalidade do problema (i.e. redução de atributos). Por exemplo, pesquise sobre Principal Component Analisys (PCA), Latent Dirichlet Allocation (LDA). Qualquer nova implementação deve ser implementada no arquivo `competicao_am/preprocessamento_atributos_competicao.py`. Tente seguir os moldes da geração de representação na função `gerar_atributos_letra_musica`. \n",
    "- Considerando os parâmetros, o  código pode demorar muito para executar dependendo do seu valor, assim, no teste abaixo você pode tentar verificar qual seria a faixa de valores a serem testados verificando o tempo e o impacto de modificar um determinado parametro. Assim, na proxima seção, você pode usar essa informação para definir a variação dos parâmetros. "
   ]
  },
  {
   "cell_type": "code",
   "execution_count": 15,
   "metadata": {},
   "outputs": [
    {
     "name": "stdout",
     "output_type": "stream",
     "text": [
      "Defaulting to user installation because normal site-packages is not writeable\n",
      "Requirement already satisfied: optuna in /home/jovyan/.local/lib/python3.6/site-packages (2.6.0)\n",
      "Requirement already satisfied: colorlog in /home/jovyan/.local/lib/python3.6/site-packages (from optuna) (4.8.0)\n",
      "Requirement already satisfied: cliff in /home/jovyan/.local/lib/python3.6/site-packages (from optuna) (3.7.0)\n",
      "Requirement already satisfied: scipy!=1.4.0 in /opt/conda/lib/python3.6/site-packages (from optuna) (1.3.0)\n",
      "Requirement already satisfied: cmaes>=0.8.2 in /home/jovyan/.local/lib/python3.6/site-packages (from optuna) (0.8.2)\n",
      "Requirement already satisfied: tqdm in /opt/conda/lib/python3.6/site-packages (from optuna) (4.50.0)\n",
      "Requirement already satisfied: alembic in /opt/conda/lib/python3.6/site-packages (from optuna) (1.4.3)\n",
      "Requirement already satisfied: sqlalchemy>=1.1.0 in /opt/conda/lib/python3.6/site-packages (from optuna) (1.3.23)\n",
      "Requirement already satisfied: packaging>=20.0 in /opt/conda/lib/python3.6/site-packages (from optuna) (20.4)\n",
      "Requirement already satisfied: numpy<1.20.0 in /opt/conda/lib/python3.6/site-packages (from optuna) (1.19.5)\n",
      "Requirement already satisfied: pyparsing>=2.0.2 in /opt/conda/lib/python3.6/site-packages (from packaging>=20.0->optuna) (2.4.0)\n",
      "Requirement already satisfied: six in /opt/conda/lib/python3.6/site-packages (from packaging>=20.0->optuna) (1.12.0)\n",
      "Requirement already satisfied: python-dateutil in /opt/conda/lib/python3.6/site-packages (from alembic->optuna) (2.8.0)\n",
      "Requirement already satisfied: Mako in /opt/conda/lib/python3.6/site-packages (from alembic->optuna) (1.1.3)\n",
      "Requirement already satisfied: python-editor>=0.3 in /opt/conda/lib/python3.6/site-packages (from alembic->optuna) (1.0.4)\n",
      "Requirement already satisfied: PrettyTable>=0.7.2 in /home/jovyan/.local/lib/python3.6/site-packages (from cliff->optuna) (2.1.0)\n",
      "Requirement already satisfied: stevedore>=2.0.1 in /home/jovyan/.local/lib/python3.6/site-packages (from cliff->optuna) (3.3.0)\n",
      "Requirement already satisfied: PyYAML>=3.12 in /home/jovyan/.local/lib/python3.6/site-packages (from cliff->optuna) (5.4.1)\n",
      "Requirement already satisfied: cmd2>=1.0.0 in /home/jovyan/.local/lib/python3.6/site-packages (from cliff->optuna) (1.5.0)\n",
      "Requirement already satisfied: pbr!=2.1.0,>=2.0.0 in /home/jovyan/.local/lib/python3.6/site-packages (from cliff->optuna) (5.5.1)\n",
      "Requirement already satisfied: pyperclip>=1.6 in /home/jovyan/.local/lib/python3.6/site-packages (from cmd2>=1.0.0->cliff->optuna) (1.8.2)\n",
      "Requirement already satisfied: attrs>=16.3.0 in /opt/conda/lib/python3.6/site-packages (from cmd2>=1.0.0->cliff->optuna) (20.2.0)\n",
      "Requirement already satisfied: wcwidth>=0.1.7 in /opt/conda/lib/python3.6/site-packages (from cmd2>=1.0.0->cliff->optuna) (0.2.5)\n",
      "Requirement already satisfied: importlib-metadata>=1.6.0 in /opt/conda/lib/python3.6/site-packages (from cmd2>=1.0.0->cliff->optuna) (2.1.1)\n",
      "Requirement already satisfied: colorama>=0.3.7 in /home/jovyan/.local/lib/python3.6/site-packages (from cmd2>=1.0.0->cliff->optuna) (0.4.4)\n",
      "Requirement already satisfied: zipp>=0.5 in /opt/conda/lib/python3.6/site-packages (from importlib-metadata>=1.6.0->cmd2>=1.0.0->cliff->optuna) (3.3.0)\n",
      "Requirement already satisfied: MarkupSafe>=0.9.2 in /opt/conda/lib/python3.6/site-packages (from Mako->alembic->optuna) (1.1.1)\n",
      "====== Resultado primeiro Nivel ====\n",
      "Macro F1: 0.6301511795996555\n",
      "[[445. 191.]\n",
      " [363. 501.]]\n",
      "{0: 'Country_n_Folk', 1: 'Rock_n_Metal'}\n",
      "              precision    recall  f1-score   support\n",
      "\n",
      "           0       0.55      0.70      0.62       636\n",
      "           1       0.72      0.58      0.64       864\n",
      "\n",
      "    accuracy                           0.63      1500\n",
      "   macro avg       0.64      0.64      0.63      1500\n",
      "weighted avg       0.65      0.63      0.63      1500\n",
      "\n",
      "\n",
      "\n",
      "====== Resultado segundo nivel =====\n",
      "Macro F1: 0.4287426611754872\n",
      "[[ 89.  49.  57.  36.]\n",
      " [ 80. 144. 151.  48.]\n",
      " [ 78.  95. 221.  11.]\n",
      " [ 80. 108.  52. 201.]]\n",
      "{0: 'Folk', 1: 'Rock', 2: 'Country', 3: 'Metal'}\n",
      "              precision    recall  f1-score   support\n",
      "\n",
      "           0       0.27      0.39      0.32       231\n",
      "           1       0.36      0.34      0.35       423\n",
      "           2       0.46      0.55      0.50       405\n",
      "           3       0.68      0.46      0.55       441\n",
      "\n",
      "    accuracy                           0.44      1500\n",
      "   macro avg       0.44      0.43      0.43      1500\n",
      "weighted avg       0.47      0.44      0.44      1500\n",
      "\n"
     ]
    }
   ],
   "source": [
    "!pip3 install optuna\n",
    "import pandas as pd\n",
    "from sklearn.metrics import classification_report\n",
    "from sklearn.svm import LinearSVC\n",
    "from sklearn.ensemble import RandomForestClassifier\n",
    "from competicao_am.metodo_competicao import MetodoCompeticaoHierarquico\n",
    "from competicao_am.preprocessamento_atributos_competicao import gerar_atributos_letra_musica\n",
    "\n",
    "df_lyrics = pd.read_csv(\"datasets/lyrics_amostra.csv\")\n",
    "\n",
    "#remove id\n",
    "df_lyrics.drop(\"id\",axis=1)\n",
    "\n",
    "\n",
    "#separa em treino e validacao\n",
    "df_treino = df_lyrics.sample(frac=0.7, random_state=2)\n",
    "df_validacao = df_lyrics.drop(df_treino.index)\n",
    "\n",
    "\n",
    "#cria o metodo de ap de maquina \n",
    "scikit_method = RandomForestClassifier(random_state=2,class_weight='balanced',n_estimators=10)\n",
    "#no método de competição hierarquico, temos que passar como parametro qual é a classe do primeiro nivel tb\n",
    "ml_method = MetodoCompeticaoHierarquico(scikit_method,\"grouped_genre\")\n",
    "\n",
    "result = ml_method.eval(df_treino,df_validacao,\"genre\",seed=2)\n",
    "\n",
    "print(\"====== Resultado primeiro Nivel ====\")\n",
    "result_prim_nivel = ml_method.result_prim_nivel\n",
    "print(f\"Macro F1: {result_prim_nivel.macro_f1}\")\n",
    "print(result_prim_nivel.mat_confusao)\n",
    "print(ml_method.obj_class_prim_nivel.dic_int_to_nom_classe)\n",
    "print(classification_report(result_prim_nivel.y, result_prim_nivel.predict_y))\n",
    "\n",
    "print(\"\\n\\n====== Resultado segundo nivel =====\")\n",
    "print(f\"Macro F1: {result.macro_f1}\")\n",
    "print(result.mat_confusao)\n",
    "print(ml_method.obj_class_final.dic_int_to_nom_classe)\n",
    "\n",
    "print(classification_report(result.y, result.predict_y))"
   ]
  },
  {
   "cell_type": "markdown",
   "metadata": {},
   "source": [
    "## Como avaliar modelos?"
   ]
  },
  {
   "cell_type": "markdown",
   "metadata": {},
   "source": [
    "Nesta parte, você irá descobrir quais são os melhores parametros. Perceba que esses parametros podem ser tanto do método de aprendizado de máquina quanto do método de preprocessamento (foi colocado como exemplo, o parametro max_df de preprocessamento). De forma similar a prática de avaliação, você deverá ajustar as faixas de valores em `competicao_am/avaliacao_competicao.py`. Note que você pode criar diversos métodos de aprendizado de máquina, cada um, terá sua classe de avaliação correpondente. Não se assuste se o código demorar muito para executar, para descobrirmos um bom modelo, muitas vezes, temos que deixar o código rodando por mais de um dia.\n",
    "\n",
    "Nesta parte, você irá efetivamente comparar quais são os melhores métodos e melhores parametros. Assim, você poderá fixar o melhor parametro e método para o dataset fornecido pelo professor.\n",
    "\n",
    "Veja abaixo um exemplo que utilizamos o Método SVM e variamos o custo."
   ]
  },
  {
   "cell_type": "code",
   "execution_count": 16,
   "metadata": {
    "tags": []
   },
   "outputs": [
    {
     "name": "stderr",
     "output_type": "stream",
     "text": [
      "\u001b[32m[I 2021-03-29 21:13:45,220]\u001b[0m A new study created in memory with name: no-name-64e1d23e-48b4-413b-923e-0cfccfb612bf\u001b[0m\n",
      "\u001b[32m[I 2021-03-29 21:13:47,742]\u001b[0m Trial 0 finished with value: 0.4560570633503045 and parameters: {'exp_cost': 1.251066014107722}. Best is trial 0 with value: 0.4560570633503045.\u001b[0m\n",
      "\u001b[32m[I 2021-03-29 21:13:49,769]\u001b[0m A new study created in memory with name: no-name-0b56b698-8e61-4fdb-b48c-a24d542c07dc\u001b[0m\n"
     ]
    },
    {
     "name": "stdout",
     "output_type": "stream",
     "text": [
      "0.5129055995058861\n"
     ]
    },
    {
     "name": "stderr",
     "output_type": "stream",
     "text": [
      "\u001b[32m[I 2021-03-29 21:13:52,550]\u001b[0m Trial 0 finished with value: 0.48912024275650445 and parameters: {'exp_cost': 2.1609734803264744}. Best is trial 0 with value: 0.48912024275650445.\u001b[0m\n",
      "\u001b[32m[I 2021-03-29 21:13:54,738]\u001b[0m A new study created in memory with name: no-name-9cc610b2-12d7-456e-8f24-18b1e1c87adb\u001b[0m\n"
     ]
    },
    {
     "name": "stdout",
     "output_type": "stream",
     "text": [
      "0.5219859840697778\n"
     ]
    },
    {
     "name": "stderr",
     "output_type": "stream",
     "text": [
      "\u001b[32m[I 2021-03-29 21:13:57,062]\u001b[0m Trial 0 finished with value: 0.46394205686801027 and parameters: {'exp_cost': 0.0003431244520346599}. Best is trial 0 with value: 0.46394205686801027.\u001b[0m\n"
     ]
    },
    {
     "name": "stdout",
     "output_type": "stream",
     "text": [
      "0.420171138120186\n",
      "MACRO F1: 0.48502090723194996\n"
     ]
    }
   ],
   "source": [
    "from base_am.resultado import Fold\n",
    "from base_am.avaliacao import Experimento\n",
    "from competicao_am.metodo_competicao import MetodoCompeticaoHierarquico\n",
    "from competicao_am.avaliacao_competicao import OtimizacaoObjetivoSVMCompeticao\n",
    "from sklearn.svm import LinearSVC\n",
    "import pandas as pd\n",
    "\n",
    "df_amostra = pd.read_csv(\"datasets/lyrics_amostra.csv\")\n",
    "\n",
    "arr_folds = Fold.gerar_k_folds(df_amostra, val_k=3, col_classe=\"genre\",\n",
    "                            num_repeticoes=1, num_folds_validacao=2,num_repeticoes_validacao=1)\n",
    "scikit_method = LinearSVC(random_state=2)\n",
    "\n",
    "\n",
    "ml_method = MetodoCompeticaoHierarquico(scikit_method,\"grouped_genre\")\n",
    "\n",
    "ClasseObjetivo = OtimizacaoObjetivoSVMCompeticao\n",
    "#colocamos apenas 5 trials para ir mais rápido. Porém, algumas vezes precisamos de dezenas, centenas - ou milhares - de trials para conseguir uma boa configuração\n",
    "#Isso depende muito da caracteristica do problema, da quantidade de parametros e do impacto desses parametros no resultado\n",
    "experimento = Experimento(arr_folds, ml_method=ml_method,\n",
    "                    ClasseObjetivoOtimizacao=ClasseObjetivo,\n",
    "                    num_trials=1)\n",
    "print(f\"MACRO F1: {experimento.macro_f1_avg}\")\n"
   ]
  },
  {
   "cell_type": "markdown",
   "metadata": {},
   "source": [
    "Se desejar, crie uma subclasse de `Experimento` em \"avaliacao_competicao.py\" para gerar algumas análises, por exemplo, gerar a matriz de confusão que agrupa o resultado dos folds. Para agregar as matrizes de confusão, você pode gerar tanto a média da quantidade por fold ou fazer o somatório de todas elas. \n",
    "\n",
    "Este foi um exemplo com apenas um modelo. Você poderia, por exemplo, para cada nivel, criar modelos distintos e com parametros distintos. Para isso, você pode mudar o constutor da classe `MetodoCompeticaoHierarquico`."
   ]
  },
  {
   "cell_type": "markdown",
   "metadata": {},
   "source": [
    "Uma boa prática é salvar seus experimentos em arquivos, com algum nome sugestivo. Assim, você não precisará rodar ele novamente para analisá-lo. Uma excelente e bem organizada forma é usar um banco de dados. Porém, você pode simplesmente salvar o objeto em um arquivo: "
   ]
  },
  {
   "cell_type": "code",
   "execution_count": 17,
   "metadata": {},
   "outputs": [
    {
     "name": "stdout",
     "output_type": "stream",
     "text": [
      "MACRO F1: 0.48502090723194996\n"
     ]
    }
   ],
   "source": [
    "import pickle\n",
    "\n",
    "pickle.dump( experimento, open( \"resultados/exp_bow_svm_rev0.p\", \"wb\" ) )\n",
    "\n",
    "experimento = pickle.load( open( \"resultados/exp_bow_svm_rev0.p\", \"rb\" ) )\n",
    "print(f\"MACRO F1: {experimento.macro_f1_avg}\")"
   ]
  },
  {
   "cell_type": "markdown",
   "metadata": {},
   "source": [
    "## Geração do resultado no dataset fornecido pelo professor"
   ]
  },
  {
   "cell_type": "markdown",
   "metadata": {},
   "source": [
    "Depois de definido a melhor solução, você deverá aplicá-la no teste fornecido pelo professor. Assim, ainda na fase de eleboração da solução, você deve preparar a função `gerar_saida_teste` do arquivo `gerar_resultado_teste.py`. Para que o professor possa rodar o código adequadamente e, também, que você possa gerar a saída do resultado quando o professor enviar o teste na fase seguinte. Nesse arquivo, você deverá usar o dataset completo `movies_amostra.csv` **nenhum dado a mais e sem nenhum preprocessamento**. O preprocessamento e geração dos atributos deverá ser feito na própria função (ou em algum método que as invoca).  Isso garante que fique claro tudo que foi feito para o seu método obter um determinado resultado. Você poderá alterar essa função - até a data de entrega **de seu código**. Caso o aluno altere o comportamento da função após a entrega do código, a equipe será eliminada. Lembre-se que é por meio desta função que o professor irá verificar se o resultado, gerado por você, corresponde ao resultado obtido pelo professor. Por isso, sempre garanta que esteja usando uma seed fixa. \n",
    "\n",
    "Na função `gerar_saida_teste` você deverá escolher a abordagem que melhor obteve resultado usando também o melhor parametro) para que seja criado o modelo e obtido um resultado."
   ]
  },
  {
   "cell_type": "code",
   "execution_count": 18,
   "metadata": {},
   "outputs": [],
   "source": [
    "import pandas as pd\n",
    "from competicao_am.gerar_resultado_teste import gerar_saida_teste\n",
    "\n",
    "#altere aqui para o número correspondente ao seu grupo\n",
    "num_grupo = 0 \n",
    "\n",
    "#leia o dataset fornecido pelo professor (coloquei apenas um exemplo, na entrega, será outro)\n",
    "df_amostra_teste = pd.read_csv(\"datasets/lyrics_amostra_teste_ex.csv\")\n",
    "\n",
    "gerar_saida_teste(df_amostra_teste,\"genre\", num_grupo)"
   ]
  },
  {
   "cell_type": "code",
   "execution_count": 19,
   "metadata": {},
   "outputs": [
    {
     "name": "stdout",
     "output_type": "stream",
     "text": [
      "Rock\n",
      "Rock\n",
      "Metal\n",
      "Rock\n",
      "Country\n",
      "Metal\n",
      "Metal\n",
      "Metal\n",
      "Country\n",
      "Metal\n"
     ]
    }
   ],
   "source": [
    "# para testes, imprime a saida gerada\n",
    "with open(f\"predict_grupo_{num_grupo}.txt\", \"r\") as file_predict:\n",
    "    for line in file_predict:\n",
    "        print(line,end=\"\")"
   ]
  }
 ],
 "metadata": {
  "kernelspec": {
   "display_name": "Python 3",
   "language": "python",
   "name": "python3"
  },
  "language_info": {
   "codemirror_mode": {
    "name": "ipython",
    "version": 3
   },
   "file_extension": ".py",
   "mimetype": "text/x-python",
   "name": "python",
   "nbconvert_exporter": "python",
   "pygments_lexer": "ipython3",
   "version": "3.6.11"
  }
 },
 "nbformat": 4,
 "nbformat_minor": 2
}
