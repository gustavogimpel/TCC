{
 "cells": [
  {
   "cell_type": "markdown",
   "metadata": {},
   "source": [
    "## Aluno: Gustavo Gimpel Correia Lima\n",
    "## Matrícula: 201512040488"
   ]
  },
  {
   "cell_type": "markdown",
   "metadata": {},
   "source": [
    "Implemente as funções abaixo. Você não deverá usar variáveis globais."
   ]
  },
  {
   "cell_type": "code",
   "execution_count": 232,
   "metadata": {},
   "outputs": [],
   "source": [
    "from typing import List, Set\n",
    "from random import randint\n",
    "import random\n",
    "import string"
   ]
  },
  {
   "cell_type": "code",
   "execution_count": 233,
   "metadata": {
    "colab": {},
    "colab_type": "code",
    "id": "oP-SSFJMKxbw"
   },
   "outputs": [],
   "source": [
    "def escolhe_palavra(arr_palavras:List[str]) -> str:\n",
    "    \"\"\"\n",
    "    Atividade 1: Escolhe aleatoriamente uma posição do vetor de arr_palavras\n",
    "    use e entenda a biblioteca random do python para isso.\n",
    "    Não esqueça de dar import na biblioteca. Coloque isso n célula acima\n",
    "    \"\"\"\n",
    "    indice_palavra = randint(0, len(arr_palavras) - 1)\n",
    "    return arr_palavras[indice_palavra]"
   ]
  },
  {
   "cell_type": "code",
   "execution_count": 234,
   "metadata": {
    "colab": {},
    "colab_type": "code",
    "id": "LzFJmwhULVJP"
   },
   "outputs": [
    {
     "name": "stdout",
     "output_type": "stream",
     "text": [
      "teste\n"
     ]
    }
   ],
   "source": [
    "#Faça aqui um teste desta função\n",
    "palavra = escolhe_palavra(['teste','gustavo','gimpel','correia','lima','machine','learning'])\n",
    "print(palavra)"
   ]
  },
  {
   "cell_type": "code",
   "execution_count": 235,
   "metadata": {
    "colab": {},
    "colab_type": "code",
    "id": "-m_T1uUiK-jp"
   },
   "outputs": [],
   "source": [
    "def obtem_posicoes_letra(palavra:str, letra:str):\n",
    "    \"\"\"\n",
    "    Atividade 2: Em uma determinada palavra, obtem as posições em que\n",
    "    ocorre a letra, ambas passadas como paramtro\n",
    "    \"\"\"\n",
    "    set_posicoes = set()\n",
    "    #navega na palavra, substitua o \"None\" corretamente\n",
    "    #é possivel navegar em uma palavra como se fosse uma lista de letras\n",
    "    #ou seja, os mesmos comandos que funcionam em uma lista funcionam em uma string\n",
    "    for i,letra_palavra in enumerate(palavra):\n",
    "        if(letra_palavra == letra):\n",
    "            set_posicoes.add(i)\n",
    "    return set_posicoes"
   ]
  },
  {
   "cell_type": "code",
   "execution_count": 236,
   "metadata": {
    "colab": {},
    "colab_type": "code",
    "id": "k3LulOUBLbiC"
   },
   "outputs": [
    {
     "name": "stdout",
     "output_type": "stream",
     "text": [
      "{1, 4}\n"
     ]
    }
   ],
   "source": [
    "#Faça aqui um teste desta função\n",
    "\n",
    "posicoes_descobertas = obtem_posicoes_letra(palavra, 'e')\n",
    "print(posicoes_descobertas)"
   ]
  },
  {
   "cell_type": "code",
   "execution_count": 237,
   "metadata": {
    "colab": {},
    "colab_type": "code",
    "id": "dk8OJgxGLOog"
   },
   "outputs": [],
   "source": [
    "from IPython.display import clear_output\n",
    "def imprime_forca(palavra_forca:str, posicoes_descobertas:Set[int]):\n",
    "    \"\"\"\n",
    "    Atividade 3: Imprime a palavra a ser exibida na tela\n",
    "    exibindo apenas os caracteres das posições descobertas. \n",
    "    Por exemplo, se a palavra for \"casaco\" e as posições descobertas \n",
    "    forem {1,3,5}, será impresso \"_ a _ a _ o\"\n",
    "    \n",
    "    Nesta atividade, você deverá alterar apenas o if apropriadamente.\n",
    "    \"\"\"\n",
    "    clear_output(wait=False)\n",
    "    #palavra_exibida = obtem_palavra_exibida(palavra_forca, posicoes_descobertas)\n",
    "    for posicao,letra in enumerate(palavra_forca):\n",
    "        if posicao in posicoes_descobertas:\n",
    "            print(letra,end=\" \")\n",
    "        else:\n",
    "            print(\"_\",end=\" \")"
   ]
  },
  {
   "cell_type": "code",
   "execution_count": 238,
   "metadata": {
    "colab": {},
    "colab_type": "code",
    "id": "j4J5eA54LhmE"
   },
   "outputs": [
    {
     "name": "stdout",
     "output_type": "stream",
     "text": [
      "_ e _ _ e "
     ]
    }
   ],
   "source": [
    "#Faça aqui um teste desta função\n",
    "\n",
    "imprime_forca(palavra, posicoes_descobertas)"
   ]
  },
  {
   "cell_type": "code",
   "execution_count": 239,
   "metadata": {
    "colab": {},
    "colab_type": "code",
    "id": "uGLnnSeCLTLf"
   },
   "outputs": [],
   "source": [
    "def jogo_forca(arr_palavras):\n",
    "    count = 0\n",
    "    palavra = escolhe_palavra(arr_palavras)\n",
    "    setPosicoes = set()\n",
    "    while len(setPosicoes) < len(palavra):\n",
    "        setPosicoes |= (obtem_posicoes_letra(palavra, random.choice(string.ascii_letters)))\n",
    "        imprime_forca(palavra, setPosicoes)\n",
    "        count += 1\n",
    "    print('\\nNúmero de Tentativas: ' +str(count))"
   ]
  },
  {
   "cell_type": "code",
   "execution_count": 246,
   "metadata": {
    "colab": {},
    "colab_type": "code",
    "id": "bKT3yVHJLjNZ"
   },
   "outputs": [
    {
     "name": "stdout",
     "output_type": "stream",
     "text": [
      "g i m p e l \n",
      "Número de Tentativas: 86\n"
     ]
    }
   ],
   "source": [
    "#Faça aqui um teste da ultima função e se divirta :) \n",
    "jogo_forca(['teste','gustavo','gimpel','correia','lima','machine','learning'])\n"
   ]
  },
  {
   "cell_type": "code",
   "execution_count": null,
   "metadata": {},
   "outputs": [],
   "source": []
  }
 ],
 "metadata": {
  "colab": {
   "name": "forca.ipynb",
   "provenance": []
  },
  "kernelspec": {
   "display_name": "Python 3",
   "language": "python",
   "name": "python3"
  },
  "language_info": {
   "codemirror_mode": {
    "name": "ipython",
    "version": 3
   },
   "file_extension": ".py",
   "mimetype": "text/x-python",
   "name": "python",
   "nbconvert_exporter": "python",
   "pygments_lexer": "ipython3",
   "version": "3.6.11"
  }
 },
 "nbformat": 4,
 "nbformat_minor": 1
}
