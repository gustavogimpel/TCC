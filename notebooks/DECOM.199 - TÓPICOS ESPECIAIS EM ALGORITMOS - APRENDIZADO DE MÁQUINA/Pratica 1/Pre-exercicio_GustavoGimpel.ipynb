{
 "cells": [
  {
   "cell_type": "markdown",
   "metadata": {},
   "source": [
    "## Aluno: Gustavo Gimpel Correia Lima\n",
    "## Matrícula: 201512040488"
   ]
  },
  {
   "cell_type": "markdown",
   "metadata": {},
   "source": [
    "##### maior(a,b): Retorna o maior valor entre a e b"
   ]
  },
  {
   "cell_type": "code",
   "execution_count": 12,
   "metadata": {},
   "outputs": [
    {
     "name": "stdout",
     "output_type": "stream",
     "text": [
      "3\n",
      "7\n"
     ]
    }
   ],
   "source": [
    "def maior(a,b):\n",
    "    if a>b:\n",
    "        return a\n",
    "    else:\n",
    "        return b\n",
    "\n",
    "\n",
    "print(maior(1,3))\n",
    "print(maior(7,2))"
   ]
  },
  {
   "cell_type": "markdown",
   "metadata": {},
   "source": [
    "##### soma(lista,x): retorna o somatório dos valores passados pela lista. O argumento x deve ser opcional que, se passado, será somado ao resultado final."
   ]
  },
  {
   "cell_type": "code",
   "execution_count": 13,
   "metadata": {},
   "outputs": [
    {
     "name": "stdout",
     "output_type": "stream",
     "text": [
      "3\n",
      "12\n"
     ]
    }
   ],
   "source": [
    "def soma(lista, x=0):\n",
    "    y = 0\n",
    "    for val in lista:\n",
    "        y += val\n",
    "    return y+x\n",
    "\n",
    "\n",
    "print(soma(list(range(3))))\n",
    "print(soma(list(range(3)),9))"
   ]
  },
  {
   "cell_type": "markdown",
   "metadata": {},
   "source": [
    "#### media(lista): Retorna a média dos valores passados pela lista."
   ]
  },
  {
   "cell_type": "code",
   "execution_count": 14,
   "metadata": {},
   "outputs": [
    {
     "data": {
      "text/plain": [
       "5.0"
      ]
     },
     "execution_count": 14,
     "metadata": {},
     "output_type": "execute_result"
    }
   ],
   "source": [
    "def media(lista):\n",
    "    return soma(lista)/len(lista)\n",
    "\n",
    "media([2,4,6,8])"
   ]
  },
  {
   "cell_type": "markdown",
   "metadata": {},
   "source": [
    "#### valores_iguais(lista1,lista2): retorna uma lista contendo os valores iguais entre as duas listas passadas como parâmetro"
   ]
  },
  {
   "cell_type": "code",
   "execution_count": 15,
   "metadata": {},
   "outputs": [
    {
     "data": {
      "text/plain": [
       "[3, 9, 12, 15]"
      ]
     },
     "execution_count": 15,
     "metadata": {},
     "output_type": "execute_result"
    }
   ],
   "source": [
    "def valores_iguais(lista1, lista2):\n",
    "    arr = []\n",
    "    for i in lista1:\n",
    "        for j in lista2:\n",
    "            if(i==j):\n",
    "                arr.append(i)\n",
    "    return arr\n",
    "\n",
    "valores_iguais([1,2,3,8,9,12,15],[16,15,3,6,6,12,9])"
   ]
  },
  {
   "cell_type": "markdown",
   "metadata": {},
   "source": [
    "#### indice_prim_valor_igual(lista1,lista2): retorna a posição na lista1 do primeiro valor igual ao da lista2. Caso não exista, é retornado None."
   ]
  },
  {
   "cell_type": "code",
   "execution_count": 16,
   "metadata": {},
   "outputs": [
    {
     "name": "stdout",
     "output_type": "stream",
     "text": [
      "None\n",
      "4\n"
     ]
    }
   ],
   "source": [
    "def indice_prim_valor_igual(lista1, lista2):\n",
    "    for i,val in enumerate(lista1):\n",
    "        for j in lista2:\n",
    "            if(val==j):\n",
    "                return i\n",
    "    return None\n",
    "\n",
    "print(indice_prim_valor_igual([1],[16,15,3,6,6,12,9]))\n",
    "print(indice_prim_valor_igual([1,2,5,8,3],[16,15,3,6,6,12,9]))"
   ]
  },
  {
   "cell_type": "code",
   "execution_count": null,
   "metadata": {},
   "outputs": [],
   "source": []
  }
 ],
 "metadata": {
  "kernelspec": {
   "display_name": "Python 3",
   "language": "python",
   "name": "python3"
  },
  "language_info": {
   "codemirror_mode": {
    "name": "ipython",
    "version": 3
   },
   "file_extension": ".py",
   "mimetype": "text/x-python",
   "name": "python",
   "nbconvert_exporter": "python",
   "pygments_lexer": "ipython3",
   "version": "3.6.11"
  }
 },
 "nbformat": 4,
 "nbformat_minor": 4
}
