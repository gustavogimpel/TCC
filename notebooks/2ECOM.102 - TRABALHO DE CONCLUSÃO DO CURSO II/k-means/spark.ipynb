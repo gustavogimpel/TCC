{
 "cells": [
  {
   "cell_type": "code",
   "execution_count": 1,
   "metadata": {},
   "outputs": [],
   "source": [
    "from __future__ import print_function\n",
    "\n",
    "import os\n",
    "import json\n",
    "import codecs\n",
    "import numpy as np\n",
    "import pandas as pd\n",
    "import matplotlib.pyplot as plt\n",
    "from mpl_toolkits.mplot3d import Axes3D\n",
    "from sklearn.datasets import make_blobs\n",
    "\n",
    "from pyspark import SparkContext\n",
    "from pyspark.ml.clustering import KMeans\n",
    "from pyspark.ml.feature import VectorAssembler\n",
    "\n",
    "from pyspark.sql import SparkSession\n",
    "from pyspark.sql import SQLContext\n",
    "\n",
    "%matplotlib inline"
   ]
  },
  {
   "cell_type": "code",
   "execution_count": 2,
   "metadata": {},
   "outputs": [],
   "source": [
    "MONGO_URL_INPUT = \"mongodb://192.168.0.20:27017/yelp.user?ssl=false\"\n",
    "MONGO_URL_OUTPUT = \"mongodb://192.168.0.20:27017/yelp.teste\"\n",
    "\n",
    "spark = SparkSession.builder \\\n",
    "    .appName(\"kmeans-spark\") \\\n",
    "    .master(\"spark://spark:7077\") \\\n",
    "    .config(\"spark.mongodb.input.uri\", MONGO_URL_INPUT) \\\n",
    "    .config(\"spark.mongodb.output.uri\", MONGO_URL_OUTPUT) \\\n",
    "    .config('spark.jars.packages', 'org.mongodb.spark:mongo-spark-connector_2.12:3.0.0')\\\n",
    "    .getOrCreate()\n",
    "sqlContext = SQLContext(spark)"
   ]
  },
  {
   "cell_type": "code",
   "execution_count": 3,
   "metadata": {},
   "outputs": [
    {
     "data": {
      "text/plain": [
       "Row(_id=Row(oid='60120294d445e70df8e8bd9f'), average_stars=3.57, compliment_cool=22, compliment_cute=0, compliment_funny=22, compliment_hot=3, compliment_list=1, compliment_more=2, compliment_note=11, compliment_photos=0, compliment_plain=15, compliment_profile=1, compliment_writer=10, cool=227, elite='', fans=14, friends='oeMvJh94PiGQnx_6GlndPQ, wm1z1PaJKvHgSDRKfwhfDg, IkRib6Xs91PPW7pon7VVig, A8Aq8f0-XvLBcyMk2GJdJQ, eEZM1kogR7eL4GOBZyPvBA, e1o1LN7ez5ckCpQeAab4iw, _HrJVzFaRFUhPva8cwBjpQ, pZeGZGzX-ROT_D5lam5uNg, 0S6EI51ej5J7dgYz3-O0lA, woDt8raW-AorxQM_tIE2eA, hWUnSE5gKXNe7bDc8uAG9A, c_3LDSO2RHwZ94_Q6j_O7w, -uv1wDiaplY6eXXS0VwQiA, QFjqxXn3acDC7hckFGUKMg, ErOqapICmHPTN8YobZIcfQ, mJLRvqLOKhqEdkgt9iEaCQ, VKX7jlScJSA-ja5hYRw12Q, ijIC9w5PRcj3dWVlanjZeg, CIZGlEw-Bp0rmkP8M6yQ9Q, OC6fT5WZ8EU7tEVJ3bzPBQ, UZSDGTDpycDzrlfUlyw2dQ, deL6e_z9xqZTIODKqnvRXQ, 5mG2ENw2PylIWElqHSMGqg, Uh5Kug2fvDd51RYmsNZkGg, 4dI4uoShugD9z84fYupelQ, EQpFHqGT9Tk6YSwORTtwpg, o4EGL2-ICGmRJzJ3GxB-vw, s8gK7sdVzJcYKcPv2dkZXw, vOYVZgb_GVe-kdtjQwSUHw, wBbjgHsrKr7BsPBrQwJf2w, p59u2EC_qcmCmLeX1jCi5Q, VSAZI1eHDrOPRWMK4Q2DIQ, efMfeI_dkhpeGykaRJqxfQ, x6qYcQ8_i0mMDzSLsFCbZg, K_zSmtNGw1fu-vmxyTVfCQ, 5IM6YPQCK-NABkXmHhlRGQ, U_w8ZMD26vnkeeS1sD7s4Q, AbfS_oXF8H6HJb5jFqhrLw, hbcjX4_D4KIfonNnwrH-cg, UKf66_MPz0zHCP70mF6p1g, hK2gYbxZRTqcqlSiQQcrtQ, 2Q45w_Twx_T9dXqlE16xtQ, BwRn8qcKSeA77HLaOTbfiQ, jouOn4VS_DtFPtMR2w8VDA, ESteyJabbfvqas6CEDs3pQ', funny=225, name='Rafael', review_count=553, useful=628, user_id='ntlvfPzc8eglqvk92iDIAw', yelping_since='2007-07-06 03:27:11')"
      ]
     },
     "execution_count": 3,
     "metadata": {},
     "output_type": "execute_result"
    }
   ],
   "source": [
    "df = spark.read.format(\"com.mongodb.spark.sql.DefaultSource\").load()\n",
    "df.head()"
   ]
  },
  {
   "cell_type": "markdown",
   "metadata": {},
   "source": [
    "### Spark withColumn() is a DataFrame function that is used to add a new column to DataFrame, change the value of an existing column, convert the datatype of a column, derive a new column from an existing column."
   ]
  },
  {
   "cell_type": "code",
   "execution_count": 4,
   "metadata": {},
   "outputs": [
    {
     "data": {
      "text/plain": [
       "Row(average_stars=3.569999933242798, cool=227.0, fans=14.0, funny=225.0, review_count=553.0, useful=628.0)"
      ]
     },
     "execution_count": 4,
     "metadata": {},
     "output_type": "execute_result"
    }
   ],
   "source": [
    "FEATURES_COL = ['review_count', 'useful', 'funny', 'cool', 'fans', 'average_stars']\n",
    "for col in df.columns:\n",
    "    if col in FEATURES_COL:\n",
    "        df = df.withColumn(col, df[col].cast('float'))\n",
    "    else:\n",
    "        df = df.drop(col)\n",
    "df = df.na.drop()\n",
    "df.columns\n",
    "df.head()"
   ]
  },
  {
   "cell_type": "markdown",
   "metadata": {},
   "source": [
    "### Spark's implementation of KMeans is a bit different from for example scikit-learn's version. We need to store all features as an array of floats, and store this array as a column called \"features\". Since we do no longer need the original columns we filter them out with a select statement."
   ]
  },
  {
   "cell_type": "code",
   "execution_count": 5,
   "metadata": {},
   "outputs": [
    {
     "name": "stdout",
     "output_type": "stream",
     "text": [
      "+-------------+------+-----+------+------------+------+--------------------+\n",
      "|average_stars|  cool| fans| funny|review_count|useful|            features|\n",
      "+-------------+------+-----+------+------------+------+--------------------+\n",
      "|         3.57| 227.0| 14.0| 225.0|       553.0| 628.0|[553.0,628.0,225....|\n",
      "|         3.84| 400.0| 27.0| 316.0|       564.0| 790.0|[564.0,790.0,316....|\n",
      "|         3.44| 103.0|  5.0| 125.0|        60.0| 151.0|[60.0,151.0,125.0...|\n",
      "|         3.08|  84.0|  6.0| 160.0|       206.0| 233.0|[206.0,233.0,160....|\n",
      "|         4.37| 512.0| 78.0| 400.0|       485.0|1265.0|[485.0,1265.0,400...|\n",
      "|         2.88| 155.0| 15.0| 192.0|       186.0| 642.0|[186.0,642.0,192....|\n",
      "|         3.63|2878.0|137.0|2446.0|       822.0|4127.0|[822.0,4127.0,244...|\n",
      "|         3.75|  34.0|  4.0|  21.0|        14.0|  68.0|[14.0,68.0,21.0,3...|\n",
      "|          4.1| 426.0| 31.0| 372.0|       218.0| 587.0|[218.0,587.0,372....|\n",
      "|          3.8|   8.0|  5.0|   0.0|         5.0|   6.0|[5.0,6.0,0.0,8.0,...|\n",
      "|         3.63| 312.0| 13.0| 244.0|       405.0| 799.0|[405.0,799.0,244....|\n",
      "|         3.37|1832.0|197.0|1281.0|       666.0|2993.0|[666.0,2993.0,128...|\n",
      "|          4.5|  14.0|  0.0|   9.0|         6.0|  16.0|[6.0,16.0,9.0,14....|\n",
      "|         4.17|  22.0|  4.0|  27.0|        51.0| 116.0|[51.0,116.0,27.0,...|\n",
      "|         3.82| 361.0| 31.0| 251.0|       315.0| 658.0|[315.0,658.0,251....|\n",
      "|         3.91| 102.0| 11.0|  82.0|       180.0| 247.0|[180.0,247.0,82.0...|\n",
      "|         2.21|   1.0|  1.0|   7.0|        15.0|  17.0|[15.0,17.0,7.0,1....|\n",
      "|         3.88| 109.0|  7.0| 109.0|       106.0| 252.0|[106.0,252.0,109....|\n",
      "|         3.79| 205.0| 26.0| 116.0|       193.0| 391.0|[193.0,391.0,116....|\n",
      "|         2.61|  21.0|  2.0|  16.0|        72.0|  77.0|[72.0,77.0,16.0,2...|\n",
      "+-------------+------+-----+------+------------+------+--------------------+\n",
      "only showing top 20 rows\n",
      "\n"
     ]
    }
   ],
   "source": [
    "vecAssembler = VectorAssembler(inputCols=FEATURES_COL, outputCol=\"features\")\n",
    "df_kmeans = vecAssembler.transform(df)\n",
    "df_kmeans.show()"
   ]
  },
  {
   "cell_type": "code",
   "execution_count": 6,
   "metadata": {},
   "outputs": [],
   "source": [
    "k = 10\n",
    "kmeans = KMeans().setK(k).setSeed(1).setFeaturesCol(\"features\")\n",
    "model = kmeans.fit(df_kmeans)\n",
    "centers = model.clusterCenters()"
   ]
  },
  {
   "cell_type": "code",
   "execution_count": 7,
   "metadata": {},
   "outputs": [
    {
     "name": "stdout",
     "output_type": "stream",
     "text": [
      "[Row(average_stars=3.569999933242798, cool=227.0, fans=14.0, funny=225.0, review_count=553.0, useful=628.0, features=DenseVector([553.0, 628.0, 225.0, 227.0, 14.0, 3.57]), prediction=7), Row(average_stars=3.8399999141693115, cool=400.0, fans=27.0, funny=316.0, review_count=564.0, useful=790.0, features=DenseVector([564.0, 790.0, 316.0, 400.0, 27.0, 3.84]), prediction=7), Row(average_stars=3.440000057220459, cool=103.0, fans=5.0, funny=125.0, review_count=60.0, useful=151.0, features=DenseVector([60.0, 151.0, 125.0, 103.0, 5.0, 3.44]), prediction=0)]\n"
     ]
    }
   ],
   "source": [
    "transformed = model.transform(df_kmeans)\n",
    "rows = transformed.collect()\n",
    "print(rows[:3])"
   ]
  },
  {
   "cell_type": "code",
   "execution_count": 8,
   "metadata": {},
   "outputs": [
    {
     "name": "stdout",
     "output_type": "stream",
     "text": [
      "+------------------+------+-----+------+------------+------+--------------------+----------+\n",
      "|     average_stars|  cool| fans| funny|review_count|useful|            features|prediction|\n",
      "+------------------+------+-----+------+------------+------+--------------------+----------+\n",
      "| 3.569999933242798| 227.0| 14.0| 225.0|       553.0| 628.0|[553.0,628.0,225....|         7|\n",
      "|3.8399999141693115| 400.0| 27.0| 316.0|       564.0| 790.0|[564.0,790.0,316....|         7|\n",
      "| 3.440000057220459| 103.0|  5.0| 125.0|        60.0| 151.0|[60.0,151.0,125.0...|         0|\n",
      "|3.0799999237060547|  84.0|  6.0| 160.0|       206.0| 233.0|[206.0,233.0,160....|         0|\n",
      "| 4.369999885559082| 512.0| 78.0| 400.0|       485.0|1265.0|[485.0,1265.0,400...|         7|\n",
      "| 2.880000114440918| 155.0| 15.0| 192.0|       186.0| 642.0|[186.0,642.0,192....|         7|\n",
      "| 3.630000114440918|2878.0|137.0|2446.0|       822.0|4127.0|[822.0,4127.0,244...|         5|\n",
      "|              3.75|  34.0|  4.0|  21.0|        14.0|  68.0|[14.0,68.0,21.0,3...|         0|\n",
      "| 4.099999904632568| 426.0| 31.0| 372.0|       218.0| 587.0|[218.0,587.0,372....|         7|\n",
      "| 3.799999952316284|   8.0|  5.0|   0.0|         5.0|   6.0|[5.0,6.0,0.0,8.0,...|         0|\n",
      "| 3.630000114440918| 312.0| 13.0| 244.0|       405.0| 799.0|[405.0,799.0,244....|         7|\n",
      "| 3.369999885559082|1832.0|197.0|1281.0|       666.0|2993.0|[666.0,2993.0,128...|         9|\n",
      "|               4.5|  14.0|  0.0|   9.0|         6.0|  16.0|[6.0,16.0,9.0,14....|         0|\n",
      "| 4.170000076293945|  22.0|  4.0|  27.0|        51.0| 116.0|[51.0,116.0,27.0,...|         0|\n",
      "| 3.819999933242798| 361.0| 31.0| 251.0|       315.0| 658.0|[315.0,658.0,251....|         7|\n",
      "|3.9100000858306885| 102.0| 11.0|  82.0|       180.0| 247.0|[180.0,247.0,82.0...|         0|\n",
      "|2.2100000381469727|   1.0|  1.0|   7.0|        15.0|  17.0|[15.0,17.0,7.0,1....|         0|\n",
      "| 3.880000114440918| 109.0|  7.0| 109.0|       106.0| 252.0|[106.0,252.0,109....|         0|\n",
      "|3.7899999618530273| 205.0| 26.0| 116.0|       193.0| 391.0|[193.0,391.0,116....|         7|\n",
      "| 2.609999895095825|  21.0|  2.0|  16.0|        72.0|  77.0|[72.0,77.0,16.0,2...|         0|\n",
      "+------------------+------+-----+------+------------+------+--------------------+----------+\n",
      "only showing top 20 rows\n",
      "\n"
     ]
    }
   ],
   "source": [
    "df_pred = sqlContext.createDataFrame(rows)\n",
    "df_pred.show()"
   ]
  },
  {
   "cell_type": "code",
   "execution_count": null,
   "metadata": {},
   "outputs": [],
   "source": [
    "pddf_pred = df_pred.toPandas()\n",
    "pddf_pred.head()"
   ]
  },
  {
   "cell_type": "code",
   "execution_count": null,
   "metadata": {},
   "outputs": [],
   "source": [
    "threedee = plt.figure(figsize=(12,10)).gca(projection='3d')\n",
    "threedee.scatter(pddf_pred.average_stars, pddf_pred.cool, pddf_pred.fans, c=pddf_pred.prediction)\n",
    "threedee.set_xlabel('x')\n",
    "threedee.set_ylabel('y')\n",
    "threedee.set_zlabel('z')\n",
    "plt.show()"
   ]
  },
  {
   "cell_type": "code",
   "execution_count": null,
   "metadata": {},
   "outputs": [],
   "source": []
  }
 ],
 "metadata": {
  "kernelspec": {
   "display_name": "Python 3",
   "language": "python",
   "name": "python3"
  },
  "language_info": {
   "codemirror_mode": {
    "name": "ipython",
    "version": 3
   },
   "file_extension": ".py",
   "mimetype": "text/x-python",
   "name": "python",
   "nbconvert_exporter": "python",
   "pygments_lexer": "ipython3",
   "version": "3.6.11"
  }
 },
 "nbformat": 4,
 "nbformat_minor": 4
}
