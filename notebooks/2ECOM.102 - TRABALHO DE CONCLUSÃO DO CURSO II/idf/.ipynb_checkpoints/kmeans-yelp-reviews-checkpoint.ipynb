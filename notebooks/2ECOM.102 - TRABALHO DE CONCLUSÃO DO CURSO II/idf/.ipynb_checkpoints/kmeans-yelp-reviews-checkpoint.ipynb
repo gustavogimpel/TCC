{
 "cells": [
  {
   "cell_type": "markdown",
   "metadata": {
    "_cell_guid": "3b2f9aaa-b948-413b-ad86-de97e8c5a407",
    "_uuid": "2f2947109a189857d98ab36fb2a57c191a3e036e"
   },
   "source": [
    "## Motivation for this Notebook\n",
    "\n",
    "If I was a business owner, I would want to know how my customers are generally feeling. After reading a couple of reviews, you can start to pick up on some trends but who has the time to go through all of the comments to get a full picture of what people are saying about the company? Well luckily we have the power of NLP and Machine Learning algorithms that can do this compiling and grouping for us. Here I try to get a better look into 'average' reviews for a particular business and what's being said in them by implementing kMeans clustering."
   ]
  },
  {
   "cell_type": "code",
   "execution_count": 1,
   "metadata": {
    "_cell_guid": "1796444e-83a3-4728-8d18-c44f3cca5ce1",
    "_uuid": "eaa97b33fd28f71e2b2e7bcf2dd5361c60dd1cc0"
   },
   "outputs": [
    {
     "name": "stdout",
     "output_type": "stream",
     "text": [
      "Defaulting to user installation because normal site-packages is not writeable\n",
      "Requirement already satisfied: nltk in /home/jovyan/.local/lib/python3.6/site-packages (3.5)\n",
      "Requirement already satisfied: tqdm in /opt/conda/lib/python3.6/site-packages (from nltk) (4.50.0)\n",
      "Requirement already satisfied: joblib in /opt/conda/lib/python3.6/site-packages (from nltk) (1.0.0)\n",
      "Requirement already satisfied: regex in /home/jovyan/.local/lib/python3.6/site-packages (from nltk) (2020.11.13)\n",
      "Requirement already satisfied: click in /home/jovyan/.local/lib/python3.6/site-packages (from nltk) (7.1.2)\n",
      "Defaulting to user installation because normal site-packages is not writeable\n",
      "Requirement already satisfied: textblob in /home/jovyan/.local/lib/python3.6/site-packages (0.15.3)\n",
      "Requirement already satisfied: nltk>=3.1 in /home/jovyan/.local/lib/python3.6/site-packages (from textblob) (3.5)\n",
      "Requirement already satisfied: joblib in /opt/conda/lib/python3.6/site-packages (from nltk>=3.1->textblob) (1.0.0)\n",
      "Requirement already satisfied: tqdm in /opt/conda/lib/python3.6/site-packages (from nltk>=3.1->textblob) (4.50.0)\n",
      "Requirement already satisfied: regex in /home/jovyan/.local/lib/python3.6/site-packages (from nltk>=3.1->textblob) (2020.11.13)\n",
      "Requirement already satisfied: click in /home/jovyan/.local/lib/python3.6/site-packages (from nltk>=3.1->textblob) (7.1.2)\n"
     ]
    }
   ],
   "source": [
    "!pip install nltk\n",
    "!pip install textblob\n",
    "import numpy as np\n",
    "import pandas as pd \n",
    "import matplotlib.pyplot as plt\n",
    "import seaborn as sns\n",
    "from sklearn.feature_extraction.text import TfidfVectorizer\n",
    "from nltk.stem.snowball import SnowballStemmer\n",
    "from nltk.tokenize import RegexpTokenizer\n",
    "from nltk.tokenize import word_tokenize\n",
    "from sklearn.cluster import KMeans\n",
    "import textblob as tb"
   ]
  },
  {
   "cell_type": "code",
   "execution_count": 2,
   "metadata": {
    "_cell_guid": "d0a44cca-fa32-4d75-8085-400c478e302a",
    "_uuid": "a512f10ca794a19db8305046deb49afd6abb35dd",
    "scrolled": true
   },
   "outputs": [
    {
     "ename": "ValueError",
     "evalue": "Trailing data",
     "output_type": "error",
     "traceback": [
      "\u001b[0;31m---------------------------------------------------------------------------\u001b[0m",
      "\u001b[0;31mValueError\u001b[0m                                Traceback (most recent call last)",
      "\u001b[0;32m<ipython-input-2-2dc211c5f70f>\u001b[0m in \u001b[0;36m<module>\u001b[0;34m\u001b[0m\n\u001b[0;32m----> 1\u001b[0;31m \u001b[0mreview_df\u001b[0m \u001b[0;34m=\u001b[0m \u001b[0mpd\u001b[0m\u001b[0;34m.\u001b[0m\u001b[0mread_json\u001b[0m\u001b[0;34m(\u001b[0m\u001b[0;34m'yelp_academic_dataset_review.json'\u001b[0m\u001b[0;34m)\u001b[0m\u001b[0;34m\u001b[0m\u001b[0;34m\u001b[0m\u001b[0m\n\u001b[0m\u001b[1;32m      2\u001b[0m \u001b[0mbusiness_df\u001b[0m \u001b[0;34m=\u001b[0m \u001b[0mpd\u001b[0m\u001b[0;34m.\u001b[0m\u001b[0mread_json\u001b[0m\u001b[0;34m(\u001b[0m\u001b[0;34m'yelp_academic_dataset_business.json'\u001b[0m\u001b[0;34m)\u001b[0m\u001b[0;34m\u001b[0m\u001b[0;34m\u001b[0m\u001b[0m\n",
      "\u001b[0;32m/opt/conda/lib/python3.6/site-packages/pandas/util/_decorators.py\u001b[0m in \u001b[0;36mwrapper\u001b[0;34m(*args, **kwargs)\u001b[0m\n\u001b[1;32m    197\u001b[0m                 \u001b[0;32melse\u001b[0m\u001b[0;34m:\u001b[0m\u001b[0;34m\u001b[0m\u001b[0;34m\u001b[0m\u001b[0m\n\u001b[1;32m    198\u001b[0m                     \u001b[0mkwargs\u001b[0m\u001b[0;34m[\u001b[0m\u001b[0mnew_arg_name\u001b[0m\u001b[0;34m]\u001b[0m \u001b[0;34m=\u001b[0m \u001b[0mnew_arg_value\u001b[0m\u001b[0;34m\u001b[0m\u001b[0;34m\u001b[0m\u001b[0m\n\u001b[0;32m--> 199\u001b[0;31m             \u001b[0;32mreturn\u001b[0m \u001b[0mfunc\u001b[0m\u001b[0;34m(\u001b[0m\u001b[0;34m*\u001b[0m\u001b[0margs\u001b[0m\u001b[0;34m,\u001b[0m \u001b[0;34m**\u001b[0m\u001b[0mkwargs\u001b[0m\u001b[0;34m)\u001b[0m\u001b[0;34m\u001b[0m\u001b[0;34m\u001b[0m\u001b[0m\n\u001b[0m\u001b[1;32m    200\u001b[0m \u001b[0;34m\u001b[0m\u001b[0m\n\u001b[1;32m    201\u001b[0m         \u001b[0;32mreturn\u001b[0m \u001b[0mcast\u001b[0m\u001b[0;34m(\u001b[0m\u001b[0mF\u001b[0m\u001b[0;34m,\u001b[0m \u001b[0mwrapper\u001b[0m\u001b[0;34m)\u001b[0m\u001b[0;34m\u001b[0m\u001b[0;34m\u001b[0m\u001b[0m\n",
      "\u001b[0;32m/opt/conda/lib/python3.6/site-packages/pandas/util/_decorators.py\u001b[0m in \u001b[0;36mwrapper\u001b[0;34m(*args, **kwargs)\u001b[0m\n\u001b[1;32m    294\u001b[0m                 )\n\u001b[1;32m    295\u001b[0m                 \u001b[0mwarnings\u001b[0m\u001b[0;34m.\u001b[0m\u001b[0mwarn\u001b[0m\u001b[0;34m(\u001b[0m\u001b[0mmsg\u001b[0m\u001b[0;34m,\u001b[0m \u001b[0mFutureWarning\u001b[0m\u001b[0;34m,\u001b[0m \u001b[0mstacklevel\u001b[0m\u001b[0;34m=\u001b[0m\u001b[0mstacklevel\u001b[0m\u001b[0;34m)\u001b[0m\u001b[0;34m\u001b[0m\u001b[0;34m\u001b[0m\u001b[0m\n\u001b[0;32m--> 296\u001b[0;31m             \u001b[0;32mreturn\u001b[0m \u001b[0mfunc\u001b[0m\u001b[0;34m(\u001b[0m\u001b[0;34m*\u001b[0m\u001b[0margs\u001b[0m\u001b[0;34m,\u001b[0m \u001b[0;34m**\u001b[0m\u001b[0mkwargs\u001b[0m\u001b[0;34m)\u001b[0m\u001b[0;34m\u001b[0m\u001b[0;34m\u001b[0m\u001b[0m\n\u001b[0m\u001b[1;32m    297\u001b[0m \u001b[0;34m\u001b[0m\u001b[0m\n\u001b[1;32m    298\u001b[0m         \u001b[0;32mreturn\u001b[0m \u001b[0mwrapper\u001b[0m\u001b[0;34m\u001b[0m\u001b[0;34m\u001b[0m\u001b[0m\n",
      "\u001b[0;32m/opt/conda/lib/python3.6/site-packages/pandas/io/json/_json.py\u001b[0m in \u001b[0;36mread_json\u001b[0;34m(path_or_buf, orient, typ, dtype, convert_axes, convert_dates, keep_default_dates, numpy, precise_float, date_unit, encoding, lines, chunksize, compression, nrows)\u001b[0m\n\u001b[1;32m    616\u001b[0m         \u001b[0;32mreturn\u001b[0m \u001b[0mjson_reader\u001b[0m\u001b[0;34m\u001b[0m\u001b[0;34m\u001b[0m\u001b[0m\n\u001b[1;32m    617\u001b[0m \u001b[0;34m\u001b[0m\u001b[0m\n\u001b[0;32m--> 618\u001b[0;31m     \u001b[0mresult\u001b[0m \u001b[0;34m=\u001b[0m \u001b[0mjson_reader\u001b[0m\u001b[0;34m.\u001b[0m\u001b[0mread\u001b[0m\u001b[0;34m(\u001b[0m\u001b[0;34m)\u001b[0m\u001b[0;34m\u001b[0m\u001b[0;34m\u001b[0m\u001b[0m\n\u001b[0m\u001b[1;32m    619\u001b[0m     \u001b[0;32mif\u001b[0m \u001b[0mshould_close\u001b[0m\u001b[0;34m:\u001b[0m\u001b[0;34m\u001b[0m\u001b[0;34m\u001b[0m\u001b[0m\n\u001b[1;32m    620\u001b[0m         \u001b[0mfilepath_or_buffer\u001b[0m\u001b[0;34m.\u001b[0m\u001b[0mclose\u001b[0m\u001b[0;34m(\u001b[0m\u001b[0;34m)\u001b[0m\u001b[0;34m\u001b[0m\u001b[0;34m\u001b[0m\u001b[0m\n",
      "\u001b[0;32m/opt/conda/lib/python3.6/site-packages/pandas/io/json/_json.py\u001b[0m in \u001b[0;36mread\u001b[0;34m(self)\u001b[0m\n\u001b[1;32m    753\u001b[0m                 \u001b[0mobj\u001b[0m \u001b[0;34m=\u001b[0m \u001b[0mself\u001b[0m\u001b[0;34m.\u001b[0m\u001b[0m_get_object_parser\u001b[0m\u001b[0;34m(\u001b[0m\u001b[0mself\u001b[0m\u001b[0;34m.\u001b[0m\u001b[0m_combine_lines\u001b[0m\u001b[0;34m(\u001b[0m\u001b[0mdata\u001b[0m\u001b[0;34m)\u001b[0m\u001b[0;34m)\u001b[0m\u001b[0;34m\u001b[0m\u001b[0;34m\u001b[0m\u001b[0m\n\u001b[1;32m    754\u001b[0m         \u001b[0;32melse\u001b[0m\u001b[0;34m:\u001b[0m\u001b[0;34m\u001b[0m\u001b[0;34m\u001b[0m\u001b[0m\n\u001b[0;32m--> 755\u001b[0;31m             \u001b[0mobj\u001b[0m \u001b[0;34m=\u001b[0m \u001b[0mself\u001b[0m\u001b[0;34m.\u001b[0m\u001b[0m_get_object_parser\u001b[0m\u001b[0;34m(\u001b[0m\u001b[0mself\u001b[0m\u001b[0;34m.\u001b[0m\u001b[0mdata\u001b[0m\u001b[0;34m)\u001b[0m\u001b[0;34m\u001b[0m\u001b[0;34m\u001b[0m\u001b[0m\n\u001b[0m\u001b[1;32m    756\u001b[0m         \u001b[0mself\u001b[0m\u001b[0;34m.\u001b[0m\u001b[0mclose\u001b[0m\u001b[0;34m(\u001b[0m\u001b[0;34m)\u001b[0m\u001b[0;34m\u001b[0m\u001b[0;34m\u001b[0m\u001b[0m\n\u001b[1;32m    757\u001b[0m         \u001b[0;32mreturn\u001b[0m \u001b[0mobj\u001b[0m\u001b[0;34m\u001b[0m\u001b[0;34m\u001b[0m\u001b[0m\n",
      "\u001b[0;32m/opt/conda/lib/python3.6/site-packages/pandas/io/json/_json.py\u001b[0m in \u001b[0;36m_get_object_parser\u001b[0;34m(self, json)\u001b[0m\n\u001b[1;32m    775\u001b[0m         \u001b[0mobj\u001b[0m \u001b[0;34m=\u001b[0m \u001b[0;32mNone\u001b[0m\u001b[0;34m\u001b[0m\u001b[0;34m\u001b[0m\u001b[0m\n\u001b[1;32m    776\u001b[0m         \u001b[0;32mif\u001b[0m \u001b[0mtyp\u001b[0m \u001b[0;34m==\u001b[0m \u001b[0;34m\"frame\"\u001b[0m\u001b[0;34m:\u001b[0m\u001b[0;34m\u001b[0m\u001b[0;34m\u001b[0m\u001b[0m\n\u001b[0;32m--> 777\u001b[0;31m             \u001b[0mobj\u001b[0m \u001b[0;34m=\u001b[0m \u001b[0mFrameParser\u001b[0m\u001b[0;34m(\u001b[0m\u001b[0mjson\u001b[0m\u001b[0;34m,\u001b[0m \u001b[0;34m**\u001b[0m\u001b[0mkwargs\u001b[0m\u001b[0;34m)\u001b[0m\u001b[0;34m.\u001b[0m\u001b[0mparse\u001b[0m\u001b[0;34m(\u001b[0m\u001b[0;34m)\u001b[0m\u001b[0;34m\u001b[0m\u001b[0;34m\u001b[0m\u001b[0m\n\u001b[0m\u001b[1;32m    778\u001b[0m \u001b[0;34m\u001b[0m\u001b[0m\n\u001b[1;32m    779\u001b[0m         \u001b[0;32mif\u001b[0m \u001b[0mtyp\u001b[0m \u001b[0;34m==\u001b[0m \u001b[0;34m\"series\"\u001b[0m \u001b[0;32mor\u001b[0m \u001b[0mobj\u001b[0m \u001b[0;32mis\u001b[0m \u001b[0;32mNone\u001b[0m\u001b[0;34m:\u001b[0m\u001b[0;34m\u001b[0m\u001b[0;34m\u001b[0m\u001b[0m\n",
      "\u001b[0;32m/opt/conda/lib/python3.6/site-packages/pandas/io/json/_json.py\u001b[0m in \u001b[0;36mparse\u001b[0;34m(self)\u001b[0m\n\u001b[1;32m    884\u001b[0m \u001b[0;34m\u001b[0m\u001b[0m\n\u001b[1;32m    885\u001b[0m         \u001b[0;32melse\u001b[0m\u001b[0;34m:\u001b[0m\u001b[0;34m\u001b[0m\u001b[0;34m\u001b[0m\u001b[0m\n\u001b[0;32m--> 886\u001b[0;31m             \u001b[0mself\u001b[0m\u001b[0;34m.\u001b[0m\u001b[0m_parse_no_numpy\u001b[0m\u001b[0;34m(\u001b[0m\u001b[0;34m)\u001b[0m\u001b[0;34m\u001b[0m\u001b[0;34m\u001b[0m\u001b[0m\n\u001b[0m\u001b[1;32m    887\u001b[0m \u001b[0;34m\u001b[0m\u001b[0m\n\u001b[1;32m    888\u001b[0m         \u001b[0;32mif\u001b[0m \u001b[0mself\u001b[0m\u001b[0;34m.\u001b[0m\u001b[0mobj\u001b[0m \u001b[0;32mis\u001b[0m \u001b[0;32mNone\u001b[0m\u001b[0;34m:\u001b[0m\u001b[0;34m\u001b[0m\u001b[0;34m\u001b[0m\u001b[0m\n",
      "\u001b[0;32m/opt/conda/lib/python3.6/site-packages/pandas/io/json/_json.py\u001b[0m in \u001b[0;36m_parse_no_numpy\u001b[0;34m(self)\u001b[0m\n\u001b[1;32m   1117\u001b[0m         \u001b[0;32mif\u001b[0m \u001b[0morient\u001b[0m \u001b[0;34m==\u001b[0m \u001b[0;34m\"columns\"\u001b[0m\u001b[0;34m:\u001b[0m\u001b[0;34m\u001b[0m\u001b[0;34m\u001b[0m\u001b[0m\n\u001b[1;32m   1118\u001b[0m             self.obj = DataFrame(\n\u001b[0;32m-> 1119\u001b[0;31m                 \u001b[0mloads\u001b[0m\u001b[0;34m(\u001b[0m\u001b[0mjson\u001b[0m\u001b[0;34m,\u001b[0m \u001b[0mprecise_float\u001b[0m\u001b[0;34m=\u001b[0m\u001b[0mself\u001b[0m\u001b[0;34m.\u001b[0m\u001b[0mprecise_float\u001b[0m\u001b[0;34m)\u001b[0m\u001b[0;34m,\u001b[0m \u001b[0mdtype\u001b[0m\u001b[0;34m=\u001b[0m\u001b[0;32mNone\u001b[0m\u001b[0;34m\u001b[0m\u001b[0;34m\u001b[0m\u001b[0m\n\u001b[0m\u001b[1;32m   1120\u001b[0m             )\n\u001b[1;32m   1121\u001b[0m         \u001b[0;32melif\u001b[0m \u001b[0morient\u001b[0m \u001b[0;34m==\u001b[0m \u001b[0;34m\"split\"\u001b[0m\u001b[0;34m:\u001b[0m\u001b[0;34m\u001b[0m\u001b[0;34m\u001b[0m\u001b[0m\n",
      "\u001b[0;31mValueError\u001b[0m: Trailing data"
     ]
    }
   ],
   "source": [
    "review_df = pd.read_json('yelp_academic_dataset_review.json', lines = True)\n",
    "business_df = pd.read_json('yelp_academic_dataset_business.json', lines = True)"
   ]
  },
  {
   "cell_type": "markdown",
   "metadata": {
    "_cell_guid": "85af575f-fd5a-40a2-a9d2-3ec3669f800d",
    "_uuid": "9497a5b08bf0be4bf6bc25a15c3dc7f4f7266dce"
   },
   "source": [
    "Adding the name of the business. "
   ]
  },
  {
   "cell_type": "code",
   "execution_count": null,
   "metadata": {
    "_cell_guid": "03aeb5eb-e460-4b86-8155-248cb955c5c1",
    "_uuid": "61ec9ac4c7cce8ace7c9e618e0e87be6a4e02cbd",
    "collapsed": true
   },
   "outputs": [],
   "source": [
    "name_df = business_df[['business_id', 'name']]"
   ]
  },
  {
   "cell_type": "code",
   "execution_count": null,
   "metadata": {
    "_cell_guid": "8eb43fb3-4b28-4154-9de9-4c1bea6ec69c",
    "_uuid": "8b5fd48ff046961cca20e6352f9c3cb7f25a8ce8"
   },
   "outputs": [],
   "source": [
    "review_df = pd.merge(review_df, name_df, how = 'left', left_on = 'business_id', right_on = 'business_id')\n",
    "review_df.head()"
   ]
  },
  {
   "cell_type": "markdown",
   "metadata": {
    "_cell_guid": "a9017133-df88-4b6b-bee1-96f41b249a6e",
    "_uuid": "9c824bdae537da95755e18b652ea65eb6b91c2d5"
   },
   "source": [
    "I want to stem the words so we're not getting various forms of words that basically have the same meaning. I also tokenize the tokens so we're only getting words, including those with apostrophes. Below is a function to pass through as an argument in the TfidfVectorizer to override the tokenizing and to add the stemming. "
   ]
  },
  {
   "cell_type": "code",
   "execution_count": null,
   "metadata": {
    "_cell_guid": "8ac2c802-68ae-4321-b844-7231f1b1a80d",
    "_uuid": "28cbb47b21e7d619f5075110f65fbac8865ab755",
    "collapsed": true
   },
   "outputs": [],
   "source": [
    "snowball = SnowballStemmer('english')\n",
    "tokenizer = RegexpTokenizer(r'[a-zA-Z\\']+')\n",
    "\n",
    "def tokenize(text):\n",
    "    return [snowball.stem(word) for word in tokenizer.tokenize(text.lower())]"
   ]
  },
  {
   "cell_type": "markdown",
   "metadata": {
    "_cell_guid": "00ac273b-871b-4a15-9594-a06ced68e990",
    "_uuid": "0b50973fa9601d412f26de604d81394cfd371115"
   },
   "source": [
    "Below is a function that will vectorize the words of the corpus (in this case, the group of reviews for the business). The function returns the resulting tfidf matrix and the complete list of words used in all of the reviews. "
   ]
  },
  {
   "cell_type": "code",
   "execution_count": null,
   "metadata": {
    "_cell_guid": "843726c3-57ff-4ee5-bc36-664312e985e9",
    "_uuid": "5b8518f19210b7ff081b0064af0e7d7a16781537",
    "collapsed": true
   },
   "outputs": [],
   "source": [
    "def vectorize_reviews(reviews):\n",
    "    vectorizer = TfidfVectorizer(stop_words = 'english', tokenizer = tokenize, max_features = 1000)\n",
    "    X = vectorizer.fit_transform(reviews)\n",
    "    words = vectorizer.get_feature_names()\n",
    "    return X, words"
   ]
  },
  {
   "cell_type": "markdown",
   "metadata": {
    "_cell_guid": "40d4e52e-b400-4f7f-b023-8edb88b27685",
    "_uuid": "c9ac863054421db990c185a2edc87da68eaa3651"
   },
   "source": [
    "Each cluster that kMeans finds is a general topic of the reviews as a whole and is represented by words or groups of words. Each dimension in the cluster center coordinates is the relative frequency for a word in that cluster. We can find the indices of the words with highest frequency in each cluster and these indices correspond to their respective word in the array of tokens. That way we can take a look at the words that represent the clusters the most and get an idea of what the latent topics are. "
   ]
  },
  {
   "cell_type": "code",
   "execution_count": null,
   "metadata": {
    "_cell_guid": "14bfbb95-1e9b-4ab9-889e-b93e9d1f9d7e",
    "_uuid": "afe400750c26dc11a72ab343d804cd094c7fc117",
    "collapsed": true
   },
   "outputs": [],
   "source": [
    "def print_clusters(company_id, K = 8, num_words = 10):\n",
    "    company_df = review_df[review_df['business_id'] == company_id]\n",
    "    company_name = company_df['name'].unique()[0]\n",
    "    reviews = company_df['text'].values\n",
    "    X, words = vectorize_reviews(reviews)\n",
    "    \n",
    "    kmeans = KMeans(n_clusters = K)\n",
    "    kmeans.fit(X)\n",
    "    \n",
    "    common_words = kmeans.cluster_centers_.argsort()[:,-1:-num_words-1:-1]\n",
    "    print('Groups of ' + str(num_words) + ' words typically used together in reviews for ' + \\\n",
    "          company_name)\n",
    "    for num, centroid in enumerate(common_words):\n",
    "        print(str(num) + ' : ' + ', '.join(words[word] for word in centroid))"
   ]
  },
  {
   "cell_type": "markdown",
   "metadata": {
    "_cell_guid": "b50846dd-29ac-445f-a906-163e598e9ead",
    "_uuid": "8dc4ad411a4598cc5da004c9d98952413b240676"
   },
   "source": [
    "Let's try this out with an actual business. I love Tacos El Gordo so let's focus on the location in Downtown Las Vegas. \n",
    "\n",
    "First taking a look at the distribution of the ratings at this location. A lot of higher stars so we can probably expect that the ratings will have some pretty positive things said in them. Let's see if we can take a peek...\n",
    "\n",
    "For now I randomly chose 4 clusters and the top 12 words in each one. Although we can see words that are commonly used, it's sort of difficult to put together what people are really saying. The first cluster might represent the positive feelings the customers generally have. The second seems to represent the long lines but how people still think it's worth it despite the wait time. The other clusters could be talking about the top types of tacos they like to order"
   ]
  },
  {
   "cell_type": "code",
   "execution_count": null,
   "metadata": {
    "_cell_guid": "e0d85ead-c8d7-4949-8d17-e9ed892ed80c",
    "_uuid": "0b9c4cb7b448bd3691d58003c987a0d51e22bc26"
   },
   "outputs": [],
   "source": [
    "#Tacos El Gordo in Downtown Las Vegas\n",
    "bus_id = 'CiYLq33nAyghFkUR15pP-Q'\n",
    "company_df = review_df[review_df['business_id'] == bus_id]\n",
    "sns.countplot(x = company_df['stars'])"
   ]
  },
  {
   "cell_type": "code",
   "execution_count": null,
   "metadata": {
    "_uuid": "28983526f85b90afac0079e49fc8747a9b43b228"
   },
   "outputs": [],
   "source": [
    "print_clusters(bus_id, K = 5, num_words = 12)"
   ]
  },
  {
   "cell_type": "markdown",
   "metadata": {
    "_uuid": "4773e6e5b990b6cd1e4f436a364f226de2470de0"
   },
   "source": [
    "For my initial analysis, I did not look at any ngrams. Including ngrams will allow us to see what groups of adjacent words in reviews are used frequently in reviews and more importantly, will give us a clearer and structured understanding of what people are saying; rather than just looking at single words in random order, hopefully the algorithm can identify groups of words that will be more coherent.\n",
    "\n",
    "Adjusting some of the TfidfVectorizer arguments..."
   ]
  },
  {
   "cell_type": "code",
   "execution_count": null,
   "metadata": {
    "_cell_guid": "d72928dd-47c5-4024-9089-b5ece658c4b2",
    "_uuid": "a297f198e224107cccbacd909a2dcc8dd8318da8",
    "collapsed": true
   },
   "outputs": [],
   "source": [
    "def vectorize_reviews2(reviews):\n",
    "    vectorizer = TfidfVectorizer(stop_words = 'english', tokenizer = tokenize, \\\n",
    "                        min_df = 0.0025, max_df = 0.05, max_features = 1000, ngram_range = (1, 3))\n",
    "    X = vectorizer.fit_transform(reviews)\n",
    "    words = vectorizer.get_feature_names()\n",
    "    return X, words"
   ]
  },
  {
   "cell_type": "code",
   "execution_count": null,
   "metadata": {
    "_cell_guid": "7b99e099-84ed-449e-8284-91e45a15883f",
    "_uuid": "b322d68d0ac42f8f2c9ab49370a0ff664f6c7da6",
    "collapsed": true
   },
   "outputs": [],
   "source": [
    "def print_clusters2(company_id, K = 8, num_words = 10):\n",
    "    company_df = review_df[review_df['business_id'] == company_id]\n",
    "    company_name = company_df['name'].unique()[0]\n",
    "    reviews = company_df['text'].values\n",
    "    X, words = vectorize_reviews2(reviews)\n",
    "    \n",
    "    kmeans = KMeans(n_clusters = K)\n",
    "    kmeans.fit(X)\n",
    "    \n",
    "    common_words = kmeans.cluster_centers_.argsort()[:,-1:-num_words-1:-1]\n",
    "    print('Groups of ' + str(num_words) + ' words typically used together in reviews for ' + \\\n",
    "          company_name)\n",
    "    for num, centroid in enumerate(common_words):\n",
    "        print(str(num) + ' : ' + ', '.join(words[word] for word in centroid))"
   ]
  },
  {
   "cell_type": "markdown",
   "metadata": {
    "_uuid": "ef129065303179532b7deec3b71a22b11d47d6ae"
   },
   "source": [
    "In the clusters above, it was hard to put the words together to form an idea of what was being said. For example, in cluster 3, are people saying it's a great place? Great food? Great price? Using ngrams let's us figure that out a little better by including groups of adjacent words in our vectorizer. \n",
    "\n",
    "Looking at the clusters below (again random K and num_words), people are saying it's worth the wait, they talk about the al pastor tacos a lot, etc. It still might not be the best view but it's better than guessing putting the words together on our own."
   ]
  },
  {
   "cell_type": "code",
   "execution_count": null,
   "metadata": {
    "_cell_guid": "d7938420-a46c-4184-805c-ab15e642c9a1",
    "_uuid": "7f3451af83a123006d2b0ce9e189dd15aeee418a"
   },
   "outputs": [],
   "source": [
    "print_clusters2(bus_id, K = 3, num_words = 12)"
   ]
  },
  {
   "cell_type": "markdown",
   "metadata": {
    "_uuid": "15d175d9fea5acceb8960a31e7aee25761b60f5f"
   },
   "source": [
    "I attempted to use the elbow plot to determine what K is optimal to use. We want to choose the value of k that will minimize the within cluster variance, which is what the elbow plot graphs. However, we unfortunately don't always get a clear elbow, or an elbow at all as in this case, which means the data might not be easy to cluster or something else. It could be that since there's a skew in higher stars, that it's hard to cluster with more positive reviews. It would also be interesting to look at the silhouette score to see if that can better identify a value of K. "
   ]
  },
  {
   "cell_type": "code",
   "execution_count": null,
   "metadata": {
    "_cell_guid": "a79d15a5-7a18-4641-9b61-2044a09304aa",
    "_uuid": "38917ef61e0e9eaed0a6bcdcfdd8ee895c29a181",
    "collapsed": true
   },
   "outputs": [],
   "source": [
    "def elbow_plot(X, k_start, k_end):\n",
    "    \n",
    "    distortions = []\n",
    "    K = range(k_start, k_end + 1)\n",
    "    for k in K:\n",
    "        kmeans = KMeans(n_clusters = k)\n",
    "        kmeans.fit(X)\n",
    "        distortions.append(kmeans.inertia_)\n",
    "\n",
    "    fig = plt.figure(figsize=(10, 5))\n",
    "    plt.plot(K, distortions)\n",
    "    plt.xticks(K)\n",
    "    plt.title('Elbow curve')\n",
    "    "
   ]
  },
  {
   "cell_type": "markdown",
   "metadata": {
    "_uuid": "807d969aa552a4c748af2db8908fc91c77633e1d"
   },
   "source": [
    "No elbow :/"
   ]
  },
  {
   "cell_type": "code",
   "execution_count": null,
   "metadata": {
    "_cell_guid": "852d91b5-87e2-46cc-84a6-6fcea7b68755",
    "_uuid": "9e357b1279b7127e70ad3469c28776999ee2e283"
   },
   "outputs": [],
   "source": [
    "reviews = company_df['text'].values\n",
    "X, words = vectorize_reviews2(reviews)\n",
    "elbow_plot(X, 1, 10)"
   ]
  },
  {
   "cell_type": "markdown",
   "metadata": {
    "_kg_hide-input": true,
    "_uuid": "92ef8afb4c8db903df82efca5d79627c0c7e95db"
   },
   "source": [
    "Let's look at a business that has a wider distribution of star values. I'll choose Ginseng Korean BBQ II."
   ]
  },
  {
   "cell_type": "code",
   "execution_count": null,
   "metadata": {
    "_cell_guid": "2b37246b-a380-4d06-a3af-14a341767047",
    "_uuid": "9529888ded971d9494e521342428d45655fcbcd1"
   },
   "outputs": [],
   "source": [
    "agg = review_df.groupby('name').filter(lambda x: len(x) > 100)\n",
    "agg = agg.groupby('name')['stars'].mean()\n",
    "agg[agg == 3.0]"
   ]
  },
  {
   "cell_type": "code",
   "execution_count": null,
   "metadata": {
    "_cell_guid": "c2dda89a-a7b1-4587-87d8-7387efcbd663",
    "_uuid": "418720875f983d44f67d7a8c61b6930e3ddc025f"
   },
   "outputs": [],
   "source": [
    "review_df[review_df['name'] == '\"Ginseng Korean BBQ II\"']"
   ]
  },
  {
   "cell_type": "markdown",
   "metadata": {
    "_uuid": "077aa42d55c0e3945a0cff283d0193702c31af45"
   },
   "source": [
    "Even with ngrams, it's still a little hard to understand what people are saying. Sounds like some people think there's great food, while others think it's the worst korean food and poor service. This could potentially help the owner identify problems they need to address."
   ]
  },
  {
   "cell_type": "code",
   "execution_count": null,
   "metadata": {
    "_cell_guid": "bf723565-7d3d-4415-8328-9ec7d1e8276a",
    "_uuid": "5a9ff95a700f4ad228eb436081f2fc916b362ef0"
   },
   "outputs": [],
   "source": [
    "bus_id2 = 'EkuSy_kM8dpGrlb2pTxCBw'\n",
    "company_df2 = review_df[review_df['business_id'] == bus_id2]\n",
    "sns.countplot(x = company_df2['stars'])"
   ]
  },
  {
   "cell_type": "code",
   "execution_count": null,
   "metadata": {
    "_uuid": "5a357bd15344cafb4514cc2be194671b57e1073e"
   },
   "outputs": [],
   "source": [
    "print_clusters2(bus_id2, K = 3, num_words = 20)"
   ]
  },
  {
   "cell_type": "markdown",
   "metadata": {
    "_uuid": "3069d9720c1ad22ac63dc368591875180da40278"
   },
   "source": [
    "I was hoping with the wider range of review types that there would be a clearer elbow plot but doesn't look like it..."
   ]
  },
  {
   "cell_type": "code",
   "execution_count": null,
   "metadata": {
    "_cell_guid": "49dc8f43-7a22-491b-b1d4-d245675f3196",
    "_uuid": "485bf3f1c3f21a5da71e25816d68c7c2977b9ad9"
   },
   "outputs": [],
   "source": [
    "reviews2 = company_df2['text'].values\n",
    "X2, words2 = vectorize_reviews2(reviews2)\n",
    "elbow_plot(X, 1, 10)"
   ]
  },
  {
   "cell_type": "markdown",
   "metadata": {
    "_cell_guid": "1c6056ff-36fd-46e9-a556-db53f417a1d8",
    "_uuid": "c205097b14fae1089bfbc0bf8c98d19cffa702fe"
   },
   "source": [
    "## Sentiment Analysis\n",
    "\n",
    "Just taking a look at average polarity and subjectivity the two restaurants we looked at have. Both have positive polarity but Tacos El Gordo has a higher average, which makes sense since it has more positive reviews."
   ]
  },
  {
   "cell_type": "code",
   "execution_count": null,
   "metadata": {
    "_cell_guid": "9c227a7f-a7e8-4377-bab9-684ed2fbe343",
    "_uuid": "f0d11fa3fea4441019af5afc5dbacf454e19b33f",
    "collapsed": true
   },
   "outputs": [],
   "source": [
    "def calc_polarity(text):\n",
    "    blob = tb.TextBlob(text)\n",
    "    return blob.sentiment.polarity\n",
    "\n",
    "def calc_subjectivity(text):\n",
    "    blob = tb.TextBlob(text)\n",
    "    return blob.sentiment.subjectivity"
   ]
  },
  {
   "cell_type": "code",
   "execution_count": null,
   "metadata": {
    "_cell_guid": "7dc490a5-8557-4e03-98a9-cf99ffdff330",
    "_uuid": "6a918b084bc259c978cf93aed804f2a66c548c76",
    "collapsed": true
   },
   "outputs": [],
   "source": [
    "def get_pol_sub(company_id):\n",
    "    company_df = review_df[review_df['business_id'] == company_id]\n",
    "    company_name = company_df['name'].unique()[0]\n",
    "    company_df['polarity'] = company_df['text'].apply(calc_polarity)\n",
    "    company_df['subjectivity'] = company_df['text'].apply(calc_subjectivity)\n",
    "    \n",
    "    print('Company:' + company_name + '\\nMean Polarity: ' + str(company_df['polarity'].mean())\\\n",
    "          + '\\nMean Subjectivity: ' + str(company_df['subjectivity'].mean()))"
   ]
  },
  {
   "cell_type": "code",
   "execution_count": null,
   "metadata": {
    "_cell_guid": "a1595bbc-72e2-415b-82dd-c259cf4b11ff",
    "_uuid": "0997abcf96b5266edc2c7a3403bb274118cbe582"
   },
   "outputs": [],
   "source": [
    "get_pol_sub(bus_id)"
   ]
  },
  {
   "cell_type": "code",
   "execution_count": null,
   "metadata": {
    "_cell_guid": "23fd9dd3-91b2-4c65-9160-fd228115ffbb",
    "_uuid": "7f6f24cbb41b619759542d367d9886861fa25c2d"
   },
   "outputs": [],
   "source": [
    "get_pol_sub(bus_id2)"
   ]
  },
  {
   "cell_type": "markdown",
   "metadata": {
    "_cell_guid": "24186379-04ad-4c91-b208-69b47d1ed65b",
    "_uuid": "dce8a5a0e328a4e64951f7f26b7913b54ca28f6a",
    "collapsed": true
   },
   "source": [
    "## Further Investigation\n",
    "\n",
    "That was a preliminary analysis to get an idea of what common things are said about your business. \n",
    "\n",
    "We could further investigate by looking at a couple of reviews that have words found in our clusters to get that 'better understanding' of what's really being said. That way, you can see what things you're doing well and things you might want to improve on. Another thing is to look at only reviews with 3 or so stars and less (or above) and cluster from there to narrow down bad and good topics. \n",
    "\n",
    "Any suggestions with the ngrams or analysis would be great!"
   ]
  },
  {
   "cell_type": "code",
   "execution_count": null,
   "metadata": {
    "_uuid": "d98e12886e57115dae5195f4868f3f3276b6913c",
    "collapsed": true
   },
   "outputs": [],
   "source": []
  }
 ],
 "metadata": {
  "kernelspec": {
   "display_name": "Python 3",
   "language": "python",
   "name": "python3"
  },
  "language_info": {
   "codemirror_mode": {
    "name": "ipython",
    "version": 3
   },
   "file_extension": ".py",
   "mimetype": "text/x-python",
   "name": "python",
   "nbconvert_exporter": "python",
   "pygments_lexer": "ipython3",
   "version": "3.6.11"
  }
 },
 "nbformat": 4,
 "nbformat_minor": 1
}
