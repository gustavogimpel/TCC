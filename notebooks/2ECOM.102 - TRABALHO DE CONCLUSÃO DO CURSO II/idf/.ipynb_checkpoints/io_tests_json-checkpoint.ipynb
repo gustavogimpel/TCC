{
 "cells": [
  {
   "cell_type": "code",
   "execution_count": 1,
   "metadata": {},
   "outputs": [],
   "source": [
    "import sys\n",
    "import numpy as np\n",
    "import pandas as pd\n",
    "from timeit import default_timer as timer"
   ]
  },
  {
   "cell_type": "code",
   "execution_count": 2,
   "metadata": {},
   "outputs": [],
   "source": [
    "df = None\n",
    "arr_read_files_1 = [\"100.json\",\"500.json\",\"1000.json\",\"5000.json\",\"10000.json\",\"50000.json\",\"100000.json\",\"500000.json\",\"1000000.json\"]\n",
    "arr_read_files_2 = [\"8000000.json\"]#,\"8000000.json\"]\n",
    "    \n",
    "def getPath(filename):\n",
    "    return \"./filtered/\" + filename;\n",
    "\n",
    "def getOutputFilename(filename):\n",
    "    split = filename.split(\".\")\n",
    "    return \"output/\" + split[0] + \"_out.\" + split[1]\n",
    "\n",
    "def readDataset(filename):\n",
    "    #return pd.read_json('yelp_academic_dataset_review.json', lines = True)\n",
    "    return pd.read_json(getPath(filename))\n",
    "\n",
    "def writeDataset(df, filename):\n",
    "    #return pd.read_json('yelp_academic_dataset_review.json', lines = True)\n",
    "    df.to_json(getPath(getOutputFilename(filename)))"
   ]
  },
  {
   "cell_type": "markdown",
   "metadata": {},
   "source": [
    "## `TESTE DE LEITURA DOS ARQUIVOS`"
   ]
  },
  {
   "cell_type": "code",
   "execution_count": 3,
   "metadata": {},
   "outputs": [
    {
     "name": "stdout",
     "output_type": "stream",
     "text": [
      "[01] 5000000: 72.595 segundos\n"
     ]
    }
   ],
   "source": [
    "arr_json_sizes = {}\n",
    "arr_json_read_timings = {}\n",
    "for filename in arr_read_files_2:\n",
    "    arr_sizes = []\n",
    "    arr_timings = []    \n",
    "    for i in range(1):\n",
    "        \n",
    "        starttime = timer()\n",
    "        df = readDataset(filename)\n",
    "        count = len(df.index)\n",
    "        endtime = timer()\n",
    "        \n",
    "        size = sys.getsizeof(df)\n",
    "        df = None\n",
    "        \n",
    "        arr_sizes.append(size)\n",
    "        arr_timings.append(endtime-starttime)\n",
    "        print(\"[\"+\"{:02d}\".format(i+1)+\"] \"+ str(count) + \": \" + str(round(endtime-starttime, 3)) + \" segundos\")\n",
    "        \n",
    "    arr_json_sizes[filename] = str(np.mean(arr_sizes)) + \" kb\"\n",
    "    arr_json_read_timings[filename] = str(round(np.mean(arr_timings), 3))  + \" segundos\""
   ]
  },
  {
   "cell_type": "code",
   "execution_count": 4,
   "metadata": {},
   "outputs": [
    {
     "data": {
      "text/plain": [
       "{'5000000.json': '5749747960.0 kb'}"
      ]
     },
     "execution_count": 4,
     "metadata": {},
     "output_type": "execute_result"
    }
   ],
   "source": [
    "arr_json_sizes"
   ]
  },
  {
   "cell_type": "markdown",
   "metadata": {},
   "source": [
    "## `TESTE DE ESCRITA DOS ARQUIVOS`"
   ]
  },
  {
   "cell_type": "code",
   "execution_count": 5,
   "metadata": {},
   "outputs": [
    {
     "name": "stdout",
     "output_type": "stream",
     "text": [
      "[01] 5000000: 31.894 segundos\n"
     ]
    }
   ],
   "source": [
    "arr_json_write_timings = {}\n",
    "for filename in arr_read_files_2:\n",
    "    df = readDataset(filename)\n",
    "    count = len(df.index)\n",
    "    arr_timings = []    \n",
    "    for i in range(1):\n",
    "        \n",
    "        starttime = timer()\n",
    "        writeDataset(df, filename)\n",
    "        endtime = timer()\n",
    "        \n",
    "        arr_timings.append(endtime-starttime)\n",
    "        print(\"[\"+\"{:02d}\".format(i+1)+\"] \"+ str(count) + \": \" + str(round(endtime-starttime, 3)) + \" segundos\")\n",
    "        \n",
    "    arr_json_write_timings[filename] = str(round(np.mean(arr_timings), 3))  + \" segundos\""
   ]
  },
  {
   "cell_type": "markdown",
   "metadata": {},
   "source": [
    "## `MÉDIA DO TEMPO DE LEITURA DOS ARQUIVOS`"
   ]
  },
  {
   "cell_type": "code",
   "execution_count": 6,
   "metadata": {},
   "outputs": [
    {
     "data": {
      "text/plain": [
       "{'5000000.json': '72.595 segundos'}"
      ]
     },
     "execution_count": 6,
     "metadata": {},
     "output_type": "execute_result"
    }
   ],
   "source": [
    "arr_json_read_timings"
   ]
  },
  {
   "cell_type": "markdown",
   "metadata": {},
   "source": [
    "## `MÉDIA DO TEMPO DE ESCRITA DOS ARQUIVOS`"
   ]
  },
  {
   "cell_type": "code",
   "execution_count": 7,
   "metadata": {},
   "outputs": [
    {
     "data": {
      "text/plain": [
       "{'5000000.json': '31.894 segundos'}"
      ]
     },
     "execution_count": 7,
     "metadata": {},
     "output_type": "execute_result"
    }
   ],
   "source": [
    "arr_json_write_timings"
   ]
  },
  {
   "cell_type": "markdown",
   "metadata": {},
   "source": [
    "## `MÉDIA DO TAMANHO DOS ARQUIVOS`"
   ]
  },
  {
   "cell_type": "code",
   "execution_count": 8,
   "metadata": {},
   "outputs": [
    {
     "data": {
      "text/plain": [
       "{'5000000.json': '5749747960.0 kb'}"
      ]
     },
     "execution_count": 8,
     "metadata": {},
     "output_type": "execute_result"
    }
   ],
   "source": [
    "arr_json_sizes"
   ]
  }
 ],
 "metadata": {
  "kernelspec": {
   "display_name": "Python 3",
   "language": "python",
   "name": "python3"
  },
  "language_info": {
   "codemirror_mode": {
    "name": "ipython",
    "version": 3
   },
   "file_extension": ".py",
   "mimetype": "text/x-python",
   "name": "python",
   "nbconvert_exporter": "python",
   "pygments_lexer": "ipython3",
   "version": "3.6.11"
  }
 },
 "nbformat": 4,
 "nbformat_minor": 4
}
