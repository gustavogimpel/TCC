{
 "cells": [
  {
   "cell_type": "code",
   "execution_count": 1,
   "metadata": {},
   "outputs": [],
   "source": [
    "import sys\n",
    "import numpy as np\n",
    "import pandas as pd\n",
    "\n",
    "from pyspark.sql import SparkSession\n",
    "from pyspark.sql import SQLContext\n",
    "\n",
    "from timeit import default_timer as timer\n",
    "\n",
    "MONGODB_HOST = \"192.168.0.15\"\n",
    "MONGODB_PORT = \"27017\"\n",
    "MAX_WORKERS = 4\n",
    "ITERATIONS = 2"
   ]
  },
  {
   "cell_type": "code",
   "execution_count": 2,
   "metadata": {},
   "outputs": [],
   "source": [
    "arr_collections_debug = [\"5000000\",\"8000000\"]\n",
    "arr_collections = [\"100\",\"500\",\"1000\",\"5000\",\"10000\",\"50000\",\"100000\",\"500000\",\"1000000\",\"5000000\",\"8000000\"]\n",
    "\n",
    "df = None\n",
    "#.config(\"spark.shuffle.service.enabled\", True) \\\n",
    "#.config(\"spark.dynamicAllocation.enabled\", True) \\\n",
    "#.config(\"spark.dynamicAllocation.minExecutors\", MAX_WORKERS) \\\n",
    "spark = SparkSession.builder \\\n",
    "    .appName(\"io_tests_mongodb\") \\\n",
    "    .master(\"spark://spark:7077\") \\\n",
    "    .config(\"spark.jars.packages\", \"org.mongodb.spark:mongo-spark-connector_2.12:3.0.0\") \\\n",
    "    .getOrCreate()\n",
    "sqlContext = SQLContext(spark)\n",
    "    \n",
    "def getCollectionReadURL(collection):\n",
    "    return \"mongodb://\" + MONGODB_HOST + \":\" + MONGODB_PORT + \"/yelp_filtered_read.\" + collection + \"?ssl=false\"\n",
    "\n",
    "def getCollectionWriteURL(collection):\n",
    "    return \"mongodb://\" + MONGODB_HOST + \":\" + MONGODB_PORT + \"/yelp_filtered_write.\" + collection + \"?ssl=false\"\n",
    "\n",
    "def readFromCollection(url):\n",
    "    return spark.read.format(\"com.mongodb.spark.sql.DefaultSource\").option(\"uri\", url).load()\n",
    "    \n",
    "def writeToCollection(df, url):\n",
    "    df.write.format(\"mongo\").mode(\"append\").option(\"uri\", url).save()\n",
    "    "
   ]
  },
  {
   "cell_type": "markdown",
   "metadata": {},
   "source": [
    "## `TESTE DE LEITURA DOS ARQUIVOS`"
   ]
  },
  {
   "cell_type": "code",
   "execution_count": 3,
   "metadata": {},
   "outputs": [
    {
     "name": "stdout",
     "output_type": "stream",
     "text": [
      "Ignored: 220.50992449999995\n",
      "[01] 5000000: 183.566 segundos\n",
      "[01] 7991122: 320.446 segundos\n"
     ]
    }
   ],
   "source": [
    "firstRun = True\n",
    "arr_collection_sizes = {}\n",
    "arr_collection_read_timings = {}\n",
    "for collection in arr_collections_debug:\n",
    "    arr_sizes = []\n",
    "    arr_timings = []    \n",
    "    for i in range(1):\n",
    "        \n",
    "        url = getCollectionReadURL(collection)\n",
    "        \n",
    "        starttime = timer()\n",
    "        df = readFromCollection(url)\n",
    "        count = df.count()\n",
    "        endtime = timer()\n",
    "        \n",
    "        if(firstRun):\n",
    "            print(\"Ignored: \" + str(endtime-starttime))\n",
    "            firstRun = False\n",
    "            starttime = timer()\n",
    "            df = readFromCollection(url)\n",
    "            count = df.count()\n",
    "            endtime = timer()\n",
    "        \n",
    "        size = sys.getsizeof(df)\n",
    "        \n",
    "        arr_sizes.append(size)\n",
    "        arr_timings.append(endtime-starttime)\n",
    "        print(\"[\"+\"{:02d}\".format(i+1)+\"] \"+ str(count) + \": \" + str(round(endtime-starttime, 3)) + \" segundos\")\n",
    "        \n",
    "    arr_collection_sizes[collection] = str(np.mean(arr_sizes)) + \" kb\"\n",
    "    arr_collection_read_timings[collection] = str(round(np.mean(arr_timings), 3)) + \" segundos\""
   ]
  },
  {
   "cell_type": "markdown",
   "metadata": {},
   "source": [
    "## `TESTE DE ESCRITA DOS ARQUIVOS`"
   ]
  },
  {
   "cell_type": "code",
   "execution_count": 4,
   "metadata": {},
   "outputs": [
    {
     "name": "stdout",
     "output_type": "stream",
     "text": [
      "Ignored: 356.838491\n",
      "[01] 5000000: 299.706 segundos\n",
      "[01] 7991122: 603.113 segundos\n"
     ]
    }
   ],
   "source": [
    "firstRun = True\n",
    "arr_collection_write_timings = {}\n",
    "for collection in arr_collections_debug:\n",
    "    urlRead = getCollectionReadURL(collection)\n",
    "    df = readFromCollection(urlRead)\n",
    "    count = df.count()\n",
    "    arr_timings = []    \n",
    "    for i in range(1):\n",
    "        url = getCollectionWriteURL(collection)\n",
    "        \n",
    "        starttime = timer()\n",
    "        writeToCollection(df, url)\n",
    "        endtime = timer()\n",
    "        \n",
    "        if(firstRun):\n",
    "            print(\"Ignored: \" + str(endtime-starttime))\n",
    "            firstRun = False\n",
    "            starttime = timer()\n",
    "            writeToCollection(df, url)\n",
    "            endtime = timer()\n",
    "        \n",
    "        arr_timings.append(endtime-starttime)\n",
    "        print(\"[\"+\"{:02d}\".format(i+1)+\"] \"+ str(count) + \": \" + str(round(endtime-starttime, 3)) + \" segundos\")\n",
    "        \n",
    "    arr_collection_write_timings[collection] = str(round(np.mean(arr_timings), 3)) + \" segundos\""
   ]
  },
  {
   "cell_type": "markdown",
   "metadata": {},
   "source": [
    "## `MÉDIA DO TEMPO DE LEITURA DOS ARQUIVOS`"
   ]
  },
  {
   "cell_type": "code",
   "execution_count": 5,
   "metadata": {},
   "outputs": [
    {
     "data": {
      "text/plain": [
       "{'5000000': '183.566 segundos', '8000000': '320.446 segundos'}"
      ]
     },
     "execution_count": 5,
     "metadata": {},
     "output_type": "execute_result"
    }
   ],
   "source": [
    "arr_collection_read_timings"
   ]
  },
  {
   "cell_type": "markdown",
   "metadata": {},
   "source": [
    "## `MÉDIA DO TEMPO DE ESCRITA DOS ARQUIVOS`"
   ]
  },
  {
   "cell_type": "code",
   "execution_count": 6,
   "metadata": {},
   "outputs": [
    {
     "data": {
      "text/plain": [
       "{'5000000': '299.706 segundos', '8000000': '603.113 segundos'}"
      ]
     },
     "execution_count": 6,
     "metadata": {},
     "output_type": "execute_result"
    }
   ],
   "source": [
    "arr_collection_write_timings"
   ]
  },
  {
   "cell_type": "markdown",
   "metadata": {},
   "source": [
    "## `MÉDIA DO TAMANHO DOS ARQUIVOS`"
   ]
  },
  {
   "cell_type": "code",
   "execution_count": 7,
   "metadata": {},
   "outputs": [
    {
     "data": {
      "text/plain": [
       "{'5000000': '56.0 kb', '8000000': '56.0 kb'}"
      ]
     },
     "execution_count": 7,
     "metadata": {},
     "output_type": "execute_result"
    }
   ],
   "source": [
    "arr_collection_sizes"
   ]
  },
  {
   "cell_type": "code",
   "execution_count": null,
   "metadata": {},
   "outputs": [],
   "source": []
  }
 ],
 "metadata": {
  "kernelspec": {
   "display_name": "Python 3",
   "language": "python",
   "name": "python3"
  },
  "language_info": {
   "codemirror_mode": {
    "name": "ipython",
    "version": 3
   },
   "file_extension": ".py",
   "mimetype": "text/x-python",
   "name": "python",
   "nbconvert_exporter": "python",
   "pygments_lexer": "ipython3",
   "version": "3.6.11"
  }
 },
 "nbformat": 4,
 "nbformat_minor": 4
}
